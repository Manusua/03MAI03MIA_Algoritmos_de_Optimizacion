{
  "cells": [
    {
      "cell_type": "markdown",
      "metadata": {
        "id": "view-in-github",
        "colab_type": "text"
      },
      "source": [
        "<a href=\"https://colab.research.google.com/github/Manusua/03MIA_Algoritmos_de_Optimizacion/blob/main/Retos/Algoritmos_R1.ipynb\" target=\"_parent\"><img src=\"https://colab.research.google.com/assets/colab-badge.svg\" alt=\"Open In Colab\"/></a>"
      ]
    },
    {
      "cell_type": "markdown",
      "metadata": {
        "id": "kQn6fbhgtH9I"
      },
      "source": [
        "# Algoritmos de optimización - Reto 1\n",
        "\n",
        "Nombre: Manuel Suárez Román <br>\n",
        "[Enlace a Github](https://github.com/Manusua/03MIA_Algoritmos_de_Optimizacion)<br>"
      ]
    },
    {
      "cell_type": "markdown",
      "metadata": {
        "id": "_t62Ge7ZuKnC"
      },
      "source": [
        "## Torres de Hanoi con Divide y vencerás\n",
        "\n",
        "Resuelve el problema de las [Torres de Hanoi](https://es.wikipedia.org/wiki/Torres_de_Han%C3%B3i) para un número arbitrario de fichas utilizando la técnica de divide y vencerás."
      ]
    },
    {
      "cell_type": "code",
      "execution_count": 6,
      "metadata": {
        "id": "i32G0CUQvauE"
      },
      "outputs": [],
      "source": [
        "# Torres de Hanoi\n",
        "def hanoi_dv(num_fichas, origen, destino, auxiliar):\n",
        "    if num_fichas == 1:\n",
        "        print(\"Ficha: \", origen, \"-->\", destino)\n",
        "    else:\n",
        "        hanoi_dv(num_fichas-1, origen, auxiliar, destino)\n",
        "        print(\"Ficha: \", origen, \"-->\", destino)\n",
        "        hanoi_dv(num_fichas-1, auxiliar, destino, origen)"
      ]
    },
    {
      "cell_type": "code",
      "source": [
        "# Prueba 1\n",
        "num_fichas = 3\n",
        "hanoi_dv(num_fichas, 'A', 'C', 'B')"
      ],
      "metadata": {
        "colab": {
          "base_uri": "https://localhost:8080/"
        },
        "id": "V2ftXADwwGM1",
        "outputId": "3f3d8ce0-3b54-4601-c36c-922f40368e6a"
      },
      "execution_count": 7,
      "outputs": [
        {
          "output_type": "stream",
          "name": "stdout",
          "text": [
            "Ficha:  A --> C\n",
            "Ficha:  A --> B\n",
            "Ficha:  C --> B\n",
            "Ficha:  A --> C\n",
            "Ficha:  B --> A\n",
            "Ficha:  B --> C\n",
            "Ficha:  A --> C\n"
          ]
        }
      ]
    },
    {
      "cell_type": "code",
      "source": [
        "# Prueba 2\n",
        "num_fichas = 5\n",
        "hanoi_dv(num_fichas, 'A', 'C', 'B')"
      ],
      "metadata": {
        "colab": {
          "base_uri": "https://localhost:8080/"
        },
        "id": "Xbc7dFEywJSC",
        "outputId": "2ab66bad-fff1-446a-d917-df9e05d40f46"
      },
      "execution_count": 8,
      "outputs": [
        {
          "output_type": "stream",
          "name": "stdout",
          "text": [
            "Ficha:  A --> C\n",
            "Ficha:  A --> B\n",
            "Ficha:  C --> B\n",
            "Ficha:  A --> C\n",
            "Ficha:  B --> A\n",
            "Ficha:  B --> C\n",
            "Ficha:  A --> C\n",
            "Ficha:  A --> B\n",
            "Ficha:  C --> B\n",
            "Ficha:  C --> A\n",
            "Ficha:  B --> A\n",
            "Ficha:  C --> B\n",
            "Ficha:  A --> C\n",
            "Ficha:  A --> B\n",
            "Ficha:  C --> B\n",
            "Ficha:  A --> C\n",
            "Ficha:  B --> A\n",
            "Ficha:  B --> C\n",
            "Ficha:  A --> C\n",
            "Ficha:  B --> A\n",
            "Ficha:  C --> B\n",
            "Ficha:  C --> A\n",
            "Ficha:  B --> A\n",
            "Ficha:  B --> C\n",
            "Ficha:  A --> C\n",
            "Ficha:  A --> B\n",
            "Ficha:  C --> B\n",
            "Ficha:  A --> C\n",
            "Ficha:  B --> A\n",
            "Ficha:  B --> C\n",
            "Ficha:  A --> C\n"
          ]
        }
      ]
    },
    {
      "cell_type": "markdown",
      "metadata": {
        "id": "mGvr58Urv_EE"
      },
      "source": [
        "## Sucesión de Fibonacci\n",
        "\n",
        "Cálcula el n-ésimo término de la [Sucesión de Fibonacci](https://es.wikipedia.org/wiki/Sucesi%C3%B3n_de_Fibonacci) mediante un algoritmo recursivo y otro iterativo. Representa gráficamente cómo crece el tiempo de cómputo en función del número de términos para ambos algoritmos."
      ]
    },
    {
      "cell_type": "code",
      "source": [
        "import time\n",
        "import matplotlib.pyplot as plt\n"
      ],
      "metadata": {
        "id": "Qdjxd37hxvgl"
      },
      "execution_count": 10,
      "outputs": []
    },
    {
      "cell_type": "code",
      "execution_count": 11,
      "metadata": {
        "id": "74qZZAekiNYR"
      },
      "outputs": [],
      "source": [
        "#Sucesión_de_Fibonacci_Recursiva\n",
        "\n",
        "def fibonacci_rec(n):\n",
        "    if n <= 1:\n",
        "        return n\n",
        "    else:\n",
        "        return fibonacci_rec(n-1) + fibonacci_rec(n-2)\n"
      ]
    },
    {
      "cell_type": "code",
      "source": [
        "#Sucesión_de_Fibonacci_Iterativa\n",
        "\n",
        "def fibonacci_iter(n):\n",
        "    if n <= 1:\n",
        "        return n\n",
        "    a, b = 0, 1\n",
        "    for i in range(n-1):\n",
        "        a, b = b, a + b\n",
        "    return b"
      ],
      "metadata": {
        "id": "iwXzGl0KxoDN"
      },
      "execution_count": 12,
      "outputs": []
    },
    {
      "cell_type": "code",
      "source": [
        "num_terminos = 20\n",
        "arr_terminos = range(1, num_terminos)\n",
        "\n",
        "# Tiempo en el algoritmo recursivo\n",
        "arr_t_rec = []\n",
        "for term in arr_terminos:\n",
        "  start_time = time.time()\n",
        "  resultado = fibonacci_rec(term)\n",
        "  end_time = time.time()\n",
        "  arr_t_rec.append(end_time - start_time)\n",
        "\n",
        "# Tiempo en el algoritmo iterativo\n",
        "arr_t_iter = []\n",
        "for term in arr_terminos:\n",
        "  start_time = time.time()\n",
        "  resultado = fibonacci_iter(term)\n",
        "  end_time = time.time()\n",
        "  arr_t_iter.append(end_time - start_time)\n",
        "\n",
        "plt.plot(arr_terminos, arr_t_rec, label='Fibonacci Recursivo')\n",
        "plt.plot(arr_terminos, arr_t_iter, label='Fibonacci Iterativo')\n",
        "plt.xlabel('Términos')\n",
        "plt.ylabel('Tiempo(s)')\n",
        "plt.title('Fibonacci Recursivo - Iterativo')\n",
        "plt.legend()\n",
        "plt.show()"
      ],
      "metadata": {
        "colab": {
          "base_uri": "https://localhost:8080/",
          "height": 472
        },
        "id": "D7EdfVI6xqH4",
        "outputId": "3534fd0e-eea1-4249-db11-4e1b89756b0b"
      },
      "execution_count": 16,
      "outputs": [
        {
          "output_type": "display_data",
          "data": {
            "text/plain": [
              "<Figure size 640x480 with 1 Axes>"
            ],
            "image/png": "[encoded data removed]"
          },
          "metadata": {}
        }
      ]
    },
    {
      "cell_type": "markdown",
      "metadata": {
        "id": "RgT5XJsZ429L"
      },
      "source": [
        "## Devolución de cambio por técnica voraz\n",
        "\n",
        "Resuelve el [Problema del Cambio de Moneda](https://es.wikipedia.org/wiki/Problema_de_cambio_de_monedas) utilizando una técnica voraz."
      ]
    },
    {
      "cell_type": "code",
      "execution_count": 17,
      "metadata": {
        "id": "uJtftBLU4-ap"
      },
      "outputs": [],
      "source": [
        "# Problema del cambio de moneda\n",
        "\n",
        "def cambio_de_monedas(total, monedas):\n",
        "    monedas.sort(reverse=True)  # Ordenar las denominaciones de mayor a menor valor\n",
        "    cambio = []\n",
        "    for denominacion in monedas:\n",
        "        while total >= denominacion:\n",
        "            cambio.append(denominacion)\n",
        "            total -= denominacion\n",
        "    return cambio"
      ]
    },
    {
      "cell_type": "code",
      "source": [
        "# Prueba 1\n",
        "total = 138\n",
        "monedas = [1, 2, 5, 10, 20, 50, 100]\n",
        "cambio = cambio_de_monedas(total, monedas)\n",
        "print(\"El cambio para \", total, \"cts. es:\", cambio)"
      ],
      "metadata": {
        "colab": {
          "base_uri": "https://localhost:8080/"
        },
        "id": "b8HNyaFzzFuy",
        "outputId": "2d0613ff-8b4e-4f98-c540-17e6445c849a"
      },
      "execution_count": 18,
      "outputs": [
        {
          "output_type": "stream",
          "name": "stdout",
          "text": [
            "El cambio para  138 cts. es: [100, 20, 10, 5, 2, 1]\n"
          ]
        }
      ]
    },
    {
      "cell_type": "code",
      "source": [
        "# Prueba 2\n",
        "total = 1317\n",
        "monedas = [1, 2, 5, 10, 20, 50, 100]\n",
        "cambio = cambio_de_monedas(total, monedas)\n",
        "print(\"El cambio para \", total, \"cts. es:\", cambio)"
      ],
      "metadata": {
        "colab": {
          "base_uri": "https://localhost:8080/"
        },
        "id": "bvsb1kCSzqYS",
        "outputId": "807074cf-cbcd-4843-a30b-f62d5ead8f7b"
      },
      "execution_count": 20,
      "outputs": [
        {
          "output_type": "stream",
          "name": "stdout",
          "text": [
            "El cambio para  1317 cts. es: [100, 100, 100, 100, 100, 100, 100, 100, 100, 100, 100, 100, 100, 10, 5, 2]\n"
          ]
        }
      ]
    },
    {
      "cell_type": "markdown",
      "metadata": {
        "id": "g8M9GTvy_Fa3"
      },
      "source": [
        "## N-Reinas por técnica de vuelta atrás\n",
        "Resuelve el [Problema de las N-Reinas](https://es.wikipedia.org/wiki/Problema_de_las_ocho_reinas) en un tablero de dimensión N mediante la técnica de la vuelta atrás (backtraking)."
      ]
    },
    {
      "cell_type": "code",
      "execution_count": 21,
      "metadata": {
        "id": "FqOPyCmv_K65"
      },
      "outputs": [],
      "source": [
        "# Problema de las N-Reinas\n",
        "\n",
        "def es_seguro(tablero, fila, col, num_filas):\n",
        "    # Misma columna\n",
        "    for i in range(fila):\n",
        "        if tablero[i][col] == 1:\n",
        "            return False\n",
        "\n",
        "    # Ddiagonal superior izquierda\n",
        "    i, j = fila, col\n",
        "    while i >= 0 and j >= 0:\n",
        "        if tablero[i][j] == 1:\n",
        "            return False\n",
        "        i -= 1\n",
        "        j -= 1\n",
        "\n",
        "    # Diagonal superior derecha\n",
        "    i, j = fila, col\n",
        "    while i >= 0 and j < num_filas:\n",
        "        if tablero[i][j] == 1:\n",
        "            return False\n",
        "        i -= 1\n",
        "        j += 1\n",
        "    # YA sabemos que en la misma fila no va a estar por construccion del problema\n",
        "    return True\n",
        "\n",
        "def n_reinas_vuelta_atras(tablero, fila, num_reinas, sols):\n",
        "\n",
        "    if fila == num_reinas:\n",
        "        # Ya tenemos todas las reinas colocadas\n",
        "        sols.append([fila[:] for fila in tablero])\n",
        "        return\n",
        "\n",
        "    for col in range(num_reinas):\n",
        "        if es_seguro(tablero, fila, col, num_reinas):\n",
        "            tablero[fila][col] = 1\n",
        "            n_reinas_vuelta_atras(tablero, fila + 1, num_reinas, sols)\n",
        "            tablero[fila][col] = 0\n",
        "\n",
        "def n_reinas(num_reinas):\n",
        "    tablero = [[0] * num_reinas for i in range(num_reinas)]\n",
        "    sols = []\n",
        "    n_reinas_vuelta_atras(tablero, 0, num_reinas, sols)\n",
        "    return sols\n",
        "\n",
        "\n",
        "\n"
      ]
    },
    {
      "cell_type": "code",
      "execution_count": 29,
      "metadata": {
        "colab": {
          "base_uri": "https://localhost:8080/"
        },
        "id": "GDEB2tlbv_EL",
        "outputId": "7517f742-1125-4717-b846-991c03e997a2"
      },
      "outputs": [
        {
          "output_type": "stream",
          "name": "stdout",
          "text": [
            "Hay  2  soluciones para el problema con  4 reinas:\n",
            "* Q * *\n",
            "* * * Q\n",
            "Q * * *\n",
            "* * Q *\n",
            "-------\n",
            "* * Q *\n",
            "Q * * *\n",
            "* * * Q\n",
            "* Q * *\n",
            "-------\n"
          ]
        }
      ],
      "source": [
        "#Prueba 1\n",
        "num_reinas = 4\n",
        "sols = n_reinas(num_reinas)\n",
        "print(\"Hay \", str(len(sols)), \" soluciones para el problema con \", str(num_reinas), \"reinas:\")\n",
        "for sol in sols:\n",
        "    for fila in sol:\n",
        "        print(' '.join(['Q' if c == 1 else '*' for c in fila]))\n",
        "    print(\"-------\")"
      ]
    },
    {
      "cell_type": "code",
      "source": [
        "#Prueba 2\n",
        "num_reinas = 7\n",
        "sols = n_reinas(num_reinas)\n",
        "print(\"Hay \", str(len(sols)), \" soluciones para el problema con \", str(num_reinas), \"reinas:\")\n",
        "for sol in sols:\n",
        "    for fila in sol:\n",
        "        print(' '.join(['Q' if c == 1 else '*' for c in fila]))\n",
        "    print(\"----------\")"
      ],
      "metadata": {
        "colab": {
          "base_uri": "https://localhost:8080/"
        },
        "id": "ivaTpOjf2M0P",
        "outputId": "27261c01-67b6-4e82-eb54-e2fb720b1f41"
      },
      "execution_count": 31,
      "outputs": [
        {
          "output_type": "stream",
          "name": "stdout",
          "text": [
            "Hay  40  soluciones para el problema con  7 reinas:\n",
            "Q * * * * * *\n",
            "* * Q * * * *\n",
            "* * * * Q * *\n",
            "* * * * * * Q\n",
            "* Q * * * * *\n",
            "* * * Q * * *\n",
            "* * * * * Q *\n",
            "----------\n",
            "Q * * * * * *\n",
            "* * * Q * * *\n",
            "* * * * * * Q\n",
            "* * Q * * * *\n",
            "* * * * * Q *\n",
            "* Q * * * * *\n",
            "* * * * Q * *\n",
            "----------\n",
            "Q * * * * * *\n",
            "* * * * Q * *\n",
            "* Q * * * * *\n",
            "* * * * * Q *\n",
            "* * Q * * * *\n",
            "* * * * * * Q\n",
            "* * * Q * * *\n",
            "----------\n",
            "Q * * * * * *\n",
            "* * * * * Q *\n",
            "* * * Q * * *\n",
            "* Q * * * * *\n",
            "* * * * * * Q\n",
            "* * * * Q * *\n",
            "* * Q * * * *\n",
            "----------\n",
            "* Q * * * * *\n",
            "* * * Q * * *\n",
            "Q * * * * * *\n",
            "* * * * * * Q\n",
            "* * * * Q * *\n",
            "* * Q * * * *\n",
            "* * * * * Q *\n",
            "----------\n",
            "* Q * * * * *\n",
            "* * * Q * * *\n",
            "* * * * * Q *\n",
            "Q * * * * * *\n",
            "* * Q * * * *\n",
            "* * * * Q * *\n",
            "* * * * * * Q\n",
            "----------\n",
            "* Q * * * * *\n",
            "* * * * Q * *\n",
            "Q * * * * * *\n",
            "* * * Q * * *\n",
            "* * * * * * Q\n",
            "* * Q * * * *\n",
            "* * * * * Q *\n",
            "----------\n",
            "* Q * * * * *\n",
            "* * * * Q * *\n",
            "* * Q * * * *\n",
            "Q * * * * * *\n",
            "* * * * * * Q\n",
            "* * * Q * * *\n",
            "* * * * * Q *\n",
            "----------\n",
            "* Q * * * * *\n",
            "* * * * Q * *\n",
            "* * * * * * Q\n",
            "* * * Q * * *\n",
            "Q * * * * * *\n",
            "* * Q * * * *\n",
            "* * * * * Q *\n",
            "----------\n",
            "* Q * * * * *\n",
            "* * * * * Q *\n",
            "* * Q * * * *\n",
            "* * * * * * Q\n",
            "* * * Q * * *\n",
            "Q * * * * * *\n",
            "* * * * Q * *\n",
            "----------\n",
            "* Q * * * * *\n",
            "* * * * * * Q\n",
            "* * * * Q * *\n",
            "* * Q * * * *\n",
            "Q * * * * * *\n",
            "* * * * * Q *\n",
            "* * * Q * * *\n",
            "----------\n",
            "* * Q * * * *\n",
            "Q * * * * * *\n",
            "* * * * * Q *\n",
            "* Q * * * * *\n",
            "* * * * Q * *\n",
            "* * * * * * Q\n",
            "* * * Q * * *\n",
            "----------\n",
            "* * Q * * * *\n",
            "Q * * * * * *\n",
            "* * * * * Q *\n",
            "* * * Q * * *\n",
            "* Q * * * * *\n",
            "* * * * * * Q\n",
            "* * * * Q * *\n",
            "----------\n",
            "* * Q * * * *\n",
            "* * * * Q * *\n",
            "* * * * * * Q\n",
            "* Q * * * * *\n",
            "* * * Q * * *\n",
            "* * * * * Q *\n",
            "Q * * * * * *\n",
            "----------\n",
            "* * Q * * * *\n",
            "* * * * * Q *\n",
            "* Q * * * * *\n",
            "* * * * Q * *\n",
            "Q * * * * * *\n",
            "* * * Q * * *\n",
            "* * * * * * Q\n",
            "----------\n",
            "* * Q * * * *\n",
            "* * * * * * Q\n",
            "* Q * * * * *\n",
            "* * * Q * * *\n",
            "* * * * * Q *\n",
            "Q * * * * * *\n",
            "* * * * Q * *\n",
            "----------\n",
            "* * Q * * * *\n",
            "* * * * * * Q\n",
            "* * * Q * * *\n",
            "Q * * * * * *\n",
            "* * * * Q * *\n",
            "* Q * * * * *\n",
            "* * * * * Q *\n",
            "----------\n",
            "* * * Q * * *\n",
            "Q * * * * * *\n",
            "* * Q * * * *\n",
            "* * * * * Q *\n",
            "* Q * * * * *\n",
            "* * * * * * Q\n",
            "* * * * Q * *\n",
            "----------\n",
            "* * * Q * * *\n",
            "Q * * * * * *\n",
            "* * * * Q * *\n",
            "* Q * * * * *\n",
            "* * * * * Q *\n",
            "* * Q * * * *\n",
            "* * * * * * Q\n",
            "----------\n",
            "* * * Q * * *\n",
            "* Q * * * * *\n",
            "* * * * * * Q\n",
            "* * * * Q * *\n",
            "* * Q * * * *\n",
            "Q * * * * * *\n",
            "* * * * * Q *\n",
            "----------\n",
            "* * * Q * * *\n",
            "* * * * * Q *\n",
            "Q * * * * * *\n",
            "* * Q * * * *\n",
            "* * * * Q * *\n",
            "* * * * * * Q\n",
            "* Q * * * * *\n",
            "----------\n",
            "* * * Q * * *\n",
            "* * * * * * Q\n",
            "* * Q * * * *\n",
            "* * * * * Q *\n",
            "* Q * * * * *\n",
            "* * * * Q * *\n",
            "Q * * * * * *\n",
            "----------\n",
            "* * * Q * * *\n",
            "* * * * * * Q\n",
            "* * * * Q * *\n",
            "* Q * * * * *\n",
            "* * * * * Q *\n",
            "Q * * * * * *\n",
            "* * Q * * * *\n",
            "----------\n",
            "* * * * Q * *\n",
            "Q * * * * * *\n",
            "* * * Q * * *\n",
            "* * * * * * Q\n",
            "* * Q * * * *\n",
            "* * * * * Q *\n",
            "* Q * * * * *\n",
            "----------\n",
            "* * * * Q * *\n",
            "Q * * * * * *\n",
            "* * * * * Q *\n",
            "* * * Q * * *\n",
            "* Q * * * * *\n",
            "* * * * * * Q\n",
            "* * Q * * * *\n",
            "----------\n",
            "* * * * Q * *\n",
            "* Q * * * * *\n",
            "* * * * * Q *\n",
            "* * Q * * * *\n",
            "* * * * * * Q\n",
            "* * * Q * * *\n",
            "Q * * * * * *\n",
            "----------\n",
            "* * * * Q * *\n",
            "* * Q * * * *\n",
            "Q * * * * * *\n",
            "* * * * * Q *\n",
            "* * * Q * * *\n",
            "* Q * * * * *\n",
            "* * * * * * Q\n",
            "----------\n",
            "* * * * Q * *\n",
            "* * * * * * Q\n",
            "* Q * * * * *\n",
            "* * * Q * * *\n",
            "* * * * * Q *\n",
            "Q * * * * * *\n",
            "* * Q * * * *\n",
            "----------\n",
            "* * * * Q * *\n",
            "* * * * * * Q\n",
            "* Q * * * * *\n",
            "* * * * * Q *\n",
            "* * Q * * * *\n",
            "Q * * * * * *\n",
            "* * * Q * * *\n",
            "----------\n",
            "* * * * * Q *\n",
            "Q * * * * * *\n",
            "* * Q * * * *\n",
            "* * * * Q * *\n",
            "* * * * * * Q\n",
            "* Q * * * * *\n",
            "* * * Q * * *\n",
            "----------\n",
            "* * * * * Q *\n",
            "* Q * * * * *\n",
            "* * * * Q * *\n",
            "Q * * * * * *\n",
            "* * * Q * * *\n",
            "* * * * * * Q\n",
            "* * Q * * * *\n",
            "----------\n",
            "* * * * * Q *\n",
            "* * Q * * * *\n",
            "Q * * * * * *\n",
            "* * * Q * * *\n",
            "* * * * * * Q\n",
            "* * * * Q * *\n",
            "* Q * * * * *\n",
            "----------\n",
            "* * * * * Q *\n",
            "* * Q * * * *\n",
            "* * * * Q * *\n",
            "* * * * * * Q\n",
            "Q * * * * * *\n",
            "* * * Q * * *\n",
            "* Q * * * * *\n",
            "----------\n",
            "* * * * * Q *\n",
            "* * Q * * * *\n",
            "* * * * * * Q\n",
            "* * * Q * * *\n",
            "Q * * * * * *\n",
            "* * * * Q * *\n",
            "* Q * * * * *\n",
            "----------\n",
            "* * * * * Q *\n",
            "* * * Q * * *\n",
            "* Q * * * * *\n",
            "* * * * * * Q\n",
            "* * * * Q * *\n",
            "* * Q * * * *\n",
            "Q * * * * * *\n",
            "----------\n",
            "* * * * * Q *\n",
            "* * * Q * * *\n",
            "* * * * * * Q\n",
            "Q * * * * * *\n",
            "* * Q * * * *\n",
            "* * * * Q * *\n",
            "* Q * * * * *\n",
            "----------\n",
            "* * * * * * Q\n",
            "* Q * * * * *\n",
            "* * * Q * * *\n",
            "* * * * * Q *\n",
            "Q * * * * * *\n",
            "* * Q * * * *\n",
            "* * * * Q * *\n",
            "----------\n",
            "* * * * * * Q\n",
            "* * Q * * * *\n",
            "* * * * * Q *\n",
            "* Q * * * * *\n",
            "* * * * Q * *\n",
            "Q * * * * * *\n",
            "* * * Q * * *\n",
            "----------\n",
            "* * * * * * Q\n",
            "* * * Q * * *\n",
            "Q * * * * * *\n",
            "* * * * Q * *\n",
            "* Q * * * * *\n",
            "* * * * * Q *\n",
            "* * Q * * * *\n",
            "----------\n",
            "* * * * * * Q\n",
            "* * * * Q * *\n",
            "* * Q * * * *\n",
            "Q * * * * * *\n",
            "* * * * * Q *\n",
            "* * * Q * * *\n",
            "* Q * * * * *\n",
            "----------\n"
          ]
        }
      ]
    },
    {
      "cell_type": "code",
      "source": [
        "%%shell\n",
        "jupyter nbconvert --to html Algoritmos_R1.ipynb"
      ],
      "metadata": {
        "colab": {
          "base_uri": "https://localhost:8080/"
        },
        "id": "F6e0trF42ct5",
        "outputId": "0f03f0bd-ca2a-4d66-ef80-1144f04ad9d3"
      },
      "execution_count": 32,
      "outputs": [
        {
          "output_type": "stream",
          "name": "stdout",
          "text": [
            "[NbConvertApp] Converting notebook Algoritmos_R1.ipynb to html\n",
            "[NbConvertApp] Writing 652314 bytes to Algoritmos_R1.html\n"
          ]
        },
        {
          "output_type": "execute_result",
          "data": {
            "text/plain": []
          },
          "metadata": {},
          "execution_count": 32
        }
      ]
    }
  ],
  "metadata": {
    "colab": {
      "provenance": [],
      "include_colab_link": true
    },
    "kernelspec": {
      "display_name": "Python 3 (ipykernel)",
      "language": "python",
      "name": "python3"
    },
    "language_info": {
      "codemirror_mode": {
        "name": "ipython",
        "version": 3
      },
      "file_extension": ".py",
      "mimetype": "text/x-python",
      "name": "python",
      "nbconvert_exporter": "python",
      "pygments_lexer": "ipython3",
      "version": "3.11.5"
    }
  },
  "nbformat": 4,
  "nbformat_minor": 0
}