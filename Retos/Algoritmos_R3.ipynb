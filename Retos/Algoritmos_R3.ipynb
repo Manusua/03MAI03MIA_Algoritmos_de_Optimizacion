{
  "cells": [
    {
      "cell_type": "markdown",
      "metadata": {
        "id": "view-in-github",
        "colab_type": "text"
      },
      "source": [
        "<a href=\"https://colab.research.google.com/github/Manusua/03MIA_Algoritmos_de_Optimizacion/blob/main/Retos/Algoritmos_R3.ipynb\" target=\"_parent\"><img src=\"https://colab.research.google.com/assets/colab-badge.svg\" alt=\"Open In Colab\"/></a>"
      ]
    },
    {
      "cell_type": "markdown",
      "metadata": {
        "id": "oVF8lrYbGCC1"
      },
      "source": [
        "\n",
        "Reto 3 (1ª Convocatoria)\n"
      ]
    },
    {
      "cell_type": "markdown",
      "source": [
        "He decidido mejorar la implementación del algoritmo genético propuesto para la resolución del TSP mediante la introducción de dos variantes, en primer lugar, en vez de haceer corte en un único punto, he modificado la función realizando un [corte uniforme basándome en una máscara aleatoria](http://www.sc.ehu.es/ccwbayes/docencia/mmcc/docs/t2s.pdf) para cada recombinación de genes y un mecanismo de [selección por torneo probabilístico](http://sabia.tic.udc.es/mgestal/cv/AAGGtutorial/node11.html)"
      ],
      "metadata": {
        "id": "7dvargX8H7KY"
      }
    },
    {
      "cell_type": "code",
      "source": [
        "!pip install requests\n",
        "import urllib.request\n",
        "\n",
        "!pip install tsplib95\n",
        "import tsplib95\n"
      ],
      "metadata": {
        "id": "SW3yu-0FHnVf"
      },
      "execution_count": null,
      "outputs": []
    },
    {
      "cell_type": "code",
      "source": [
        "import random\n",
        "import copy"
      ],
      "metadata": {
        "id": "Ztcx6vwXHoME"
      },
      "execution_count": 3,
      "outputs": []
    },
    {
      "cell_type": "code",
      "source": [
        "file = \"swiss42.tsp\" ; urllib.request.urlretrieve(\"http://comopt.ifi.uni-heidelberg.de/software/TSPLIB95/tsp/swiss42.tsp.gz\", file + '.gz')\n",
        "!gzip -d swiss42.tsp.gz\n",
        "problem = tsplib95.load(file)\n",
        "\n",
        "Nodos = list(problem.get_nodes())"
      ],
      "metadata": {
        "id": "JGYmFYPwHqLz"
      },
      "execution_count": 6,
      "outputs": []
    },
    {
      "cell_type": "code",
      "source": [
        "def crear_solucion(Nodos):\n",
        "  solucion = [Nodos[0]]\n",
        "  for n in Nodos[1:] :\n",
        "    solucion = solucion + [random.choice(list(set(Nodos) - set(solucion)))]\n",
        "  return solucion\n",
        "\n",
        "def distancia(a,b, problem):\n",
        "  return problem.get_weight(a,b)\n",
        "\n",
        "\n",
        "def distancia_total(solucion, problem):\n",
        "  distancia_total = 0\n",
        "  for i in range(len(solucion)-1):\n",
        "    distancia_total += distancia(solucion[i] ,solucion[i+1] ,  problem)\n",
        "  return distancia_total + distancia(solucion[len(solucion)-1] ,solucion[0], problem)"
      ],
      "metadata": {
        "id": "Jwb9X7iOHrhu"
      },
      "execution_count": 7,
      "outputs": []
    },
    {
      "cell_type": "code",
      "source": [
        "def generar_poblacion(Nodos,N):\n",
        "  return [crear_solucion(Nodos) for _ in range(N) ]\n",
        "\n",
        "def Evaluar_Poblacion(poblacion, problem):\n",
        "  mejor_solucion = []\n",
        "  mejor_distancia = 10e100\n",
        "  for p in poblacion:\n",
        "    distancia_referencia = distancia_total(p, problem)\n",
        "    if distancia_referencia < mejor_distancia:\n",
        "      mejor_solucion = p\n",
        "      mejor_distancia = distancia_referencia\n",
        "  return mejor_solucion, mejor_distancia\n",
        "\n",
        "\n",
        "def Cruzar(poblacion,mutacion, problem):\n",
        "  poblacion_copia = copy.deepcopy(poblacion)\n",
        "\n",
        "  poblacion_final = copy.deepcopy(poblacion)\n",
        "\n",
        "  while len(poblacion_copia) > 1:\n",
        "    padre1,padre2 = random.sample(poblacion_copia   ,2)\n",
        "    poblacion_copia.remove(padre1)\n",
        "    poblacion_copia.remove(padre2)\n",
        "    poblacion_final.extend(Descendencia([padre1,padre2],problem,mutacion))\n",
        "  return poblacion_final\n",
        "\n",
        "# Funcion para generar hijos a partir de 2 padres:\n",
        "# Se ha modificaod la función de 1-punto de corte por una uniforme basándose en una máscara\n",
        "def Descendencia(padres, problem,mutacion):\n",
        "  #Se genera una máscara\n",
        "  random_mask = [random.choice([0, 1]) for _ in range(len(padres[0]))]\n",
        "\n",
        "  # En mask tenemos una serie de bits. Cada hijo heredará los genes de un padre o de otro en\n",
        "  # función del valor de dicho bit\n",
        "  hijo1 = []\n",
        "  hijo2 = []\n",
        "  for index, bit in enumerate(random_mask):\n",
        "    hijo1.append(padres[bit][index])\n",
        "    hijo2.append(padres[not bit][index])\n",
        "\n",
        "  # El proceso de Factibilizar es el mismo\n",
        "  hijo1 =  Factibilizar(hijo1, problem)\n",
        "  hijo2 =  Factibilizar(hijo2, problem)\n",
        "  return [hijo1,hijo2,Mutar(hijo1,mutacion),Mutar(hijo2,mutacion)]\n",
        "\n",
        "def Factibilizar(solucion,problem):\n",
        "  Nodos = list(problem.get_nodes())\n",
        "  nodos_desaparecidos = list(set(Nodos) - set(solucion))\n",
        "  for i in range(len(solucion) ):\n",
        "    if solucion[i] in solucion[:i]:\n",
        "      solucion[i] = nodos_desaparecidos.pop(0)\n",
        "  return solucion\n",
        "\n",
        "\n",
        "def Mutar(solucion,mutacion):\n",
        "  if random.random() < mutacion:\n",
        "    sel1,sel2 = sorted(random.sample(set(solucion)-{solucion[0]},2))\n",
        "    return solucion[:sel1] + [solucion[sel2]] + solucion[sel1+1:sel2] + [solucion[sel1]]  + solucion[sel2+1:]\n",
        "  else:\n",
        "    return solucion[::]\n",
        "\n",
        "#Funcion de seleccion de la población. Recibe como parametro una poblacion y\n",
        "# devuelve una poblacion a la que se ha eliminado individuos poco aptos(fitness alto) y para mantener una poblacion estable de N individuos\n",
        "# Se va a implementar un criterio de selecciónpor torneo, en concreto en su versión probabilística\n",
        "def Seleccionar(problem,poblacion, N, elitismo):\n",
        "  # Seleccionamos de forma aleatoria a n individuos (en este caso p=2) y el más apto proocionará el torneo con una probabilidad p = 70%\n",
        "  n = 2\n",
        "  p = 0.7\n",
        "  rand = random.random()\n",
        "  poblacion_candidata = copy.deepcopy(poblacion)\n",
        "  poblacion_final = []\n",
        "  while(len(poblacion_final) < N):\n",
        "    part1, part2 = random.sample(poblacion_candidata, 2)\n",
        "    if distancia_total(part1, problem) < distancia_total(part2, problem):\n",
        "      # part1 es mas apto\n",
        "      if rand < p:\n",
        "        poblacion_final.append(part1)\n",
        "        #Lo eliminamos de los candidatos\n",
        "        poblacion_candidata.remove(part1)\n",
        "      else:\n",
        "        poblacion_final.append(part2)\n",
        "        poblacion_candidata.remove(part2)\n",
        "    else:\n",
        "      # part2 es mas apto (o igual en cuyo caso da igual)\n",
        "      if rand < p:\n",
        "        poblacion_final.append(part2)\n",
        "        poblacion_candidata.remove(part2)\n",
        "      else:\n",
        "        poblacion_final.append(part1)\n",
        "        poblacion_candidata.remove(part1)\n",
        "\n",
        "  return poblacion_final\n",
        "\n",
        "\n"
      ],
      "metadata": {
        "id": "vIJLALuuHszR"
      },
      "execution_count": 14,
      "outputs": []
    },
    {
      "cell_type": "code",
      "source": [
        "#Funcion principal del algoritmo genetico\n",
        "#######################################################3\n",
        "def algoritmo_genetico(problem=problem,N=100,mutacion=.15,elitismo=.1,generaciones=100):\n",
        "  # problem = datos del problema\n",
        "  # N = Tamaño de la población\n",
        "  # mutacion = probabilidad de una mutación\n",
        "  # elitismo = porcion de la mejor poblacion a mantener\n",
        "  # generaciones = nº de generaciones a generar para finalizar\n",
        "\n",
        "  #Genera la poblacion inicial\n",
        "  Nodos = list(problem.get_nodes())\n",
        "  poblacion = generar_poblacion(Nodos,N)\n",
        "\n",
        "  #Inicializamos valores para la mejor solucion\n",
        "  (mejor_solucion, mejor_distancia) = Evaluar_Poblacion(poblacion, problem)\n",
        "\n",
        "\n",
        "  #Condicion de parada\n",
        "  parar = False\n",
        "  n=0\n",
        "  #Inciamos el cliclo de generaciones\n",
        "  while(parar == False) :\n",
        "\n",
        "    #Cruce de la poblacion(incluye mutación)\n",
        "    poblacion = Cruzar(poblacion, mutacion, problem)\n",
        "\n",
        "    #Seleccionamos la población\n",
        "    poblacion = Seleccionar(problem,poblacion, N, elitismo)\n",
        "\n",
        "    #Evaluamos la nueva población\n",
        "    (mejor_solucion, mejor_distancia) = Evaluar_Poblacion(poblacion, problem)\n",
        "\n",
        "    print(\"Generacion #\", n, \"\\nLa mejor solución es:\" , mejor_solucion, \"\\ncon distancia \" , mejor_distancia, \"\\n\")\n",
        "\n",
        "    #Numero de generaciones. Criterio de parada\n",
        "    if n==generaciones:\n",
        "      parar = True\n",
        "    n +=1\n",
        "\n",
        "  return mejor_solucion\n",
        "\n",
        "sol = algoritmo_genetico(problem=problem,N=50,mutacion=.3,elitismo=.40,generaciones=25)"
      ],
      "metadata": {
        "colab": {
          "base_uri": "https://localhost:8080/"
        },
        "id": "Azu2cMHlHw2Y",
        "outputId": "111cd20b-a9d9-4ff0-e623-73dc2526ea16"
      },
      "execution_count": 15,
      "outputs": [
        {
          "output_type": "stream",
          "name": "stderr",
          "text": [
            "<ipython-input-14-09654c73c826>:57: DeprecationWarning: Sampling from a set deprecated\n",
            "since Python 3.9 and will be removed in a subsequent version.\n",
            "  sel1,sel2 = sorted(random.sample(set(solucion)-{solucion[0]},2))\n"
          ]
        },
        {
          "output_type": "stream",
          "name": "stdout",
          "text": [
            "Generacion # 0 \n",
            "La mejor solución es: [0, 15, 32, 27, 14, 35, 17, 24, 34, 31, 19, 3, 41, 1, 33, 37, 36, 39, 7, 26, 2, 21, 4, 25, 6, 28, 38, 20, 5, 23, 8, 30, 22, 29, 40, 9, 10, 11, 16, 13, 12, 18] \n",
            "con distancia  4198 \n",
            "\n",
            "Generacion # 1 \n",
            "La mejor solución es: [0, 14, 10, 28, 29, 1, 36, 13, 26, 17, 41, 2, 4, 20, 19, 3, 31, 33, 35, 37, 15, 5, 24, 38, 7, 16, 34, 32, 22, 6, 11, 23, 8, 27, 39, 9, 40, 12, 18, 21, 25, 30] \n",
            "con distancia  4012 \n",
            "\n",
            "Generacion # 2 \n",
            "La mejor solución es: [0, 18, 1, 3, 32, 35, 2, 14, 7, 22, 34, 28, 30, 20, 5, 6, 31, 4, 36, 37, 41, 23, 9, 38, 13, 21, 11, 39, 24, 8, 40, 26, 10, 27, 12, 15, 16, 19, 33, 17, 29, 25] \n",
            "con distancia  4140 \n",
            "\n",
            "Generacion # 3 \n",
            "La mejor solución es: [0, 18, 1, 3, 32, 35, 2, 14, 7, 22, 34, 28, 30, 20, 5, 6, 31, 4, 36, 37, 41, 23, 9, 38, 13, 21, 11, 39, 24, 8, 40, 26, 10, 27, 12, 15, 16, 19, 33, 17, 29, 25] \n",
            "con distancia  4140 \n",
            "\n",
            "Generacion # 4 \n",
            "La mejor solución es: [0, 13, 21, 30, 37, 1, 26, 14, 22, 2, 24, 8, 32, 18, 28, 5, 3, 35, 20, 4, 38, 34, 33, 7, 36, 11, 6, 40, 9, 39, 41, 10, 23, 31, 15, 17, 19, 12, 16, 27, 25, 29] \n",
            "con distancia  4250 \n",
            "\n",
            "Generacion # 5 \n",
            "La mejor solución es: [0, 13, 21, 30, 37, 35, 5, 14, 22, 39, 24, 8, 32, 18, 28, 36, 7, 1, 2, 3, 38, 34, 33, 4, 40, 9, 6, 10, 19, 11, 41, 23, 17, 31, 15, 12, 16, 26, 25, 29, 20, 27] \n",
            "con distancia  3973 \n",
            "\n",
            "Generacion # 6 \n",
            "La mejor solución es: [0, 11, 6, 20, 28, 2, 37, 1, 38, 31, 36, 32, 35, 33, 17, 7, 10, 23, 34, 18, 8, 40, 4, 3, 12, 5, 41, 30, 9, 21, 39, 16, 14, 15, 19, 26, 22, 24, 27, 13, 25, 29] \n",
            "con distancia  3854 \n",
            "\n",
            "Generacion # 7 \n",
            "La mejor solución es: [0, 28, 9, 40, 30, 5, 26, 24, 38, 20, 36, 2, 34, 18, 32, 14, 33, 35, 4, 1, 37, 6, 7, 41, 13, 15, 17, 12, 8, 11, 19, 39, 23, 10, 3, 16, 22, 21, 27, 31, 25, 29] \n",
            "con distancia  4306 \n",
            "\n",
            "Generacion # 8 \n",
            "La mejor solución es: [0, 11, 6, 3, 28, 2, 37, 23, 22, 31, 36, 32, 35, 20, 17, 25, 10, 38, 1, 18, 34, 40, 4, 39, 12, 5, 41, 30, 33, 8, 7, 13, 14, 15, 19, 26, 9, 21, 27, 16, 29, 24] \n",
            "con distancia  4383 \n",
            "\n",
            "Generacion # 9 \n",
            "La mejor solución es: [0, 11, 38, 8, 2, 32, 27, 1, 31, 33, 36, 21, 41, 34, 35, 4, 5, 28, 39, 40, 29, 9, 7, 3, 14, 6, 17, 30, 37, 10, 12, 15, 13, 16, 18, 20, 22, 25, 19, 23, 26, 24] \n",
            "con distancia  4544 \n",
            "\n",
            "Generacion # 10 \n",
            "La mejor solución es: [0, 41, 21, 40, 37, 32, 26, 25, 2, 1, 16, 34, 33, 30, 39, 5, 4, 36, 3, 35, 38, 9, 10, 7, 12, 6, 11, 13, 31, 17, 15, 14, 23, 18, 20, 8, 22, 19, 24, 27, 28, 29] \n",
            "con distancia  4373 \n",
            "\n",
            "Generacion # 11 \n",
            "La mejor solución es: [0, 41, 38, 40, 27, 9, 26, 24, 22, 33, 34, 36, 8, 32, 2, 6, 7, 23, 1, 3, 10, 35, 5, 39, 12, 13, 15, 14, 11, 4, 19, 16, 17, 31, 25, 18, 37, 30, 20, 29, 21, 28] \n",
            "con distancia  4327 \n",
            "\n",
            "Generacion # 12 \n",
            "La mejor solución es: [0, 35, 13, 40, 37, 1, 26, 24, 31, 33, 36, 34, 32, 27, 2, 3, 7, 38, 10, 11, 8, 16, 5, 22, 14, 6, 4, 39, 9, 15, 17, 12, 19, 18, 21, 20, 41, 29, 28, 23, 25, 30] \n",
            "con distancia  4571 \n",
            "\n",
            "Generacion # 13 \n",
            "La mejor solución es: [0, 35, 32, 3, 34, 9, 5, 14, 33, 1, 36, 28, 39, 38, 2, 6, 37, 4, 7, 11, 16, 10, 12, 19, 15, 13, 17, 22, 21, 40, 8, 18, 25, 31, 23, 26, 24, 41, 20, 29, 27, 30] \n",
            "con distancia  4348 \n",
            "\n",
            "Generacion # 14 \n",
            "La mejor solución es: [0, 11, 27, 3, 34, 16, 5, 14, 4, 1, 26, 2, 32, 7, 35, 36, 37, 9, 6, 18, 29, 30, 12, 40, 38, 17, 13, 20, 31, 33, 41, 21, 25, 39, 8, 10, 24, 15, 19, 22, 23, 28] \n",
            "con distancia  4038 \n",
            "\n",
            "Generacion # 15 \n",
            "La mejor solución es: [0, 35, 6, 20, 37, 19, 5, 14, 4, 31, 36, 28, 39, 30, 32, 1, 10, 33, 2, 11, 3, 38, 15, 34, 12, 13, 16, 22, 41, 40, 9, 17, 25, 7, 8, 18, 24, 21, 23, 26, 27, 29] \n",
            "con distancia  4399 \n",
            "\n",
            "Generacion # 16 \n",
            "La mejor solución es: [0, 41, 21, 3, 37, 36, 35, 14, 4, 33, 20, 2, 1, 7, 5, 38, 34, 11, 6, 18, 19, 30, 12, 40, 8, 13, 15, 16, 32, 22, 17, 23, 25, 39, 24, 10, 27, 26, 9, 28, 29, 31] \n",
            "con distancia  3951 \n",
            "\n",
            "Generacion # 17 \n",
            "La mejor solución es: [0, 35, 6, 20, 37, 19, 5, 14, 4, 1, 36, 28, 32, 30, 39, 34, 38, 33, 2, 11, 3, 13, 15, 40, 12, 7, 16, 22, 41, 9, 10, 21, 8, 29, 17, 18, 24, 23, 25, 26, 27, 31] \n",
            "con distancia  4093 \n",
            "\n",
            "Generacion # 18 \n",
            "La mejor solución es: [0, 35, 21, 3, 4, 8, 33, 24, 34, 31, 32, 5, 7, 27, 2, 38, 39, 40, 9, 12, 14, 37, 41, 22, 36, 16, 6, 11, 10, 20, 13, 15, 1, 18, 19, 17, 28, 25, 23, 29, 30, 26] \n",
            "con distancia  4106 \n",
            "\n",
            "Generacion # 19 \n",
            "La mejor solución es: [0, 17, 41, 20, 4, 5, 1, 2, 31, 26, 32, 33, 7, 30, 8, 10, 40, 38, 3, 18, 34, 36, 35, 6, 37, 11, 39, 9, 13, 12, 15, 16, 14, 19, 22, 21, 24, 25, 23, 27, 29, 28] \n",
            "con distancia  3785 \n",
            "\n",
            "Generacion # 20 \n",
            "La mejor solución es: [0, 17, 41, 20, 4, 5, 1, 2, 31, 26, 32, 33, 7, 30, 8, 10, 40, 38, 3, 18, 34, 36, 35, 6, 37, 11, 39, 9, 13, 12, 15, 16, 14, 19, 22, 21, 24, 25, 23, 27, 29, 28] \n",
            "con distancia  3785 \n",
            "\n",
            "Generacion # 21 \n",
            "La mejor solución es: [0, 17, 13, 3, 37, 16, 5, 1, 35, 36, 2, 4, 38, 30, 32, 33, 34, 23, 9, 10, 8, 40, 11, 6, 41, 7, 39, 15, 31, 14, 12, 18, 21, 25, 19, 20, 22, 24, 27, 26, 29, 28] \n",
            "con distancia  3867 \n",
            "\n",
            "Generacion # 22 \n",
            "La mejor solución es: [0, 6, 13, 3, 37, 5, 35, 32, 2, 1, 33, 40, 7, 38, 34, 11, 4, 36, 17, 8, 39, 9, 12, 19, 15, 10, 23, 41, 16, 14, 18, 21, 22, 24, 26, 25, 28, 20, 27, 31, 29, 30] \n",
            "con distancia  4149 \n",
            "\n",
            "Generacion # 23 \n",
            "La mejor solución es: [0, 11, 38, 8, 28, 32, 5, 1, 34, 33, 36, 2, 7, 37, 35, 41, 26, 6, 9, 4, 40, 39, 10, 12, 20, 13, 16, 27, 18, 19, 15, 17, 14, 21, 22, 24, 30, 23, 25, 31, 29, 3] \n",
            "con distancia  4016 \n",
            "\n",
            "Generacion # 24 \n",
            "La mejor solución es: [0, 17, 6, 20, 4, 19, 1, 24, 38, 39, 32, 40, 7, 30, 33, 5, 8, 2, 3, 18, 29, 34, 35, 21, 37, 14, 36, 12, 10, 9, 23, 11, 41, 22, 27, 15, 16, 13, 26, 25, 28, 31] \n",
            "con distancia  4165 \n",
            "\n",
            "Generacion # 25 \n",
            "La mejor solución es: [0, 11, 6, 3, 34, 19, 5, 14, 38, 26, 1, 8, 7, 18, 32, 4, 33, 23, 9, 10, 2, 20, 37, 35, 13, 16, 36, 17, 39, 41, 40, 24, 21, 22, 12, 15, 25, 28, 27, 30, 29, 31] \n",
            "con distancia  3956 \n",
            "\n"
          ]
        }
      ]
    }
  ],
  "metadata": {
    "colab": {
      "provenance": [],
      "include_colab_link": true
    },
    "kernelspec": {
      "display_name": "Python 3 (ipykernel)",
      "language": "python",
      "name": "python3"
    },
    "language_info": {
      "codemirror_mode": {
        "name": "ipython",
        "version": 3
      },
      "file_extension": ".py",
      "mimetype": "text/x-python",
      "name": "python",
      "nbconvert_exporter": "python",
      "pygments_lexer": "ipython3",
      "version": "3.11.5"
    }
  },
  "nbformat": 4,
  "nbformat_minor": 0
}