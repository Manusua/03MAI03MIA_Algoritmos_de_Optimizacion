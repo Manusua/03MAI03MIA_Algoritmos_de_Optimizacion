{
  "cells": [
    {
      "cell_type": "markdown",
      "metadata": {
        "id": "view-in-github",
        "colab_type": "text"
      },
      "source": [
        "<a href=\"https://colab.research.google.com/github/Manusua/03MIA_Algoritmos_de_Optimizacion/blob/main/Trabajo_Practico/Seminario_Algoritmos.ipynb\" target=\"_parent\"><img src=\"https://colab.research.google.com/assets/colab-badge.svg\" alt=\"Open In Colab\"/></a>"
      ]
    },
    {
      "cell_type": "markdown",
      "metadata": {
        "id": "hVbXYX-RfPWh"
      },
      "source": [
        "# Algoritmos de optimización - Trabajo Práctico<br>\n",
        "Nombre y Apellidos:  Manuel Suárez Román <br>\n",
        "Url: [Trabajo Práctico](https://github.com/Manusua/03MIA_Algoritmos_de_Optimizacion/tree/main/Trabajo_Practico)<br>\n",
        "Problema: Organizar los horarios de partidos de La Liga<br>\n",
        "\n",
        "\n",
        "Descripción del problema:\n",
        "Desde la La Liga de fútbol profesional se pretende organizar los horarios de los partidos de liga de cada jornada. Se conocen algunos datos que nos deben llevar a diseñar un algoritmo que realice la asignación de los partidos a los horarios de forma que maximice la audiencia\n",
        "\n",
        "\n",
        "\n",
        "\n",
        "\n",
        "                                        "
      ]
    },
    {
      "cell_type": "code",
      "execution_count": 342,
      "metadata": {
        "id": "AiskKkzZfy4e"
      },
      "outputs": [],
      "source": [
        "import numpy as np\n",
        "from tqdm import tqdm\n",
        "import random\n",
        "import copy\n",
        "import os"
      ]
    },
    {
      "cell_type": "markdown",
      "metadata": {
        "id": "3_-exlrTgLd-"
      },
      "source": [
        "(*)¿Cuantas posibilidades hay sin tener en cuenta las restricciones?<br>\n",
        "\n",
        "\n",
        "\n",
        "¿Cuantas posibilidades hay teniendo en cuenta todas las restricciones.\n",
        "\n",
        "\n"
      ]
    },
    {
      "cell_type": "markdown",
      "metadata": {
        "id": "WfCUqJyKhPcw"
      },
      "source": [
        "Respuesta\n",
        "Para saber el número de posibilidades sin tener en cuentas las restricciones, debemos fijarnos en que podemos reducir el problema a asignar 10 partidos (ya definidos previamente) en 10 huecos, con la única condición de que puede haber más de un partido en un mismo hueco.\n",
        "\n",
        "Se trata por lo tanto de Variaciones con Repetición con $n=10$ y $r=10$: $VR_{10}^{10} = 10^{10}$. En este caso $n$ representa el número de partidos de los que disponemos y $r$ el número de huecos.\n",
        "\n",
        "Si nos fijamos nos encontramos con un caso en el que importa el orden (no es lo mismo un Celta - Real Madrid que un Valencia - Real Sociedad ya que, pese a que ambos son partidos de categoría A Vs categoría B, hemos tomado al consideración de que se tratan de elementos diferentes) y en el que existe repetición, pues en un mismo hueco puede haber más de un partido a la vez.\n",
        "<br>\n",
        "\n",
        "$$Posibilidades\\;sin\\;restricciones = 10^{10} = 10000000000.$$\n",
        "<br>\n",
        "Para el caso en el que existen restricciones, la única restricción de la que disponemos es que tanto el lunes como el viernes debe haber un partido (En el enunciado se indica que \"Debemos asignar obligatoriamente siempre un partido el viernes y un partido el lunes\", por lo tanto debe ser uno, ni más ni menos), por lo que debemos hacer es calcular las diferentes posibilidades de asignar esos dos partidos en esos dos huecos y el problema que nos queda sería el mismo que el caso anterior con los 8 partidos restantes en 8 huecos, por lo que multiplicaríamos las combinaciones.\n",
        "\n",
        "En este caso tenemos que calcular las formas de obtener 2 elementos de entre 10 sin repeticiones, además, nuevamente hemos interpretado que importa el orden, no es lo mismo que un partido se celebre el lunes a que se juegue el viernes (pese a que tengan ponderación de espectadores igual), se trata por lo tanto de una Variación sin Repetición con $n=10$ y $r=2$: $V_{10}^{2}=(10)\\cdot(10-9) = 90$. Nuevamente $n$ represetna el número de partidos a repartir en $r$ huecos.\n",
        "\n",
        "Por lo tanto existen 90 formas de encajar los partidos entre el Viernes y el Lunes. Resta el como cuadrar los otros 8 partidos en los 8 huecos restantes.\n",
        "$VR_8^8 = 8^8$. Con todo esto, la solución final es:\n",
        "<br>\n",
        "$$Posibilidades\\;con\\;restricciones = 90\\cdot 8^8 = 1509949440.$$"
      ]
    },
    {
      "cell_type": "markdown",
      "metadata": {
        "id": "dzynfVJahHoY"
      },
      "source": [
        "Modelo para el espacio de soluciones<br>\n",
        "(*) ¿Cual es la estructura de datos que mejor se adapta al problema? Argumentalo.(Es posible que hayas elegido una al principio y veas la necesidad de cambiar, arguentalo)\n"
      ]
    },
    {
      "cell_type": "markdown",
      "metadata": {
        "id": "xFIJrOwKi2Ti"
      },
      "source": [
        "Respuesta\n",
        "\n",
        "De manera inicial, diseño el problema con una serie de clases. En concreto, clase equipo, partido (podria haber hecho directamente clase aprtido, pero así le aporto más abstracción al trabajo), clase horario y clase partido-horario, que es la clase resultante al combinar las dos anteriores."
      ]
    },
    {
      "cell_type": "code",
      "execution_count": 350,
      "metadata": {
        "id": "38c-7-ejhJmA"
      },
      "outputs": [],
      "source": [
        "\n",
        "MATRIZ_AUDIENCIAS = np.array([[2,1.3,1],[1.3,0.9,0.75],[1,0.75,0.47]])\n",
        "VECTOR_COINCIDENCIAS = np.array([0,25,45,60,70,75,78,80,80])\n",
        "\n",
        "class equipo:\n",
        "  def __init__(self, nombre, abv, categoria):\n",
        "    self.nombre = nombre\n",
        "    self.abv = abv\n",
        "    self.categoria = categoria\n",
        "    if categoria == \"A\":\n",
        "      self.index_categoria = 0\n",
        "    elif categoria == \"B\":\n",
        "      self.index_categoria = 1\n",
        "    elif categoria == \"C\":\n",
        "      self.index_categoria = 2\n",
        "    else:\n",
        "      # -1 para pues no deberiamos llegar aqui nunca\n",
        "      self.index_categoria = -1\n",
        "      print(\"Error, categroría de equipo no contemplada: \" + str(nombre) + ', ' + str(categoria))\n",
        "\n",
        "  def get_nombre(self):\n",
        "    return self.nombre\n",
        "\n",
        "  def get_abv(self):\n",
        "    return self.abv\n",
        "\n",
        "  def get_categoria(self):\n",
        "    return self.categoria\n",
        "\n",
        "class partido:\n",
        "  def __init__(self, local, visitante):\n",
        "    self.local = local\n",
        "    self.visitante = visitante\n",
        "    self.audiencia_base = MATRIZ_AUDIENCIAS[local.index_categoria][visitante.index_categoria]\n",
        "\n",
        "  def __repr__(self):\n",
        "    return str(self)\n",
        "\n",
        "  def __str__(self):\n",
        "    return self.get_abv()\n",
        "\n",
        "\n",
        "  def get_abv(self):\n",
        "    return self.local.get_abv() + ' - ' + self.visitante.get_abv()\n",
        "\n",
        "  def get_nombre(self):\n",
        "    return self.local.get_nombre() + ' - ' + self.visitante.get_nombre()\n",
        "\n",
        "class horario:\n",
        "  def __init__(self, nombre, factor_audiencia):\n",
        "    self.nombre=nombre\n",
        "    self.factor_audiencia = factor_audiencia\n",
        "\n",
        "  def __repr__(self):\n",
        "    return str(self)\n",
        "\n",
        "  def __str__(self):\n",
        "    return self.nombre + ', factor: ' + str(self.factor_audiencia)\n",
        "\n",
        "  def __eq__(self, other):\n",
        "    return self.nombre == other.nombre and self.factor_audiencia == other.factor_audiencia\n",
        "\n",
        "class partido_horario:\n",
        "  def __init__(self, partido, horario):\n",
        "    self.nombre = horario.nombre +': ' + partido.get_nombre()\n",
        "    self.abv = horario.nombre +': ' + partido.get_abv()\n",
        "    self.horario = horario\n",
        "    self.partido = partido\n",
        "    self.audiencia_base = horario.factor_audiencia*partido.audiencia_base\n",
        "    self.audiencia_coincidencias = horario.factor_audiencia*partido.audiencia_base\n",
        "\n",
        "  def __repr__(self):\n",
        "    return str(self)\n",
        "\n",
        "  def __str__(self):\n",
        "    return self.abv\n",
        "\n",
        "  def get_nombre(self):\n",
        "    return self.nombre\n",
        "\n",
        "  def set_audiencia_coincidencias(self, audiencia_coincidencias):\n",
        "    self.audiencia_coincidencias = audiencia_coincidencias\n",
        "\n",
        "  def corregir_coincidencias(self, num_coincidencias):\n",
        "    # Si hay dos partidos (dos coincidencias), accedemos al segundo elemento del array, indice 1\n",
        "    num_coincidencias = int(num_coincidencias) - 1\n",
        "    if num_coincidencias > 0 and num_coincidencias <=8:\n",
        "      self.set_audiencia_coincidencias(self.audiencia_base * ((100-VECTOR_COINCIDENCIAS[num_coincidencias])/100))\n",
        "    elif num_coincidencias < 0:\n",
        "      print(\"Error, numero de coincidencias no puede ser negativo ni mayor que 8.\")"
      ]
    },
    {
      "cell_type": "code",
      "execution_count": 286,
      "metadata": {
        "id": "QlzOORVpgxLK"
      },
      "outputs": [],
      "source": [
        "# Inicializamos los datos\n",
        "# Creamos todos los horarios\n",
        "V20 = horario(\"V20\", 0.4)\n",
        "S12 = horario(\"S12\", 0.55)\n",
        "S16 = horario(\"S16\", 0.7)\n",
        "S18 = horario(\"S18\", 0.8)\n",
        "S20 = horario(\"S20\", 1)\n",
        "D12 = horario(\"D12\", 0.45)\n",
        "D16 = horario(\"D16\", 0.75)\n",
        "D18 = horario(\"D18\", 0.85)\n",
        "D20 = horario(\"D20\", 1)\n",
        "L20 = horario(\"L20\", 0.4)\n",
        "ARRAY_HORARIOS = [V20, S12, S16, S18, S20, D12, D16, D18, D20, L20]\n",
        "#ARRAY_HORARIOS = [V20, S12, S20, D20, D16]"
      ]
    },
    {
      "cell_type": "code",
      "execution_count": 287,
      "metadata": {
        "id": "Xp69I3ZrjFhM"
      },
      "outputs": [],
      "source": [
        "# Creamos todos los equipos\n",
        "rma = equipo(\"Real Madrid\", \"rma\", \"A\")\n",
        "rso = equipo(\"Real Sociedad\",\"rso\", \"A\")\n",
        "bcn = equipo(\"Barcelona\", \"bcn\", \"A\")\n",
        "clt = equipo(\"Celta\", \"cel\", \"B\")\n",
        "vlc = equipo(\"Valencia\", \"vlc\", \"B\")\n",
        "ath = equipo(\"Athletic\", \"ath\", \"B\")\n",
        "vll = equipo(\"Villarreal\", \"vll\", \"B\")\n",
        "ala = equipo(\"Alavés\", \"ala\", \"B\")\n",
        "lvt = equipo(\"Levante\", \"lev\", \"B\")\n",
        "esp = equipo(\"Espanyol\", \"esp\", \"B\")\n",
        "sev = equipo(\"Sevilla\", \"sev\", \"B\")\n",
        "bet = equipo(\"Betis\", \"bet\", \"B\")\n",
        "atl = equipo(\"Atlético\", \"atm\", \"B\")\n",
        "get = equipo(\"Getafe\", \"get\", \"B\")\n",
        "mal = equipo(\"Mallorca\", \"mal\", \"C\")\n",
        "eib = equipo(\"Eibar\", \"eib\", \"C\")\n",
        "leg = equipo(\"Leganés\", \"leg\", \"C\")\n",
        "osa = equipo(\"Osasuna\", \"osa\", \"C\")\n",
        "gra = equipo(\"Granada\", \"gra\", \"C\")\n",
        "val = equipo(\"Valladolid\", \"val\", \"C\")\n",
        "\n",
        "ARRAY_EQUIPOS = [rma, rso, bcn, clt, vlc, ath, vll, ala, lvt, esp, sev, bet, atl, get, mal, eib, leg, osa, gra, val]"
      ]
    },
    {
      "cell_type": "code",
      "execution_count": 288,
      "metadata": {
        "id": "UwisonmujG7w"
      },
      "outputs": [],
      "source": [
        "# Creamos todos los partidos, pues los partidos no son aleatorioas, sino que son los dados en el enunciado\n",
        "p1 = partido(clt, rma)\n",
        "p2 = partido(vlc, rso)\n",
        "p3 = partido(mal, eib)\n",
        "p4 = partido(ath, bcn)\n",
        "p5 = partido(leg, osa)\n",
        "p6 = partido(vll, gra)\n",
        "p7 = partido(ala, lvt)\n",
        "p8 = partido(esp, sev)\n",
        "p9 = partido(bet, val)\n",
        "p10 = partido(atl, get)\n",
        "\n",
        "ARRAY_PARTIDOS = [p1, p2, p3, p4, p5, p6, p7, p8, p9, p10]\n",
        "#ARRAY_PARTIDOS = [p1, p2, p3, p5, p10]"
      ]
    },
    {
      "cell_type": "markdown",
      "metadata": {
        "id": "7Z9U2W7bi-XS"
      },
      "source": [
        "Según el modelo para el espacio de soluciones<br>\n",
        "(*)¿Cual es la función objetivo?\n",
        "\n",
        "(*)¿Es un problema de maximización o minimización?"
      ]
    },
    {
      "cell_type": "markdown",
      "metadata": {
        "id": "hBalWLM7j1_d"
      },
      "source": [
        "Respuesta\n",
        "\n",
        "La función objetivo es\n",
        "\n",
        "$Num\\;audiencia = f(x) = \\sum_{i=0}^7c_i \\cdot b_i\\cdot\\sum_{j=1}^{n_i} p_{i,j},$\n",
        "donde i es un índice que va desde el primer hueco (viernes a las 29h) hasta el último (lunes a las 20h), $n_i$ es el número de partidos que suceden a la vez en un determinado hueco $i$, $c_i$ es el factor corrector dependiendo del número de concurrencias en dicho horario y $b_i$ es la audiencia base de dicho horario y $p_{i,j}$ es la audiencia de cada uno de los partidos que se han decidido colocar en el horario $i$. Para analizar este valor se debe atender a la categoría del equipo local y del visitante, pero puesto que los partidos han sido fijados ya (solo hay que solucionar la jornada del enunciado), no es necesario formalizar esta parte.\n",
        "\n",
        "En el sumatorio interno se ha decidido inicializar $j$ a 1 de forma que, en caso de que no haya ningún partido en dicho horario, $n_{i,j}=0$, por lo que tendríamos una suma vacía, 0.\n",
        "\n",
        "Se trata de un problema de maximización, pues debemos hallar el máximo número de espectadores"
      ]
    },
    {
      "cell_type": "markdown",
      "metadata": {
        "id": "rlnTYgY1j6I2"
      },
      "source": [
        "Diseña un algoritmo para resolver el problema por fuerza bruta"
      ]
    },
    {
      "cell_type": "markdown",
      "metadata": {
        "id": "70rDgxYXkC8r"
      },
      "source": [
        "Respuesta\n",
        "Un algoritmo de fuerza bruta es aquel que explore, una a una, todas las soluciones posibles y vaya almacenando la mejor de todas ellas. Es un método que garantiza hallar la solución exacta, pero en espacios de soluciones muy grandes (como en el que estamos) son impracticables."
      ]
    },
    {
      "cell_type": "code",
      "execution_count": 289,
      "metadata": {
        "id": "QIv-d6ovcQno"
      },
      "outputs": [],
      "source": [
        "VERBOSE = False"
      ]
    },
    {
      "cell_type": "code",
      "execution_count": 290,
      "metadata": {
        "id": "ggNeNmTCmp-k"
      },
      "outputs": [],
      "source": [
        "def get_array_coincidencias(arr_hor):\n",
        "  arr = np.zeros(len(ARRAY_HORARIOS))\n",
        "  for index, hor in enumerate(ARRAY_HORARIOS):\n",
        "    arr[index] = arr_hor.count(hor)\n",
        "  return arr"
      ]
    },
    {
      "cell_type": "code",
      "execution_count": 291,
      "metadata": {
        "id": "OOEk9MC5YAHp"
      },
      "outputs": [],
      "source": [
        "def correg_coincidencias(arr_part_hor):\n",
        "  arr_hor = []\n",
        "  for part_hor in arr_part_hor:\n",
        "    arr_hor.append(part_hor.horario)\n",
        "  arr_coinc = get_array_coincidencias(arr_hor)\n",
        "\n",
        "  for elem in arr_part_hor:\n",
        "    elem.corregir_coincidencias(arr_coinc[ARRAY_HORARIOS.index(elem.horario)])\n"
      ]
    },
    {
      "cell_type": "code",
      "execution_count": 292,
      "metadata": {
        "id": "Ci70UGNyLcfl"
      },
      "outputs": [],
      "source": [
        "def calc_audiencia(arr_part_hor):\n",
        "  correg_coincidencias(arr_part_hor)\n",
        "  aud_tot = 0\n",
        "  for elem in arr_part_hor:\n",
        "    aud_tot = aud_tot + elem.audiencia_coincidencias\n",
        "  return aud_tot"
      ]
    },
    {
      "cell_type": "code",
      "execution_count": 293,
      "metadata": {
        "id": "jOmsvc1ofFJI"
      },
      "outputs": [],
      "source": [
        "# Una vez  que sabemos cuantos partidos hay en cada horario, iteramos sobre todas las posibilidades de asignación de partidos en ese horario\n",
        "\n",
        "# Todas las audiencias suman, por lo que no debemos preocuparnos por casos en los que haya partidos no asignados, pues esa solución nunca será marcada como la mejor\n",
        "def asignar_partidos(arr_hor, arr_part, arr_part_hor):\n",
        "  # Encontramos el primer horario en el que debe haber un partido\n",
        "  arr_nonz = np.nonzero(arr_hor)[0]\n",
        "\n",
        "  if len(arr_nonz) > 0:\n",
        "    index_hor = arr_nonz[0]\n",
        "    # Asignamos en ese horario un partido (cubrimos todas las posibilidades)\n",
        "    for part in arr_part:\n",
        "      arr_hor_aux = arr_hor.copy()\n",
        "      arr_part_hor_aux = arr_part_hor.copy()\n",
        "      arr_part_aux = arr_part.copy()\n",
        "\n",
        "      arr_part_aux.remove(part)\n",
        "      arr_part_hor_aux.append(partido_horario(part, ARRAY_HORARIOS[index_hor]))\n",
        "      arr_hor_aux[index_hor] -= 1\n",
        "      audiencia, arr_part_hor_sol = asignar_partidos(arr_hor_aux, arr_part_aux, arr_part_hor_aux)\n",
        "  else:\n",
        "    # Ya hemos asignado todos los partidos\n",
        "    audiencia = calc_audiencia(arr_part_hor)\n",
        "    arr_part_hor_sol = arr_part_hor\n",
        "  return audiencia, arr_part_hor_sol"
      ]
    },
    {
      "cell_type": "code",
      "execution_count": 294,
      "metadata": {
        "id": "3lURmJku__Z4"
      },
      "outputs": [],
      "source": [
        "def asignar_horarios(arr_hors, partidos_restantes, index):\n",
        "  arr_aux = arr_hors.copy()\n",
        "  max_aux = 0\n",
        "  arr_max_hors = []\n",
        "  part_rest = partidos_restantes\n",
        "  for i in range(partidos_restantes + 1):\n",
        "    part_rest = partidos_restantes\n",
        "    if index == len(arr_aux)-1:\n",
        "      #Asignamos todos los partidos al último índice porque es la última opción\n",
        "      arr_aux[index] = part_rest\n",
        "      part_rest = 0\n",
        "    else:\n",
        "      arr_aux[index] = i\n",
        "      part_rest -= i\n",
        "    if part_rest == 0:\n",
        "      arr_part_hor = []\n",
        "      aud, arr_sols = asignar_partidos(arr_aux, ARRAY_PARTIDOS, arr_part_hor)\n",
        "    else:\n",
        "      aud, arr_sols = asignar_horarios(arr_aux, part_rest, index + 1)\n",
        "    if aud > max_aux:\n",
        "      max_aux = aud\n",
        "      arr_max_hors = arr_sols\n",
        "  return max_aux, arr_max_hors"
      ]
    },
    {
      "cell_type": "code",
      "source": [
        "num_partidos = len(ARRAY_PARTIDOS)\n",
        "num_horarios = len(ARRAY_HORARIOS)\n",
        "\n",
        "# En num_partidos_horario almacenamos el número de partidos en cada horario, inicialmente 0 y vamos a iterar sobre todas las soluciones\n",
        "num_partidos_horario = np.zeros(num_horarios)\n",
        "audiencia, arr_sols = asignar_horarios(num_partidos_horario, num_partidos, 0)\n",
        "print('SOLUCIONES:')\n",
        "print(\"Audiencia total: \" + str(audiencia))\n",
        "print(\"Partidos: \" + str(arr_sols))\n"
      ],
      "metadata": {
        "id": "yXwnYGPRxNAv"
      },
      "execution_count": null,
      "outputs": []
    },
    {
      "cell_type": "markdown",
      "metadata": {
        "id": "tgrnsC2nkFa8"
      },
      "source": [
        "Calcula la complejidad del algoritmo por fuerza bruta"
      ]
    },
    {
      "cell_type": "markdown",
      "metadata": {
        "id": "9eUd3xwckP68"
      },
      "source": [
        "Respuesta\n",
        "Tenemos que analizar el número de bucles anidados que tenemos:\n",
        "  * ```for i in range(partidos_restantes + 1):```\n",
        "  Este bucle se repite reduciendo en uno el numer de partidos restantes, por lo que, al finalizar la recursividad tendríamos $n!$, siendo $n$ el número de partidos.\n",
        "  *  ```for part in arr_part::``` Nuevamente se trata de un bucle que induce una recursividad en la que va descendiendo en una unidad el tamaño de ```arr_part``` a cada paso, por lo que tenemos $n!$ nuevamente.\n",
        "  * Dentro de la función ```calcular_asistencia``` tenemos tres bucles que iteran sobre el arraay que agrupa partidos y horarios, por lo tanto $3n$.\n",
        "\n",
        "\n",
        "Teniendo en cuenta el número de bucles anidados que estamos tratando, la complejidad del algoritmo es de tipo $O(f) = (n!)^2*3n$, siendo $n$ el número de partidos. Es decir, se tata de una complejidad horrible que crece mucho con cada nuevo elemento que añadimos.\n",
        "\n"
      ]
    },
    {
      "cell_type": "markdown",
      "metadata": {
        "id": "txbrmLmskReM"
      },
      "source": [
        "(*)Diseña un algoritmo que mejore la complejidad del algortimo por fuerza bruta. Argumenta porque crees que mejora el algoritmo por fuerza bruta"
      ]
    },
    {
      "cell_type": "markdown",
      "metadata": {
        "id": "hLrVwt5QkZPD"
      },
      "source": [
        "Respuesta\n",
        "\n",
        "Voy a usar un algoritmo genético que mejore la exploración de soluciones\n",
        "\n",
        "Al realizar una poda de opciones, estamos descartando evaluar soluciones que sabemos que no van a darnos una solución buena, por lo que la complejidad del algorimto diseñado será mejor"
      ]
    },
    {
      "cell_type": "code",
      "source": [
        "# Para printear ordenada la solución\n",
        "def indice_horario(ph):\n",
        "    return [\"V20\", \"S12\", \"S16\", \"S18\", \"S20\", \"D12\", \"D16\", \"D18\", \"D20\", \"L20\"].index(ph.horario.nombre)"
      ],
      "metadata": {
        "id": "jrZ8_au0nfIV"
      },
      "execution_count": 364,
      "outputs": []
    },
    {
      "cell_type": "code",
      "source": [
        "def calc_max_aud_poblacion(poblacion):\n",
        "  aud_max = 0\n",
        "  part_hor_max = []\n",
        "  for indiv in poblacion:\n",
        "    aud_ind = calc_audiencia(indiv)\n",
        "    if aud_ind > aud_max:\n",
        "      aud_max = aud_ind\n",
        "      part_hor_max = indiv\n",
        "  return aud_max, part_hor_max\n"
      ],
      "metadata": {
        "id": "RzZNMK4oytvK"
      },
      "execution_count": 317,
      "outputs": []
    },
    {
      "cell_type": "code",
      "source": [
        "def assign_horarios(arr_p, arr_h):\n",
        "  arr_part_hor = []\n",
        "  part_l, part_v = random.sample(arr_p, 2)\n",
        "\n",
        "  # Asignacion partido lunes\n",
        "  arr_part_hor.append(partido_horario(part_l, arr_h[0]))\n",
        "  # Asignación partido viernes\n",
        "  arr_part_hor.append(partido_horario(part_v, arr_h[-1]))\n",
        "  # Eliminamos de elegibles lunes y viernes y los partidos seleccionados\n",
        "  arr_p.remove(part_l)\n",
        "  arr_p.remove(part_v)\n",
        "  arr_h.pop(0)\n",
        "  arr_h.pop(-1)\n",
        "  # Asignamos el resto de partidos de forma aleatoria sin restricciones\n",
        "  while(len(arr_p) > 0):\n",
        "    part = random.sample(arr_p, 1)[0]\n",
        "    hor = random.sample(arr_h, 1)[0]\n",
        "    arr_part_hor.append(partido_horario(part, hor))\n",
        "    arr_p.remove(part)\n",
        "  return arr_part_hor"
      ],
      "metadata": {
        "id": "QD9nEI8GyZca"
      },
      "execution_count": 318,
      "outputs": []
    },
    {
      "cell_type": "code",
      "source": [
        "def crear_pob_inicial(tam_poblacion, array_partidos, array_horarios):\n",
        "  poblacion = []\n",
        "  for _ in range(tam_poblacion):\n",
        "    # Seleccionamos aleatoriamente el orden de los partidos y su ubicación garantizando que hay uno el viernes y uno el lunes\n",
        "    # Para ello los asignamos inicialmente y los eliminamos de los horarios candidatos\n",
        "    arr_p_aux = array_partidos.copy()\n",
        "    arr_h_aux = array_horarios.copy()\n",
        "    poblacion.append(assign_horarios(arr_p_aux,arr_h_aux))\n",
        "  return poblacion"
      ],
      "metadata": {
        "id": "FbV8xepUxE42"
      },
      "execution_count": 319,
      "outputs": []
    },
    {
      "cell_type": "code",
      "source": [
        "def generate_mask(len):\n",
        "    return [random.choice([0, 1]) for _ in range(len)]"
      ],
      "metadata": {
        "id": "C4R-aHwZBaC7"
      },
      "execution_count": 320,
      "outputs": []
    },
    {
      "cell_type": "code",
      "source": [
        "# Se intercambian dos partidos de horario de forma aleatoria\n",
        "def mutate(individuo, prob_mutacion):\n",
        "  if random.random() < prob_mutacion:\n",
        "    index1, index2 = sorted(random.sample(range(len(individuo)), 2))\n",
        "    part_hor1 = individuo[index1]\n",
        "    part_hor2 = individuo[index2]\n",
        "    part1_new = partido_horario(part_hor1.partido, part_hor2.horario)\n",
        "    part2_new = partido_horario(part_hor2.partido, part_hor1.horario)\n",
        "    ind_aux = individuo[:index1] + [part1_new] + individuo[index1+1:index2] + [part2_new] + individuo[index2+1:]\n",
        "    return ind_aux\n",
        "  else:\n",
        "    return individuo"
      ],
      "metadata": {
        "id": "9CA7RWQVDhlT"
      },
      "execution_count": 321,
      "outputs": []
    },
    {
      "cell_type": "code",
      "source": [
        "# Opción para cruce uniforme con una máscara aleatoria para cada descendencia\n",
        "def cruce_pob_mask_random(poblacion, prob_mutacion):\n",
        "\n",
        "  poblacion_copia = copy.deepcopy(poblacion)\n",
        "  poblacion_final = copy.deepcopy(poblacion)\n",
        "\n",
        "  while len(poblacion_copia) > 1:\n",
        "    p1, p2 = random.sample(poblacion_copia, 2)\n",
        "    poblacion_copia.remove(p1)\n",
        "    poblacion_copia.remove(p2)\n",
        "    mask = generate_mask(len(p1))\n",
        "    descendencia = generate_desc([p1, p2], prob_mutacion, mask)\n",
        "    poblacion_final.extend(descendencia)\n",
        "  return poblacion_final"
      ],
      "metadata": {
        "id": "f6O2iF0a8tqI"
      },
      "execution_count": 322,
      "outputs": []
    },
    {
      "cell_type": "code",
      "source": [
        "# No se pueden jugar un partido dos veces, así que hay que tener un mecanismo de control para esto\n",
        "# Ojo, en el mecanismo de controlo debemso tener en cuenta que, para ser solución viable, lunes y viernes debe haber un partido\n",
        "#\n",
        "# Me he tenido que crear unos arrays complementarios con las strings de los aprtidos, porque si no el operador \"in\" no funcionaba\n",
        "# correctamente cuando había que hallar los partidos desaparecidos\n",
        "def factibilice(individuo, arr_partidos_hor_init):\n",
        "  arr_partidos = []\n",
        "  arr_partidos_st = []\n",
        "  arr_partidos.extend(part_hor.partido for part_hor in arr_partidos_hor_init)\n",
        "  arr_partidos_st.extend(part_hor.partido.get_nombre() for part_hor in arr_partidos_hor_init)\n",
        "  part_individuo = []\n",
        "  part_individuo_st = []\n",
        "  part_individuo.extend(part_hor.partido for part_hor in individuo)\n",
        "  part_individuo_st.extend(part_hor.partido.get_nombre() for part_hor in individuo)\n",
        "\n",
        "  # Añadimos el random.shuffle para aleatorizar también la factibilización\n",
        "  partidos_desaparecidos = []\n",
        "  for index, part in enumerate(arr_partidos):\n",
        "    if arr_partidos_st[index] not in part_individuo_st:\n",
        "      partidos_desaparecidos.append(part)\n",
        "  random.shuffle(partidos_desaparecidos)\n",
        "\n",
        "  part_hor_aux = []\n",
        "\n",
        "  # En todos los casos, los horarios generados en part_hor_aux vienen del padre, que es factible, por lo que, pese a que no aleatorizamos del todo,\n",
        "  # se garantiza que lunes y viernes va a haber un partido (los había en el padre)\n",
        "\n",
        "  for i in range(len(part_individuo)):\n",
        "\n",
        "    if part_individuo_st[i] in part_individuo_st[:i]:\n",
        "      p = partidos_desaparecidos.pop(0)\n",
        "      h = arr_partidos_hor_init[i].horario\n",
        "      p_h = partido_horario(p, h)\n",
        "      #print(\"Factibilizando (\" + str(i) + \") \" + str(part_individuo[i]) + \". Añadiremos \" + str(p_h))\n",
        "      part_hor_aux.append(p_h)\n",
        "    else:\n",
        "      part_hor_aux.append(individuo[i])\n",
        "  return part_hor_aux"
      ],
      "metadata": {
        "id": "BaElGrdMC3m_"
      },
      "execution_count": 323,
      "outputs": []
    },
    {
      "cell_type": "code",
      "source": [
        "def generate_desc(arr_padres, prob_mutacion, mask):\n",
        "\n",
        "  # Si el elemento de la máscara es 1, entonces se elige el segundo padre, sino el primero\n",
        "  hijo1 = []\n",
        "  hijo2 = []\n",
        "  for index, bit in enumerate(mask):\n",
        "\n",
        "    hijo1.append(arr_padres[bit][index])\n",
        "    hijo2.append(arr_padres[not bit][index])\n",
        "\n",
        "  # En cualquiera de los dos padres etá una lista de partidos con todos los partidos,\n",
        "  # pues sabemos que los padres son factibles\n",
        "  hijo1 =  factibilice(hijo1, arr_padres[0])\n",
        "  hijo2 =  factibilice(hijo2, arr_padres[0])\n",
        "\n",
        "  mut1 = mutate(hijo1, prob_mutacion)\n",
        "  mut2 = mutate(hijo2, prob_mutacion)\n",
        "\n",
        "  return [hijo1, hijo2, mut1, mut2]"
      ],
      "metadata": {
        "id": "FAsfEcuWCoFB"
      },
      "execution_count": 324,
      "outputs": []
    },
    {
      "cell_type": "code",
      "source": [
        "# Vamos a usar un mecanismo de cruce uniforme con una máscara igual para cada descendencia\n",
        "def cruce_pob_mask_unif(poblacion, prob_mutacion, mask):\n",
        "  poblacion_copia = copy.deepcopy(poblacion)\n",
        "  poblacion_final = copy.deepcopy(poblacion)\n",
        "\n",
        "  while len(poblacion_copia) > 1:\n",
        "    p1, p2 = random.sample(poblacion_copia, 2)\n",
        "    poblacion_copia.remove(p1)\n",
        "    poblacion_copia.remove(p2)\n",
        "    descendencia = generate_desc([p1, p2], prob_mutacion, mask)\n",
        "    poblacion_final.extend(descendencia)\n",
        "  return"
      ],
      "metadata": {
        "id": "W0h5yX_JBWxj"
      },
      "execution_count": 325,
      "outputs": []
    },
    {
      "cell_type": "code",
      "source": [
        "def selecc_pob(poblacion, tam_poblacion, prob_elitismo):\n",
        "  poblacion_ordenada = sorted([[calc_audiencia(solucion), solucion] for solucion in poblacion ], key= lambda x:x[0], reverse=True)\n",
        "\n",
        "  #Devolvemos porcentaje determinado por elitismo de mejores soluciones y el resto se eligen aleatoriamente\n",
        "  return [x[1] for x in poblacion_ordenada][:int(tam_poblacion*prob_elitismo)] + random.sample([x[1] for x in poblacion_ordenada][int(tam_poblacion*prob_elitismo):], int(tam_poblacion*(1-prob_elitismo)))"
      ],
      "metadata": {
        "id": "_aOn7YOz8wbl"
      },
      "execution_count": 326,
      "outputs": []
    },
    {
      "cell_type": "code",
      "source": [
        "def alg_genetico(array_partidos, array_horarios, tam_poblacion, prob_mutacion, prob_elitismo, generaciones):\n",
        "\n",
        "  # Creamos una población inicial\n",
        "  poblacion = crear_pob_inicial(tam_poblacion, array_partidos, array_horarios)\n",
        "  # Realizamos una evaluación inicial\n",
        "  aud_max, part_hor_max = calc_max_aud_poblacion(poblacion)\n",
        "  sol = (aud_max, part_hor_max)\n",
        "\n",
        "  # Ejecutamos el algoritmo genético tantas veces como generaciones se hayan indicado\n",
        "  cond_parada = 0\n",
        "  pbar = tqdm(total=generaciones)\n",
        "  mask = generate_mask(len(array_partidos))\n",
        "  while(cond_parada < generaciones):\n",
        "    #Cruce de la poblacion(incluye mutación)\n",
        "    #poblacion = cruce_pob_mask_unif(poblacion, prob_mutacion, mask)\n",
        "    poblacion = cruce_pob_mask_random(poblacion, prob_mutacion)\n",
        "    #Seleccionamos la población en funcion del elitismo\n",
        "    poblacion = selecc_pob(poblacion, tam_poblacion, prob_elitismo)\n",
        "    #Evaluamos la nueva población\n",
        "    aud_max, part_hor_max = calc_max_aud_poblacion(poblacion)\n",
        "    sol = (aud_max, part_hor_max)\n",
        "\n",
        "    print(\"Generacion #\", str(cond_parada), \": audiencia \" , str(round(sol[0], 5)) , \", solución es:\" , str(sol[1]))\n",
        "    pbar.update(1)\n",
        "    cond_parada += 1\n",
        "  return sol"
      ],
      "metadata": {
        "id": "_UiDP7ZHwiIu"
      },
      "execution_count": 359,
      "outputs": []
    },
    {
      "cell_type": "code",
      "source": [
        "# Determinamos los parámetros para el algoritmo genético\n",
        "array_partidos, array_horarios = ARRAY_PARTIDOS, ARRAY_HORARIOS\n",
        "tam_poblacion=500\n",
        "prob_mutacion=0.3\n",
        "prob_elitismo=0.4\n",
        "generaciones=150"
      ],
      "metadata": {
        "id": "xOWO9ZEamZR5"
      },
      "execution_count": 366,
      "outputs": []
    },
    {
      "cell_type": "code",
      "source": [
        "sol = alg_genetico(array_partidos, array_horarios, tam_poblacion, prob_mutacion, prob_elitismo, generaciones)\n",
        "\n",
        "print(\"-------------------------------------\\nLa solución encontrada ha sido: \")\n",
        "for ph in sorted(sol[1], key=indice_horario):\n",
        "  print(ph.get_nombre())\n",
        "print(\"Con una audiencia total de \", str(round(sol[0], 5)), \" millones de espectadores.\")"
      ],
      "metadata": {
        "colab": {
          "base_uri": "https://localhost:8080/"
        },
        "id": "f_WGpWuSw1x4",
        "outputId": "271d1ea9-d792-44f7-c6be-d33002fb2740"
      },
      "execution_count": 365,
      "outputs": [
        {
          "output_type": "stream",
          "name": "stderr",
          "text": [
            "\n",
            " 35%|███▌      | 7/20 [06:01<11:11, 51.63s/it]\n",
            "\n",
            "  1%|          | 1/150 [00:00<01:21,  1.84it/s]\u001b[A"
          ]
        },
        {
          "output_type": "stream",
          "name": "stdout",
          "text": [
            "Generacion # 0 : audiencia  6.608 , solución es: [V20: mal - eib, L20: bet - val, S18: esp - sev, S16: vlc - rso, D16: leg - osa, S18: atm - get, S12: vll - gra, D18: ala - lev, S20: ath - bcn, D20: cel - rma]\n"
          ]
        },
        {
          "output_type": "stream",
          "name": "stderr",
          "text": [
            "\n",
            "  1%|▏         | 2/150 [00:00<00:59,  2.47it/s]\u001b[A"
          ]
        },
        {
          "output_type": "stream",
          "name": "stdout",
          "text": [
            "Generacion # 1 : audiencia  6.608 , solución es: [V20: mal - eib, L20: bet - val, S18: esp - sev, S16: vlc - rso, D16: leg - osa, S18: atm - get, S12: vll - gra, D18: ala - lev, S20: ath - bcn, D20: cel - rma]\n"
          ]
        },
        {
          "output_type": "stream",
          "name": "stderr",
          "text": [
            "\n",
            "  2%|▏         | 3/150 [00:01<00:53,  2.76it/s]\u001b[A"
          ]
        },
        {
          "output_type": "stream",
          "name": "stdout",
          "text": [
            "Generacion # 2 : audiencia  6.608 , solución es: [V20: mal - eib, L20: bet - val, S18: esp - sev, S16: vlc - rso, D16: leg - osa, S18: atm - get, S12: vll - gra, D18: ala - lev, S20: ath - bcn, D20: cel - rma]\n"
          ]
        },
        {
          "output_type": "stream",
          "name": "stderr",
          "text": [
            "\n",
            "  3%|▎         | 4/150 [00:01<00:55,  2.63it/s]\u001b[A"
          ]
        },
        {
          "output_type": "stream",
          "name": "stdout",
          "text": [
            "Generacion # 3 : audiencia  6.608 , solución es: [V20: mal - eib, L20: bet - val, S18: esp - sev, S16: vlc - rso, D16: leg - osa, S18: atm - get, S12: vll - gra, D18: ala - lev, S20: ath - bcn, D20: cel - rma]\n"
          ]
        },
        {
          "output_type": "stream",
          "name": "stderr",
          "text": [
            "\n",
            "  3%|▎         | 5/150 [00:01<00:50,  2.86it/s]\u001b[A"
          ]
        },
        {
          "output_type": "stream",
          "name": "stdout",
          "text": [
            "Generacion # 4 : audiencia  6.608 , solución es: [V20: mal - eib, L20: bet - val, S18: esp - sev, S16: vlc - rso, D16: leg - osa, S18: atm - get, S12: vll - gra, D18: ala - lev, S20: ath - bcn, D20: cel - rma]\n"
          ]
        },
        {
          "output_type": "stream",
          "name": "stderr",
          "text": [
            "\n",
            "  4%|▍         | 6/150 [00:02<00:48,  3.00it/s]\u001b[A"
          ]
        },
        {
          "output_type": "stream",
          "name": "stdout",
          "text": [
            "Generacion # 5 : audiencia  6.608 , solución es: [V20: mal - eib, L20: bet - val, S18: esp - sev, S16: vlc - rso, D16: leg - osa, S18: atm - get, S12: vll - gra, D18: ala - lev, S20: ath - bcn, D20: cel - rma]\n"
          ]
        },
        {
          "output_type": "stream",
          "name": "stderr",
          "text": [
            "\n",
            "  5%|▍         | 7/150 [00:02<00:52,  2.73it/s]\u001b[A"
          ]
        },
        {
          "output_type": "stream",
          "name": "stdout",
          "text": [
            "Generacion # 6 : audiencia  6.608 , solución es: [V20: mal - eib, L20: bet - val, S18: esp - sev, S16: vlc - rso, D16: leg - osa, S18: atm - get, S12: vll - gra, D18: ala - lev, S20: ath - bcn, D20: cel - rma]\n"
          ]
        },
        {
          "output_type": "stream",
          "name": "stderr",
          "text": [
            "\n",
            "  5%|▌         | 8/150 [00:02<00:53,  2.66it/s]\u001b[A"
          ]
        },
        {
          "output_type": "stream",
          "name": "stdout",
          "text": [
            "Generacion # 7 : audiencia  6.608 , solución es: [V20: mal - eib, L20: bet - val, S18: esp - sev, S16: vlc - rso, D16: leg - osa, S18: atm - get, S12: vll - gra, D18: ala - lev, S20: ath - bcn, D20: cel - rma]\n"
          ]
        },
        {
          "output_type": "stream",
          "name": "stderr",
          "text": [
            "\n",
            "  6%|▌         | 9/150 [00:03<01:00,  2.35it/s]\u001b[A"
          ]
        },
        {
          "output_type": "stream",
          "name": "stdout",
          "text": [
            "Generacion # 8 : audiencia  6.608 , solución es: [V20: mal - eib, L20: bet - val, S18: esp - sev, S16: vlc - rso, D16: leg - osa, S18: atm - get, S12: vll - gra, D18: ala - lev, S20: ath - bcn, D20: cel - rma]\n"
          ]
        },
        {
          "output_type": "stream",
          "name": "stderr",
          "text": [
            "\n",
            "  7%|▋         | 10/150 [00:04<01:06,  2.10it/s]\u001b[A"
          ]
        },
        {
          "output_type": "stream",
          "name": "stdout",
          "text": [
            "Generacion # 9 : audiencia  6.73225 , solución es: [V20: mal - eib, L20: leg - osa, S18: esp - sev, S16: vlc - rso, D16: ala - lev, D18: bet - val, S20: cel - rma, D18: vll - gra, S12: atm - get, D20: ath - bcn]\n"
          ]
        },
        {
          "output_type": "stream",
          "name": "stderr",
          "text": [
            "\n",
            "  7%|▋         | 11/150 [00:04<01:18,  1.78it/s]\u001b[A"
          ]
        },
        {
          "output_type": "stream",
          "name": "stdout",
          "text": [
            "Generacion # 10 : audiencia  6.73225 , solución es: [V20: mal - eib, L20: leg - osa, S18: esp - sev, S16: vlc - rso, D16: ala - lev, D18: bet - val, S20: cel - rma, D18: vll - gra, S12: atm - get, D20: ath - bcn]\n"
          ]
        },
        {
          "output_type": "stream",
          "name": "stderr",
          "text": [
            "\n",
            "  8%|▊         | 12/150 [00:05<01:26,  1.59it/s]\u001b[A"
          ]
        },
        {
          "output_type": "stream",
          "name": "stdout",
          "text": [
            "Generacion # 11 : audiencia  6.73225 , solución es: [V20: mal - eib, L20: leg - osa, S18: esp - sev, S16: vlc - rso, D16: ala - lev, D18: bet - val, S20: cel - rma, D18: vll - gra, S12: atm - get, D20: ath - bcn]\n"
          ]
        },
        {
          "output_type": "stream",
          "name": "stderr",
          "text": [
            "\n",
            "  9%|▊         | 13/150 [00:06<01:24,  1.62it/s]\u001b[A"
          ]
        },
        {
          "output_type": "stream",
          "name": "stdout",
          "text": [
            "Generacion # 12 : audiencia  6.73225 , solución es: [V20: mal - eib, L20: leg - osa, S18: esp - sev, S16: vlc - rso, D16: ala - lev, D18: bet - val, S20: cel - rma, D18: vll - gra, S12: atm - get, D20: ath - bcn]\n"
          ]
        },
        {
          "output_type": "stream",
          "name": "stderr",
          "text": [
            "\n",
            "  9%|▉         | 14/150 [00:07<01:33,  1.45it/s]\u001b[A"
          ]
        },
        {
          "output_type": "stream",
          "name": "stdout",
          "text": [
            "Generacion # 13 : audiencia  6.73225 , solución es: [V20: mal - eib, L20: leg - osa, S18: esp - sev, S16: vlc - rso, D16: ala - lev, D18: bet - val, S20: cel - rma, D18: vll - gra, S12: atm - get, D20: ath - bcn]\n"
          ]
        },
        {
          "output_type": "stream",
          "name": "stderr",
          "text": [
            "\n",
            " 10%|█         | 15/150 [00:08<01:56,  1.16it/s]\u001b[A"
          ]
        },
        {
          "output_type": "stream",
          "name": "stdout",
          "text": [
            "Generacion # 14 : audiencia  6.73225 , solución es: [V20: mal - eib, L20: leg - osa, S18: esp - sev, S16: vlc - rso, D16: ala - lev, D18: bet - val, S20: cel - rma, D18: vll - gra, S12: atm - get, D20: ath - bcn]\n"
          ]
        },
        {
          "output_type": "stream",
          "name": "stderr",
          "text": [
            "\n",
            " 11%|█         | 16/150 [00:09<02:08,  1.04it/s]\u001b[A"
          ]
        },
        {
          "output_type": "stream",
          "name": "stdout",
          "text": [
            "Generacion # 15 : audiencia  6.73225 , solución es: [V20: mal - eib, L20: leg - osa, S18: esp - sev, S16: vlc - rso, D16: ala - lev, D18: bet - val, S20: cel - rma, D18: vll - gra, S12: atm - get, D20: ath - bcn]\n"
          ]
        },
        {
          "output_type": "stream",
          "name": "stderr",
          "text": [
            "\n",
            " 11%|█▏        | 17/150 [00:10<02:01,  1.09it/s]\u001b[A"
          ]
        },
        {
          "output_type": "stream",
          "name": "stdout",
          "text": [
            "Generacion # 16 : audiencia  6.73225 , solución es: [V20: mal - eib, L20: leg - osa, S18: esp - sev, S16: vlc - rso, D16: ala - lev, D18: bet - val, S20: cel - rma, D18: vll - gra, S12: atm - get, D20: ath - bcn]\n"
          ]
        },
        {
          "output_type": "stream",
          "name": "stderr",
          "text": [
            "\n",
            " 12%|█▏        | 18/150 [00:11<01:56,  1.13it/s]\u001b[A"
          ]
        },
        {
          "output_type": "stream",
          "name": "stdout",
          "text": [
            "Generacion # 17 : audiencia  6.73225 , solución es: [V20: mal - eib, L20: leg - osa, S18: esp - sev, S16: vlc - rso, D16: ala - lev, D18: bet - val, S20: cel - rma, D18: vll - gra, S12: atm - get, D20: ath - bcn]\n"
          ]
        },
        {
          "output_type": "stream",
          "name": "stderr",
          "text": [
            "\n",
            " 13%|█▎        | 19/150 [00:11<01:49,  1.19it/s]\u001b[A"
          ]
        },
        {
          "output_type": "stream",
          "name": "stdout",
          "text": [
            "Generacion # 18 : audiencia  6.73225 , solución es: [V20: mal - eib, L20: leg - osa, S18: esp - sev, S16: vlc - rso, D16: ala - lev, D18: bet - val, S20: cel - rma, D18: vll - gra, S12: atm - get, D20: ath - bcn]\n"
          ]
        },
        {
          "output_type": "stream",
          "name": "stderr",
          "text": [
            "\n",
            " 13%|█▎        | 20/150 [00:12<01:45,  1.23it/s]\u001b[A"
          ]
        },
        {
          "output_type": "stream",
          "name": "stdout",
          "text": [
            "Generacion # 19 : audiencia  6.73225 , solución es: [V20: mal - eib, L20: leg - osa, S18: esp - sev, S16: vlc - rso, D16: ala - lev, D18: bet - val, S20: cel - rma, D18: vll - gra, S12: atm - get, D20: ath - bcn]\n"
          ]
        },
        {
          "output_type": "stream",
          "name": "stderr",
          "text": [
            "\n",
            " 14%|█▍        | 21/150 [00:13<01:45,  1.22it/s]\u001b[A"
          ]
        },
        {
          "output_type": "stream",
          "name": "stdout",
          "text": [
            "Generacion # 20 : audiencia  6.73225 , solución es: [V20: mal - eib, L20: leg - osa, S18: esp - sev, S16: vlc - rso, D16: ala - lev, D18: bet - val, S20: cel - rma, D18: vll - gra, S12: atm - get, D20: ath - bcn]\n"
          ]
        },
        {
          "output_type": "stream",
          "name": "stderr",
          "text": [
            "\n",
            " 15%|█▍        | 22/150 [00:14<01:46,  1.20it/s]\u001b[A"
          ]
        },
        {
          "output_type": "stream",
          "name": "stdout",
          "text": [
            "Generacion # 21 : audiencia  6.73225 , solución es: [V20: mal - eib, L20: leg - osa, S18: esp - sev, S16: vlc - rso, D16: ala - lev, D18: bet - val, S20: cel - rma, D18: vll - gra, S12: atm - get, D20: ath - bcn]\n"
          ]
        },
        {
          "output_type": "stream",
          "name": "stderr",
          "text": [
            "\n",
            " 15%|█▌        | 23/150 [00:15<01:47,  1.18it/s]\u001b[A"
          ]
        },
        {
          "output_type": "stream",
          "name": "stdout",
          "text": [
            "Generacion # 22 : audiencia  6.73225 , solución es: [V20: mal - eib, L20: leg - osa, S18: esp - sev, S16: vlc - rso, D16: ala - lev, D18: bet - val, S20: cel - rma, D18: vll - gra, S12: atm - get, D20: ath - bcn]\n"
          ]
        },
        {
          "output_type": "stream",
          "name": "stderr",
          "text": [
            "\n",
            " 16%|█▌        | 24/150 [00:16<01:48,  1.17it/s]\u001b[A"
          ]
        },
        {
          "output_type": "stream",
          "name": "stdout",
          "text": [
            "Generacion # 23 : audiencia  6.73225 , solución es: [V20: mal - eib, L20: leg - osa, S18: esp - sev, S16: vlc - rso, D16: ala - lev, D18: bet - val, S20: cel - rma, D18: vll - gra, S12: atm - get, D20: ath - bcn]\n"
          ]
        },
        {
          "output_type": "stream",
          "name": "stderr",
          "text": [
            "\n",
            " 17%|█▋        | 25/150 [00:16<01:38,  1.27it/s]\u001b[A"
          ]
        },
        {
          "output_type": "stream",
          "name": "stdout",
          "text": [
            "Generacion # 24 : audiencia  6.73225 , solución es: [V20: mal - eib, L20: leg - osa, S18: esp - sev, S16: vlc - rso, D16: ala - lev, D18: bet - val, S20: cel - rma, D18: vll - gra, S12: atm - get, D20: ath - bcn]\n"
          ]
        },
        {
          "output_type": "stream",
          "name": "stderr",
          "text": [
            "\n",
            " 17%|█▋        | 26/150 [00:17<01:34,  1.31it/s]\u001b[A"
          ]
        },
        {
          "output_type": "stream",
          "name": "stdout",
          "text": [
            "Generacion # 25 : audiencia  6.73225 , solución es: [V20: mal - eib, L20: leg - osa, S18: esp - sev, S16: vlc - rso, D16: ala - lev, D18: bet - val, S20: cel - rma, D18: vll - gra, S12: atm - get, D20: ath - bcn]\n"
          ]
        },
        {
          "output_type": "stream",
          "name": "stderr",
          "text": [
            "\n",
            " 18%|█▊        | 27/150 [00:18<01:36,  1.27it/s]\u001b[A"
          ]
        },
        {
          "output_type": "stream",
          "name": "stdout",
          "text": [
            "Generacion # 26 : audiencia  6.73225 , solución es: [V20: mal - eib, L20: leg - osa, S18: esp - sev, S16: vlc - rso, D16: ala - lev, D18: bet - val, S20: cel - rma, D18: vll - gra, S12: atm - get, D20: ath - bcn]\n"
          ]
        },
        {
          "output_type": "stream",
          "name": "stderr",
          "text": [
            "\n",
            " 19%|█▊        | 28/150 [00:19<01:44,  1.17it/s]\u001b[A"
          ]
        },
        {
          "output_type": "stream",
          "name": "stdout",
          "text": [
            "Generacion # 27 : audiencia  6.73225 , solución es: [V20: mal - eib, L20: leg - osa, S18: esp - sev, S16: vlc - rso, D16: ala - lev, D18: bet - val, S20: cel - rma, D18: vll - gra, S12: atm - get, D20: ath - bcn]\n"
          ]
        },
        {
          "output_type": "stream",
          "name": "stderr",
          "text": [
            "\n",
            " 19%|█▉        | 29/150 [00:20<01:50,  1.10it/s]\u001b[A"
          ]
        },
        {
          "output_type": "stream",
          "name": "stdout",
          "text": [
            "Generacion # 28 : audiencia  6.73225 , solución es: [V20: mal - eib, L20: leg - osa, S18: esp - sev, S16: vlc - rso, D16: ala - lev, D18: bet - val, S20: cel - rma, D18: vll - gra, S12: atm - get, D20: ath - bcn]\n"
          ]
        },
        {
          "output_type": "stream",
          "name": "stderr",
          "text": [
            "\n",
            " 20%|██        | 30/150 [00:21<02:03,  1.03s/it]\u001b[A"
          ]
        },
        {
          "output_type": "stream",
          "name": "stdout",
          "text": [
            "Generacion # 29 : audiencia  6.73225 , solución es: [V20: mal - eib, L20: leg - osa, S18: esp - sev, S16: vlc - rso, D16: ala - lev, D18: bet - val, S20: cel - rma, D18: vll - gra, S12: atm - get, D20: ath - bcn]\n"
          ]
        },
        {
          "output_type": "stream",
          "name": "stderr",
          "text": [
            "\n",
            " 21%|██        | 31/150 [00:22<02:04,  1.05s/it]\u001b[A"
          ]
        },
        {
          "output_type": "stream",
          "name": "stdout",
          "text": [
            "Generacion # 30 : audiencia  6.73225 , solución es: [V20: mal - eib, L20: leg - osa, S18: esp - sev, S16: vlc - rso, D16: ala - lev, D18: bet - val, S20: cel - rma, D18: vll - gra, S12: atm - get, D20: ath - bcn]\n"
          ]
        },
        {
          "output_type": "stream",
          "name": "stderr",
          "text": [
            "\n",
            " 21%|██▏       | 32/150 [00:23<01:56,  1.02it/s]\u001b[A"
          ]
        },
        {
          "output_type": "stream",
          "name": "stdout",
          "text": [
            "Generacion # 31 : audiencia  6.73225 , solución es: [V20: mal - eib, L20: leg - osa, S18: esp - sev, S16: vlc - rso, D16: ala - lev, D18: bet - val, S20: cel - rma, D18: vll - gra, S12: atm - get, D20: ath - bcn]\n"
          ]
        },
        {
          "output_type": "stream",
          "name": "stderr",
          "text": [
            "\n",
            " 22%|██▏       | 33/150 [00:24<01:50,  1.06it/s]\u001b[A"
          ]
        },
        {
          "output_type": "stream",
          "name": "stdout",
          "text": [
            "Generacion # 32 : audiencia  6.73225 , solución es: [V20: mal - eib, L20: leg - osa, S18: esp - sev, S16: vlc - rso, D16: ala - lev, D18: bet - val, S20: cel - rma, D18: vll - gra, S12: atm - get, D20: ath - bcn]\n"
          ]
        },
        {
          "output_type": "stream",
          "name": "stderr",
          "text": [
            "\n",
            " 23%|██▎       | 34/150 [00:25<01:53,  1.03it/s]\u001b[A"
          ]
        },
        {
          "output_type": "stream",
          "name": "stdout",
          "text": [
            "Generacion # 33 : audiencia  6.73225 , solución es: [V20: mal - eib, L20: leg - osa, S18: esp - sev, S16: vlc - rso, D16: ala - lev, D18: bet - val, S20: cel - rma, D18: vll - gra, S12: atm - get, D20: ath - bcn]\n"
          ]
        },
        {
          "output_type": "stream",
          "name": "stderr",
          "text": [
            "\n",
            " 23%|██▎       | 35/150 [00:26<01:40,  1.14it/s]\u001b[A"
          ]
        },
        {
          "output_type": "stream",
          "name": "stdout",
          "text": [
            "Generacion # 34 : audiencia  6.73225 , solución es: [V20: mal - eib, L20: leg - osa, S18: esp - sev, S16: vlc - rso, D16: ala - lev, D18: bet - val, S20: cel - rma, D18: vll - gra, S12: atm - get, D20: ath - bcn]\n"
          ]
        },
        {
          "output_type": "stream",
          "name": "stderr",
          "text": [
            "\n",
            " 24%|██▍       | 36/150 [00:27<01:39,  1.14it/s]\u001b[A"
          ]
        },
        {
          "output_type": "stream",
          "name": "stdout",
          "text": [
            "Generacion # 35 : audiencia  6.73225 , solución es: [V20: mal - eib, L20: leg - osa, S18: esp - sev, S16: vlc - rso, D16: ala - lev, D18: bet - val, S20: cel - rma, D18: vll - gra, S12: atm - get, D20: ath - bcn]\n"
          ]
        },
        {
          "output_type": "stream",
          "name": "stderr",
          "text": [
            "\n",
            " 25%|██▍       | 37/150 [00:27<01:30,  1.25it/s]\u001b[A"
          ]
        },
        {
          "output_type": "stream",
          "name": "stdout",
          "text": [
            "Generacion # 36 : audiencia  6.73225 , solución es: [V20: mal - eib, L20: leg - osa, S18: esp - sev, S16: vlc - rso, D16: ala - lev, D18: bet - val, S20: cel - rma, D18: vll - gra, S12: atm - get, D20: ath - bcn]\n"
          ]
        },
        {
          "output_type": "stream",
          "name": "stderr",
          "text": [
            "\n",
            " 25%|██▌       | 38/150 [00:28<01:30,  1.24it/s]\u001b[A"
          ]
        },
        {
          "output_type": "stream",
          "name": "stdout",
          "text": [
            "Generacion # 37 : audiencia  6.73225 , solución es: [V20: mal - eib, L20: leg - osa, S18: esp - sev, S16: vlc - rso, D16: ala - lev, D18: bet - val, S20: cel - rma, D18: vll - gra, S12: atm - get, D20: ath - bcn]\n"
          ]
        },
        {
          "output_type": "stream",
          "name": "stderr",
          "text": [
            "\n",
            " 26%|██▌       | 39/150 [00:29<01:36,  1.15it/s]\u001b[A"
          ]
        },
        {
          "output_type": "stream",
          "name": "stdout",
          "text": [
            "Generacion # 38 : audiencia  6.73225 , solución es: [V20: mal - eib, L20: leg - osa, S18: esp - sev, S16: vlc - rso, D16: ala - lev, D18: bet - val, S20: cel - rma, D18: vll - gra, S12: atm - get, D20: ath - bcn]\n"
          ]
        },
        {
          "output_type": "stream",
          "name": "stderr",
          "text": [
            "\n",
            " 27%|██▋       | 40/150 [00:30<01:28,  1.24it/s]\u001b[A"
          ]
        },
        {
          "output_type": "stream",
          "name": "stdout",
          "text": [
            "Generacion # 39 : audiencia  6.73225 , solución es: [V20: mal - eib, L20: leg - osa, S18: esp - sev, S16: vlc - rso, D16: ala - lev, D18: bet - val, S20: cel - rma, D18: vll - gra, S12: atm - get, D20: ath - bcn]\n"
          ]
        },
        {
          "output_type": "stream",
          "name": "stderr",
          "text": [
            "\n",
            " 27%|██▋       | 41/150 [00:30<01:28,  1.23it/s]\u001b[A"
          ]
        },
        {
          "output_type": "stream",
          "name": "stdout",
          "text": [
            "Generacion # 40 : audiencia  6.73225 , solución es: [V20: mal - eib, L20: leg - osa, S18: esp - sev, S16: vlc - rso, D16: ala - lev, D18: bet - val, S20: cel - rma, D18: vll - gra, S12: atm - get, D20: ath - bcn]\n"
          ]
        },
        {
          "output_type": "stream",
          "name": "stderr",
          "text": [
            "\n",
            " 28%|██▊       | 42/150 [00:32<01:37,  1.11it/s]\u001b[A"
          ]
        },
        {
          "output_type": "stream",
          "name": "stdout",
          "text": [
            "Generacion # 41 : audiencia  6.73225 , solución es: [V20: mal - eib, L20: leg - osa, S18: esp - sev, S16: vlc - rso, D16: ala - lev, D18: bet - val, S20: cel - rma, D18: vll - gra, S12: atm - get, D20: ath - bcn]\n"
          ]
        },
        {
          "output_type": "stream",
          "name": "stderr",
          "text": [
            "\n",
            " 29%|██▊       | 43/150 [00:33<01:40,  1.07it/s]\u001b[A"
          ]
        },
        {
          "output_type": "stream",
          "name": "stdout",
          "text": [
            "Generacion # 42 : audiencia  6.73225 , solución es: [V20: mal - eib, L20: leg - osa, S18: esp - sev, S16: vlc - rso, D16: ala - lev, D18: bet - val, S20: cel - rma, D18: vll - gra, S12: atm - get, D20: ath - bcn]\n"
          ]
        },
        {
          "output_type": "stream",
          "name": "stderr",
          "text": [
            "\n",
            " 29%|██▉       | 44/150 [00:34<01:47,  1.02s/it]\u001b[A"
          ]
        },
        {
          "output_type": "stream",
          "name": "stdout",
          "text": [
            "Generacion # 43 : audiencia  6.73225 , solución es: [V20: mal - eib, L20: leg - osa, S18: esp - sev, S16: vlc - rso, D16: ala - lev, D18: bet - val, S20: cel - rma, D18: vll - gra, S12: atm - get, D20: ath - bcn]\n"
          ]
        },
        {
          "output_type": "stream",
          "name": "stderr",
          "text": [
            "\n",
            " 30%|███       | 45/150 [00:35<01:49,  1.04s/it]\u001b[A"
          ]
        },
        {
          "output_type": "stream",
          "name": "stdout",
          "text": [
            "Generacion # 44 : audiencia  6.73225 , solución es: [V20: mal - eib, L20: leg - osa, S18: esp - sev, S16: vlc - rso, D16: ala - lev, D18: bet - val, S20: cel - rma, D18: vll - gra, S12: atm - get, D20: ath - bcn]\n"
          ]
        },
        {
          "output_type": "stream",
          "name": "stderr",
          "text": [
            "\n",
            " 31%|███       | 46/150 [00:36<01:37,  1.07it/s]\u001b[A"
          ]
        },
        {
          "output_type": "stream",
          "name": "stdout",
          "text": [
            "Generacion # 45 : audiencia  6.736 , solución es: [V20: leg - osa, L20: mal - eib, D18: ath - bcn, S16: vlc - rso, D16: ala - lev, S20: bet - val, S12: vll - gra, S18: esp - sev, S20: atm - get, D20: cel - rma]\n"
          ]
        },
        {
          "output_type": "stream",
          "name": "stderr",
          "text": [
            "\n",
            " 31%|███▏      | 47/150 [00:36<01:32,  1.11it/s]\u001b[A"
          ]
        },
        {
          "output_type": "stream",
          "name": "stdout",
          "text": [
            "Generacion # 46 : audiencia  6.736 , solución es: [V20: leg - osa, L20: mal - eib, D18: ath - bcn, S16: vlc - rso, D16: ala - lev, S20: bet - val, S12: vll - gra, S18: esp - sev, S20: atm - get, D20: cel - rma]\n"
          ]
        },
        {
          "output_type": "stream",
          "name": "stderr",
          "text": [
            "\n",
            " 32%|███▏      | 48/150 [00:37<01:35,  1.07it/s]\u001b[A"
          ]
        },
        {
          "output_type": "stream",
          "name": "stdout",
          "text": [
            "Generacion # 47 : audiencia  6.736 , solución es: [V20: leg - osa, L20: mal - eib, D18: ath - bcn, S16: vlc - rso, D16: ala - lev, S20: bet - val, S12: vll - gra, S18: esp - sev, S20: atm - get, D20: cel - rma]\n"
          ]
        },
        {
          "output_type": "stream",
          "name": "stderr",
          "text": [
            "\n",
            " 33%|███▎      | 49/150 [00:38<01:24,  1.20it/s]\u001b[A"
          ]
        },
        {
          "output_type": "stream",
          "name": "stdout",
          "text": [
            "Generacion # 48 : audiencia  6.736 , solución es: [V20: leg - osa, L20: mal - eib, D18: ath - bcn, S16: vlc - rso, D16: ala - lev, S20: bet - val, S12: vll - gra, S18: esp - sev, S20: atm - get, D20: cel - rma]\n"
          ]
        },
        {
          "output_type": "stream",
          "name": "stderr",
          "text": [
            "\n",
            " 33%|███▎      | 50/150 [00:39<01:35,  1.04it/s]\u001b[A"
          ]
        },
        {
          "output_type": "stream",
          "name": "stdout",
          "text": [
            "Generacion # 49 : audiencia  6.736 , solución es: [V20: leg - osa, L20: mal - eib, D18: ath - bcn, S16: vlc - rso, D16: ala - lev, S20: bet - val, S12: vll - gra, S18: esp - sev, S20: atm - get, D20: cel - rma]\n"
          ]
        },
        {
          "output_type": "stream",
          "name": "stderr",
          "text": [
            "\n",
            " 34%|███▍      | 51/150 [00:40<01:26,  1.15it/s]\u001b[A"
          ]
        },
        {
          "output_type": "stream",
          "name": "stdout",
          "text": [
            "Generacion # 50 : audiencia  6.736 , solución es: [V20: leg - osa, L20: mal - eib, D18: ath - bcn, S16: vlc - rso, D16: ala - lev, S20: bet - val, S12: vll - gra, S18: esp - sev, S20: atm - get, D20: cel - rma]\n"
          ]
        },
        {
          "output_type": "stream",
          "name": "stderr",
          "text": [
            "\n",
            " 35%|███▍      | 52/150 [00:41<01:22,  1.18it/s]\u001b[A"
          ]
        },
        {
          "output_type": "stream",
          "name": "stdout",
          "text": [
            "Generacion # 51 : audiencia  6.736 , solución es: [V20: leg - osa, L20: mal - eib, D18: ath - bcn, S16: vlc - rso, D16: ala - lev, S20: bet - val, S12: vll - gra, S18: esp - sev, S20: atm - get, D20: cel - rma]\n"
          ]
        },
        {
          "output_type": "stream",
          "name": "stderr",
          "text": [
            "\n",
            " 35%|███▌      | 53/150 [00:42<01:26,  1.12it/s]\u001b[A"
          ]
        },
        {
          "output_type": "stream",
          "name": "stdout",
          "text": [
            "Generacion # 52 : audiencia  6.736 , solución es: [V20: leg - osa, L20: mal - eib, D18: ath - bcn, S16: vlc - rso, D16: ala - lev, S20: bet - val, S12: vll - gra, S18: esp - sev, S20: atm - get, D20: cel - rma]\n"
          ]
        },
        {
          "output_type": "stream",
          "name": "stderr",
          "text": [
            "\n",
            " 36%|███▌      | 54/150 [00:43<01:24,  1.13it/s]\u001b[A"
          ]
        },
        {
          "output_type": "stream",
          "name": "stdout",
          "text": [
            "Generacion # 53 : audiencia  6.736 , solución es: [V20: leg - osa, L20: mal - eib, D18: ath - bcn, S16: vlc - rso, D16: ala - lev, S20: bet - val, S12: vll - gra, S18: esp - sev, S20: atm - get, D20: cel - rma]\n"
          ]
        },
        {
          "output_type": "stream",
          "name": "stderr",
          "text": [
            "\n",
            " 37%|███▋      | 55/150 [00:43<01:14,  1.27it/s]\u001b[A"
          ]
        },
        {
          "output_type": "stream",
          "name": "stdout",
          "text": [
            "Generacion # 54 : audiencia  6.736 , solución es: [V20: leg - osa, L20: mal - eib, D18: ath - bcn, S16: vlc - rso, D16: ala - lev, S20: bet - val, S12: vll - gra, S18: esp - sev, S20: atm - get, D20: cel - rma]\n"
          ]
        },
        {
          "output_type": "stream",
          "name": "stderr",
          "text": [
            "\n",
            " 37%|███▋      | 56/150 [00:44<01:12,  1.29it/s]\u001b[A"
          ]
        },
        {
          "output_type": "stream",
          "name": "stdout",
          "text": [
            "Generacion # 55 : audiencia  6.736 , solución es: [V20: leg - osa, L20: mal - eib, D18: ath - bcn, S16: vlc - rso, D16: ala - lev, S20: bet - val, S12: vll - gra, S18: esp - sev, S20: atm - get, D20: cel - rma]\n"
          ]
        },
        {
          "output_type": "stream",
          "name": "stderr",
          "text": [
            "\n",
            " 38%|███▊      | 57/150 [00:45<01:26,  1.07it/s]\u001b[A"
          ]
        },
        {
          "output_type": "stream",
          "name": "stdout",
          "text": [
            "Generacion # 56 : audiencia  6.736 , solución es: [V20: leg - osa, L20: mal - eib, D18: ath - bcn, S16: vlc - rso, D16: ala - lev, S20: bet - val, S12: vll - gra, S18: esp - sev, S20: atm - get, D20: cel - rma]\n"
          ]
        },
        {
          "output_type": "stream",
          "name": "stderr",
          "text": [
            "\n",
            " 39%|███▊      | 58/150 [00:48<02:05,  1.37s/it]\u001b[A"
          ]
        },
        {
          "output_type": "stream",
          "name": "stdout",
          "text": [
            "Generacion # 57 : audiencia  6.736 , solución es: [V20: leg - osa, L20: mal - eib, D18: ath - bcn, S16: vlc - rso, D16: ala - lev, S20: bet - val, S12: vll - gra, S18: esp - sev, S20: atm - get, D20: cel - rma]\n"
          ]
        },
        {
          "output_type": "stream",
          "name": "stderr",
          "text": [
            "\n",
            " 39%|███▉      | 59/150 [00:48<01:47,  1.19s/it]\u001b[A"
          ]
        },
        {
          "output_type": "stream",
          "name": "stdout",
          "text": [
            "Generacion # 58 : audiencia  6.736 , solución es: [V20: leg - osa, L20: mal - eib, D18: ath - bcn, S16: vlc - rso, D16: ala - lev, S20: bet - val, S12: vll - gra, S18: esp - sev, S20: atm - get, D20: cel - rma]\n"
          ]
        },
        {
          "output_type": "stream",
          "name": "stderr",
          "text": [
            "\n",
            " 40%|████      | 60/150 [00:50<01:50,  1.23s/it]\u001b[A"
          ]
        },
        {
          "output_type": "stream",
          "name": "stdout",
          "text": [
            "Generacion # 59 : audiencia  6.736 , solución es: [V20: leg - osa, L20: mal - eib, D18: ath - bcn, S16: vlc - rso, D16: ala - lev, S20: bet - val, S12: vll - gra, S18: esp - sev, S20: atm - get, D20: cel - rma]\n"
          ]
        },
        {
          "output_type": "stream",
          "name": "stderr",
          "text": [
            "\n",
            " 41%|████      | 61/150 [00:51<01:55,  1.30s/it]\u001b[A"
          ]
        },
        {
          "output_type": "stream",
          "name": "stdout",
          "text": [
            "Generacion # 60 : audiencia  6.736 , solución es: [V20: leg - osa, L20: mal - eib, D18: ath - bcn, S16: vlc - rso, D16: ala - lev, S20: bet - val, S12: vll - gra, S18: esp - sev, S20: atm - get, D20: cel - rma]\n"
          ]
        },
        {
          "output_type": "stream",
          "name": "stderr",
          "text": [
            "\n",
            " 41%|████▏     | 62/150 [00:52<01:43,  1.17s/it]\u001b[A"
          ]
        },
        {
          "output_type": "stream",
          "name": "stdout",
          "text": [
            "Generacion # 61 : audiencia  6.736 , solución es: [V20: leg - osa, L20: mal - eib, D18: ath - bcn, S16: vlc - rso, D16: ala - lev, S20: bet - val, S12: vll - gra, S18: esp - sev, S20: atm - get, D20: cel - rma]\n"
          ]
        },
        {
          "output_type": "stream",
          "name": "stderr",
          "text": [
            "\n",
            " 42%|████▏     | 63/150 [00:53<01:38,  1.13s/it]\u001b[A"
          ]
        },
        {
          "output_type": "stream",
          "name": "stdout",
          "text": [
            "Generacion # 62 : audiencia  6.736 , solución es: [V20: leg - osa, L20: mal - eib, D18: ath - bcn, S16: vlc - rso, D16: ala - lev, S20: bet - val, S12: vll - gra, S18: esp - sev, S20: atm - get, D20: cel - rma]\n"
          ]
        },
        {
          "output_type": "stream",
          "name": "stderr",
          "text": [
            "\n",
            " 43%|████▎     | 64/150 [00:55<01:49,  1.27s/it]\u001b[A"
          ]
        },
        {
          "output_type": "stream",
          "name": "stdout",
          "text": [
            "Generacion # 63 : audiencia  6.7835 , solución es: [V20: mal - eib, L20: leg - osa, D20: esp - sev, S12: vll - gra, D16: ala - lev, S18: vlc - rso, S20: cel - rma, S16: bet - val, D20: atm - get, D18: ath - bcn]\n"
          ]
        },
        {
          "output_type": "stream",
          "name": "stderr",
          "text": [
            "\n",
            " 43%|████▎     | 65/150 [00:56<01:42,  1.20s/it]\u001b[A"
          ]
        },
        {
          "output_type": "stream",
          "name": "stdout",
          "text": [
            "Generacion # 64 : audiencia  6.7835 , solución es: [V20: mal - eib, L20: leg - osa, D20: esp - sev, S12: vll - gra, D16: ala - lev, S18: vlc - rso, S20: cel - rma, S16: bet - val, D20: atm - get, D18: ath - bcn]\n"
          ]
        },
        {
          "output_type": "stream",
          "name": "stderr",
          "text": [
            "\n",
            " 44%|████▍     | 66/150 [00:57<01:38,  1.17s/it]\u001b[A"
          ]
        },
        {
          "output_type": "stream",
          "name": "stdout",
          "text": [
            "Generacion # 65 : audiencia  6.7835 , solución es: [V20: mal - eib, L20: leg - osa, D20: esp - sev, S12: vll - gra, D16: ala - lev, S18: vlc - rso, S20: cel - rma, S16: bet - val, D20: atm - get, D18: ath - bcn]\n"
          ]
        },
        {
          "output_type": "stream",
          "name": "stderr",
          "text": [
            "\n",
            " 45%|████▍     | 67/150 [00:58<01:38,  1.18s/it]\u001b[A"
          ]
        },
        {
          "output_type": "stream",
          "name": "stdout",
          "text": [
            "Generacion # 66 : audiencia  6.7835 , solución es: [V20: mal - eib, L20: leg - osa, D20: esp - sev, S12: vll - gra, D16: ala - lev, S18: vlc - rso, S20: cel - rma, S16: bet - val, D20: atm - get, D18: ath - bcn]\n"
          ]
        },
        {
          "output_type": "stream",
          "name": "stderr",
          "text": [
            "\n",
            " 45%|████▌     | 68/150 [01:00<01:48,  1.32s/it]\u001b[A"
          ]
        },
        {
          "output_type": "stream",
          "name": "stdout",
          "text": [
            "Generacion # 67 : audiencia  6.7835 , solución es: [V20: mal - eib, L20: leg - osa, D20: esp - sev, S12: vll - gra, D16: ala - lev, S18: vlc - rso, S20: cel - rma, S16: bet - val, D20: atm - get, D18: ath - bcn]\n"
          ]
        },
        {
          "output_type": "stream",
          "name": "stderr",
          "text": [
            "\n",
            " 46%|████▌     | 69/150 [01:00<01:29,  1.10s/it]\u001b[A"
          ]
        },
        {
          "output_type": "stream",
          "name": "stdout",
          "text": [
            "Generacion # 68 : audiencia  6.7835 , solución es: [V20: mal - eib, L20: leg - osa, D20: esp - sev, S12: vll - gra, D16: ala - lev, S18: vlc - rso, S20: cel - rma, S16: bet - val, D20: atm - get, D18: ath - bcn]\n"
          ]
        },
        {
          "output_type": "stream",
          "name": "stderr",
          "text": [
            "\n",
            " 47%|████▋     | 70/150 [01:01<01:19,  1.01it/s]\u001b[A"
          ]
        },
        {
          "output_type": "stream",
          "name": "stdout",
          "text": [
            "Generacion # 69 : audiencia  6.7835 , solución es: [V20: mal - eib, L20: leg - osa, D20: esp - sev, S12: vll - gra, D16: ala - lev, S18: vlc - rso, S20: cel - rma, S16: bet - val, D20: atm - get, D18: ath - bcn]\n"
          ]
        },
        {
          "output_type": "stream",
          "name": "stderr",
          "text": [
            "\n",
            " 47%|████▋     | 71/150 [01:02<01:14,  1.07it/s]\u001b[A"
          ]
        },
        {
          "output_type": "stream",
          "name": "stdout",
          "text": [
            "Generacion # 70 : audiencia  6.7835 , solución es: [V20: mal - eib, L20: leg - osa, D20: esp - sev, S12: vll - gra, D16: ala - lev, S18: vlc - rso, S20: cel - rma, S16: bet - val, D20: atm - get, D18: ath - bcn]\n"
          ]
        },
        {
          "output_type": "stream",
          "name": "stderr",
          "text": [
            "\n",
            " 48%|████▊     | 72/150 [01:03<01:21,  1.05s/it]\u001b[A"
          ]
        },
        {
          "output_type": "stream",
          "name": "stdout",
          "text": [
            "Generacion # 71 : audiencia  6.7835 , solución es: [V20: mal - eib, L20: leg - osa, D20: esp - sev, S12: vll - gra, D16: ala - lev, S18: vlc - rso, S20: cel - rma, S16: bet - val, D20: atm - get, D18: ath - bcn]\n"
          ]
        },
        {
          "output_type": "stream",
          "name": "stderr",
          "text": [
            "\n",
            " 49%|████▊     | 73/150 [01:04<01:10,  1.09it/s]\u001b[A"
          ]
        },
        {
          "output_type": "stream",
          "name": "stdout",
          "text": [
            "Generacion # 72 : audiencia  6.7835 , solución es: [V20: mal - eib, L20: leg - osa, D20: esp - sev, S12: vll - gra, D16: ala - lev, S18: vlc - rso, S20: cel - rma, S16: bet - val, D20: atm - get, D18: ath - bcn]\n"
          ]
        },
        {
          "output_type": "stream",
          "name": "stderr",
          "text": [
            "\n",
            " 49%|████▉     | 74/150 [01:05<01:16,  1.00s/it]\u001b[A"
          ]
        },
        {
          "output_type": "stream",
          "name": "stdout",
          "text": [
            "Generacion # 73 : audiencia  6.7835 , solución es: [V20: mal - eib, L20: leg - osa, D20: esp - sev, S12: vll - gra, D16: ala - lev, S18: vlc - rso, S20: cel - rma, S16: bet - val, D20: atm - get, D18: ath - bcn]\n"
          ]
        },
        {
          "output_type": "stream",
          "name": "stderr",
          "text": [
            "\n",
            " 50%|█████     | 75/150 [01:06<01:08,  1.10it/s]\u001b[A"
          ]
        },
        {
          "output_type": "stream",
          "name": "stdout",
          "text": [
            "Generacion # 74 : audiencia  6.7835 , solución es: [V20: mal - eib, L20: leg - osa, D20: esp - sev, S12: vll - gra, D16: ala - lev, S18: vlc - rso, S20: cel - rma, S16: bet - val, D20: atm - get, D18: ath - bcn]\n"
          ]
        },
        {
          "output_type": "stream",
          "name": "stderr",
          "text": [
            "\n",
            " 51%|█████     | 76/150 [01:07<01:20,  1.09s/it]\u001b[A"
          ]
        },
        {
          "output_type": "stream",
          "name": "stdout",
          "text": [
            "Generacion # 75 : audiencia  6.7835 , solución es: [V20: mal - eib, L20: leg - osa, D20: esp - sev, S12: vll - gra, D16: ala - lev, S18: vlc - rso, S20: cel - rma, S16: bet - val, D20: atm - get, D18: ath - bcn]\n"
          ]
        },
        {
          "output_type": "stream",
          "name": "stderr",
          "text": [
            "\n",
            " 51%|█████▏    | 77/150 [01:08<01:18,  1.07s/it]\u001b[A"
          ]
        },
        {
          "output_type": "stream",
          "name": "stdout",
          "text": [
            "Generacion # 76 : audiencia  6.7835 , solución es: [V20: mal - eib, L20: leg - osa, D20: esp - sev, S12: vll - gra, D16: ala - lev, S18: vlc - rso, S20: cel - rma, S16: bet - val, D20: atm - get, D18: ath - bcn]\n"
          ]
        },
        {
          "output_type": "stream",
          "name": "stderr",
          "text": [
            "\n",
            " 52%|█████▏    | 78/150 [01:09<01:14,  1.03s/it]\u001b[A"
          ]
        },
        {
          "output_type": "stream",
          "name": "stdout",
          "text": [
            "Generacion # 77 : audiencia  6.7835 , solución es: [V20: mal - eib, L20: leg - osa, D20: esp - sev, S12: vll - gra, D16: ala - lev, S18: vlc - rso, S20: cel - rma, S16: bet - val, D20: atm - get, D18: ath - bcn]\n"
          ]
        },
        {
          "output_type": "stream",
          "name": "stderr",
          "text": [
            "\n",
            " 53%|█████▎    | 79/150 [01:11<01:42,  1.44s/it]\u001b[A"
          ]
        },
        {
          "output_type": "stream",
          "name": "stdout",
          "text": [
            "Generacion # 78 : audiencia  6.7835 , solución es: [V20: mal - eib, L20: leg - osa, D20: esp - sev, S12: vll - gra, D16: ala - lev, S18: vlc - rso, S20: cel - rma, S16: bet - val, D20: atm - get, D18: ath - bcn]\n"
          ]
        },
        {
          "output_type": "stream",
          "name": "stderr",
          "text": [
            "\n",
            " 53%|█████▎    | 80/150 [01:13<01:46,  1.52s/it]\u001b[A"
          ]
        },
        {
          "output_type": "stream",
          "name": "stdout",
          "text": [
            "Generacion # 79 : audiencia  6.7835 , solución es: [V20: mal - eib, L20: leg - osa, D20: esp - sev, S12: vll - gra, D16: ala - lev, S18: vlc - rso, S20: cel - rma, S16: bet - val, D20: atm - get, D18: ath - bcn]\n"
          ]
        },
        {
          "output_type": "stream",
          "name": "stderr",
          "text": [
            "\n",
            " 54%|█████▍    | 81/150 [01:14<01:36,  1.40s/it]\u001b[A"
          ]
        },
        {
          "output_type": "stream",
          "name": "stdout",
          "text": [
            "Generacion # 80 : audiencia  6.8185 , solución es: [V20: mal - eib, L20: leg - osa, D12: ala - lev, S12: bet - val, D20: vlc - rso, S18: atm - get, D18: cel - rma, S16: vll - gra, S20: ath - bcn, D16: esp - sev]\n"
          ]
        },
        {
          "output_type": "stream",
          "name": "stderr",
          "text": [
            "\n",
            " 55%|█████▍    | 82/150 [01:15<01:30,  1.32s/it]\u001b[A"
          ]
        },
        {
          "output_type": "stream",
          "name": "stdout",
          "text": [
            "Generacion # 81 : audiencia  6.8185 , solución es: [V20: mal - eib, L20: leg - osa, D12: ala - lev, S12: bet - val, D20: vlc - rso, S18: atm - get, D18: cel - rma, S16: vll - gra, S20: ath - bcn, D16: esp - sev]\n"
          ]
        },
        {
          "output_type": "stream",
          "name": "stderr",
          "text": [
            "\n",
            " 55%|█████▌    | 83/150 [01:17<01:33,  1.40s/it]\u001b[A"
          ]
        },
        {
          "output_type": "stream",
          "name": "stdout",
          "text": [
            "Generacion # 82 : audiencia  6.8185 , solución es: [V20: mal - eib, L20: leg - osa, D12: ala - lev, S12: bet - val, D20: vlc - rso, S18: atm - get, D18: cel - rma, S16: vll - gra, S20: ath - bcn, D16: esp - sev]\n"
          ]
        },
        {
          "output_type": "stream",
          "name": "stderr",
          "text": [
            "\n",
            " 56%|█████▌    | 84/150 [01:18<01:24,  1.28s/it]\u001b[A"
          ]
        },
        {
          "output_type": "stream",
          "name": "stdout",
          "text": [
            "Generacion # 83 : audiencia  6.8185 , solución es: [V20: mal - eib, L20: leg - osa, D12: ala - lev, S12: bet - val, D20: vlc - rso, S18: atm - get, D18: cel - rma, S16: vll - gra, S20: ath - bcn, D16: esp - sev]\n"
          ]
        },
        {
          "output_type": "stream",
          "name": "stderr",
          "text": [
            "\n",
            " 57%|█████▋    | 85/150 [01:19<01:13,  1.13s/it]\u001b[A"
          ]
        },
        {
          "output_type": "stream",
          "name": "stdout",
          "text": [
            "Generacion # 84 : audiencia  6.8185 , solución es: [V20: mal - eib, L20: leg - osa, D12: ala - lev, S12: bet - val, D20: vlc - rso, S18: atm - get, D18: cel - rma, S16: vll - gra, S20: ath - bcn, D16: esp - sev]\n"
          ]
        },
        {
          "output_type": "stream",
          "name": "stderr",
          "text": [
            "\n",
            " 57%|█████▋    | 86/150 [01:20<01:09,  1.08s/it]\u001b[A"
          ]
        },
        {
          "output_type": "stream",
          "name": "stdout",
          "text": [
            "Generacion # 85 : audiencia  6.8185 , solución es: [V20: mal - eib, L20: leg - osa, D12: ala - lev, S12: bet - val, D20: vlc - rso, S18: atm - get, D18: cel - rma, S16: vll - gra, S20: ath - bcn, D16: esp - sev]\n"
          ]
        },
        {
          "output_type": "stream",
          "name": "stderr",
          "text": [
            "\n",
            " 58%|█████▊    | 87/150 [01:20<01:00,  1.04it/s]\u001b[A"
          ]
        },
        {
          "output_type": "stream",
          "name": "stdout",
          "text": [
            "Generacion # 86 : audiencia  6.8185 , solución es: [V20: mal - eib, L20: leg - osa, D12: ala - lev, S12: bet - val, D20: vlc - rso, S18: atm - get, D18: cel - rma, S16: vll - gra, S20: ath - bcn, D16: esp - sev]\n"
          ]
        },
        {
          "output_type": "stream",
          "name": "stderr",
          "text": [
            "\n",
            " 59%|█████▊    | 88/150 [01:21<00:55,  1.11it/s]\u001b[A"
          ]
        },
        {
          "output_type": "stream",
          "name": "stdout",
          "text": [
            "Generacion # 87 : audiencia  6.8185 , solución es: [V20: mal - eib, L20: leg - osa, D12: ala - lev, S12: bet - val, D20: vlc - rso, S18: atm - get, D18: cel - rma, S16: vll - gra, S20: ath - bcn, D16: esp - sev]\n"
          ]
        },
        {
          "output_type": "stream",
          "name": "stderr",
          "text": [
            "\n",
            " 59%|█████▉    | 89/150 [01:22<01:02,  1.02s/it]\u001b[A"
          ]
        },
        {
          "output_type": "stream",
          "name": "stdout",
          "text": [
            "Generacion # 88 : audiencia  6.8185 , solución es: [V20: mal - eib, L20: leg - osa, D12: ala - lev, S12: bet - val, D20: vlc - rso, S18: atm - get, D18: cel - rma, S16: vll - gra, S20: ath - bcn, D16: esp - sev]\n"
          ]
        },
        {
          "output_type": "stream",
          "name": "stderr",
          "text": [
            "\n",
            " 60%|██████    | 90/150 [01:24<01:10,  1.18s/it]\u001b[A"
          ]
        },
        {
          "output_type": "stream",
          "name": "stdout",
          "text": [
            "Generacion # 89 : audiencia  6.8185 , solución es: [V20: mal - eib, L20: leg - osa, D12: ala - lev, S12: bet - val, D20: vlc - rso, S18: atm - get, D18: cel - rma, S16: vll - gra, S20: ath - bcn, D16: esp - sev]\n"
          ]
        },
        {
          "output_type": "stream",
          "name": "stderr",
          "text": [
            "\n",
            " 61%|██████    | 91/150 [01:26<01:18,  1.33s/it]\u001b[A"
          ]
        },
        {
          "output_type": "stream",
          "name": "stdout",
          "text": [
            "Generacion # 90 : audiencia  6.8185 , solución es: [V20: mal - eib, L20: leg - osa, D12: ala - lev, S12: bet - val, D20: vlc - rso, S18: atm - get, D18: cel - rma, S16: vll - gra, S20: ath - bcn, D16: esp - sev]\n"
          ]
        },
        {
          "output_type": "stream",
          "name": "stderr",
          "text": [
            "\n",
            " 61%|██████▏   | 92/150 [01:27<01:13,  1.27s/it]\u001b[A"
          ]
        },
        {
          "output_type": "stream",
          "name": "stdout",
          "text": [
            "Generacion # 91 : audiencia  6.8185 , solución es: [V20: mal - eib, L20: leg - osa, D12: ala - lev, S12: bet - val, D20: vlc - rso, S18: atm - get, D18: cel - rma, S16: vll - gra, S20: ath - bcn, D16: esp - sev]\n"
          ]
        },
        {
          "output_type": "stream",
          "name": "stderr",
          "text": [
            "\n",
            " 62%|██████▏   | 93/150 [01:28<01:09,  1.21s/it]\u001b[A"
          ]
        },
        {
          "output_type": "stream",
          "name": "stdout",
          "text": [
            "Generacion # 92 : audiencia  6.8185 , solución es: [V20: mal - eib, L20: leg - osa, D12: ala - lev, S12: bet - val, D20: vlc - rso, S18: atm - get, D18: cel - rma, S16: vll - gra, S20: ath - bcn, D16: esp - sev]\n"
          ]
        },
        {
          "output_type": "stream",
          "name": "stderr",
          "text": [
            "\n",
            " 63%|██████▎   | 94/150 [01:29<00:58,  1.04s/it]\u001b[A"
          ]
        },
        {
          "output_type": "stream",
          "name": "stdout",
          "text": [
            "Generacion # 93 : audiencia  6.8185 , solución es: [V20: mal - eib, L20: leg - osa, D12: ala - lev, S12: bet - val, D20: vlc - rso, S18: atm - get, D18: cel - rma, S16: vll - gra, S20: ath - bcn, D16: esp - sev]\n"
          ]
        },
        {
          "output_type": "stream",
          "name": "stderr",
          "text": [
            "\n",
            " 63%|██████▎   | 95/150 [01:30<00:56,  1.03s/it]\u001b[A"
          ]
        },
        {
          "output_type": "stream",
          "name": "stdout",
          "text": [
            "Generacion # 94 : audiencia  6.8185 , solución es: [V20: mal - eib, L20: leg - osa, D12: ala - lev, S12: bet - val, D20: vlc - rso, S18: atm - get, D18: cel - rma, S16: vll - gra, S20: ath - bcn, D16: esp - sev]\n"
          ]
        },
        {
          "output_type": "stream",
          "name": "stderr",
          "text": [
            "\n",
            " 64%|██████▍   | 96/150 [01:30<00:50,  1.07it/s]\u001b[A"
          ]
        },
        {
          "output_type": "stream",
          "name": "stdout",
          "text": [
            "Generacion # 95 : audiencia  6.8185 , solución es: [V20: mal - eib, L20: leg - osa, D12: ala - lev, S12: bet - val, D20: vlc - rso, S18: atm - get, D18: cel - rma, S16: vll - gra, S20: ath - bcn, D16: esp - sev]\n"
          ]
        },
        {
          "output_type": "stream",
          "name": "stderr",
          "text": [
            "\n",
            " 65%|██████▍   | 97/150 [01:32<00:54,  1.03s/it]\u001b[A"
          ]
        },
        {
          "output_type": "stream",
          "name": "stdout",
          "text": [
            "Generacion # 96 : audiencia  6.8185 , solución es: [V20: mal - eib, L20: leg - osa, D12: ala - lev, S12: bet - val, D20: vlc - rso, S18: atm - get, D18: cel - rma, S16: vll - gra, S20: ath - bcn, D16: esp - sev]\n"
          ]
        },
        {
          "output_type": "stream",
          "name": "stderr",
          "text": [
            "\n",
            " 65%|██████▌   | 98/150 [01:32<00:47,  1.10it/s]\u001b[A"
          ]
        },
        {
          "output_type": "stream",
          "name": "stdout",
          "text": [
            "Generacion # 97 : audiencia  6.8185 , solución es: [V20: mal - eib, L20: leg - osa, D12: ala - lev, S12: bet - val, D20: vlc - rso, S18: atm - get, D18: cel - rma, S16: vll - gra, S20: ath - bcn, D16: esp - sev]\n"
          ]
        },
        {
          "output_type": "stream",
          "name": "stderr",
          "text": [
            "\n",
            " 66%|██████▌   | 99/150 [01:33<00:51,  1.02s/it]\u001b[A"
          ]
        },
        {
          "output_type": "stream",
          "name": "stdout",
          "text": [
            "Generacion # 98 : audiencia  6.8185 , solución es: [V20: mal - eib, L20: leg - osa, D12: ala - lev, S12: bet - val, D20: vlc - rso, S18: atm - get, D18: cel - rma, S16: vll - gra, S20: ath - bcn, D16: esp - sev]\n"
          ]
        },
        {
          "output_type": "stream",
          "name": "stderr",
          "text": [
            "\n",
            " 67%|██████▋   | 100/150 [01:34<00:48,  1.02it/s]\u001b[A"
          ]
        },
        {
          "output_type": "stream",
          "name": "stdout",
          "text": [
            "Generacion # 99 : audiencia  6.8185 , solución es: [V20: mal - eib, L20: leg - osa, D12: ala - lev, S12: bet - val, D20: vlc - rso, S18: atm - get, D18: cel - rma, S16: vll - gra, S20: ath - bcn, D16: esp - sev]\n"
          ]
        },
        {
          "output_type": "stream",
          "name": "stderr",
          "text": [
            "\n",
            " 67%|██████▋   | 101/150 [01:35<00:43,  1.14it/s]\u001b[A"
          ]
        },
        {
          "output_type": "stream",
          "name": "stdout",
          "text": [
            "Generacion # 100 : audiencia  6.8185 , solución es: [V20: mal - eib, L20: leg - osa, D12: ala - lev, S12: bet - val, D20: vlc - rso, S18: atm - get, D18: cel - rma, S16: vll - gra, S20: ath - bcn, D16: esp - sev]\n"
          ]
        },
        {
          "output_type": "stream",
          "name": "stderr",
          "text": [
            "\n",
            " 68%|██████▊   | 102/150 [01:37<00:53,  1.12s/it]\u001b[A"
          ]
        },
        {
          "output_type": "stream",
          "name": "stdout",
          "text": [
            "Generacion # 101 : audiencia  6.8185 , solución es: [V20: mal - eib, L20: leg - osa, D12: ala - lev, S12: bet - val, D20: vlc - rso, S18: atm - get, D18: cel - rma, S16: vll - gra, S20: ath - bcn, D16: esp - sev]\n"
          ]
        },
        {
          "output_type": "stream",
          "name": "stderr",
          "text": [
            "\n",
            " 69%|██████▊   | 103/150 [01:38<00:57,  1.23s/it]\u001b[A"
          ]
        },
        {
          "output_type": "stream",
          "name": "stdout",
          "text": [
            "Generacion # 102 : audiencia  6.8185 , solución es: [V20: mal - eib, L20: leg - osa, D12: ala - lev, S12: bet - val, D20: vlc - rso, S18: atm - get, D18: cel - rma, S16: vll - gra, S20: ath - bcn, D16: esp - sev]\n"
          ]
        },
        {
          "output_type": "stream",
          "name": "stderr",
          "text": [
            "\n",
            " 69%|██████▉   | 104/150 [01:39<00:53,  1.17s/it]\u001b[A"
          ]
        },
        {
          "output_type": "stream",
          "name": "stdout",
          "text": [
            "Generacion # 103 : audiencia  6.8185 , solución es: [V20: mal - eib, L20: leg - osa, D12: ala - lev, S12: bet - val, D20: vlc - rso, S18: atm - get, D18: cel - rma, S16: vll - gra, S20: ath - bcn, D16: esp - sev]\n"
          ]
        },
        {
          "output_type": "stream",
          "name": "stderr",
          "text": [
            "\n",
            " 70%|███████   | 105/150 [01:41<00:55,  1.24s/it]\u001b[A"
          ]
        },
        {
          "output_type": "stream",
          "name": "stdout",
          "text": [
            "Generacion # 104 : audiencia  6.8185 , solución es: [V20: mal - eib, L20: leg - osa, D12: ala - lev, S12: bet - val, D20: vlc - rso, S18: atm - get, D18: cel - rma, S16: vll - gra, S20: ath - bcn, D16: esp - sev]\n"
          ]
        },
        {
          "output_type": "stream",
          "name": "stderr",
          "text": [
            "\n",
            " 71%|███████   | 106/150 [01:41<00:48,  1.09s/it]\u001b[A"
          ]
        },
        {
          "output_type": "stream",
          "name": "stdout",
          "text": [
            "Generacion # 105 : audiencia  6.8185 , solución es: [V20: mal - eib, L20: leg - osa, D12: ala - lev, S12: bet - val, D20: vlc - rso, S18: atm - get, D18: cel - rma, S16: vll - gra, S20: ath - bcn, D16: esp - sev]\n"
          ]
        },
        {
          "output_type": "stream",
          "name": "stderr",
          "text": [
            "\n",
            " 71%|███████▏  | 107/150 [01:43<00:49,  1.14s/it]\u001b[A"
          ]
        },
        {
          "output_type": "stream",
          "name": "stdout",
          "text": [
            "Generacion # 106 : audiencia  6.8185 , solución es: [V20: mal - eib, L20: leg - osa, D12: ala - lev, S12: bet - val, D20: vlc - rso, S18: atm - get, D18: cel - rma, S16: vll - gra, S20: ath - bcn, D16: esp - sev]\n"
          ]
        },
        {
          "output_type": "stream",
          "name": "stderr",
          "text": [
            "\n",
            " 72%|███████▏  | 108/150 [01:44<00:48,  1.15s/it]\u001b[A"
          ]
        },
        {
          "output_type": "stream",
          "name": "stdout",
          "text": [
            "Generacion # 107 : audiencia  6.8185 , solución es: [V20: mal - eib, L20: leg - osa, D12: ala - lev, S12: bet - val, D20: vlc - rso, S18: atm - get, D18: cel - rma, S16: vll - gra, S20: ath - bcn, D16: esp - sev]\n"
          ]
        },
        {
          "output_type": "stream",
          "name": "stderr",
          "text": [
            "\n",
            " 73%|███████▎  | 109/150 [01:45<00:45,  1.10s/it]\u001b[A"
          ]
        },
        {
          "output_type": "stream",
          "name": "stdout",
          "text": [
            "Generacion # 108 : audiencia  6.8185 , solución es: [V20: mal - eib, L20: leg - osa, D12: ala - lev, S12: bet - val, D20: vlc - rso, S18: atm - get, D18: cel - rma, S16: vll - gra, S20: ath - bcn, D16: esp - sev]\n"
          ]
        },
        {
          "output_type": "stream",
          "name": "stderr",
          "text": [
            "\n",
            " 73%|███████▎  | 110/150 [01:46<00:46,  1.17s/it]\u001b[A"
          ]
        },
        {
          "output_type": "stream",
          "name": "stdout",
          "text": [
            "Generacion # 109 : audiencia  6.8185 , solución es: [V20: mal - eib, L20: leg - osa, D12: ala - lev, S12: bet - val, D20: vlc - rso, S18: atm - get, D18: cel - rma, S16: vll - gra, S20: ath - bcn, D16: esp - sev]\n"
          ]
        },
        {
          "output_type": "stream",
          "name": "stderr",
          "text": [
            "\n",
            " 74%|███████▍  | 111/150 [01:47<00:43,  1.12s/it]\u001b[A"
          ]
        },
        {
          "output_type": "stream",
          "name": "stdout",
          "text": [
            "Generacion # 110 : audiencia  6.8185 , solución es: [V20: mal - eib, L20: leg - osa, D12: ala - lev, S12: bet - val, D20: vlc - rso, S18: atm - get, D18: cel - rma, S16: vll - gra, S20: ath - bcn, D16: esp - sev]\n"
          ]
        },
        {
          "output_type": "stream",
          "name": "stderr",
          "text": [
            "\n",
            " 75%|███████▍  | 112/150 [01:48<00:40,  1.07s/it]\u001b[A"
          ]
        },
        {
          "output_type": "stream",
          "name": "stdout",
          "text": [
            "Generacion # 111 : audiencia  6.8185 , solución es: [V20: mal - eib, L20: leg - osa, D12: ala - lev, S12: bet - val, D20: vlc - rso, S18: atm - get, D18: cel - rma, S16: vll - gra, S20: ath - bcn, D16: esp - sev]\n"
          ]
        },
        {
          "output_type": "stream",
          "name": "stderr",
          "text": [
            "\n",
            " 75%|███████▌  | 113/150 [01:49<00:39,  1.07s/it]\u001b[A"
          ]
        },
        {
          "output_type": "stream",
          "name": "stdout",
          "text": [
            "Generacion # 112 : audiencia  6.8185 , solución es: [V20: mal - eib, L20: leg - osa, D12: ala - lev, S12: bet - val, D20: vlc - rso, S18: atm - get, D18: cel - rma, S16: vll - gra, S20: ath - bcn, D16: esp - sev]\n"
          ]
        },
        {
          "output_type": "stream",
          "name": "stderr",
          "text": [
            "\n",
            " 76%|███████▌  | 114/150 [01:50<00:39,  1.10s/it]\u001b[A"
          ]
        },
        {
          "output_type": "stream",
          "name": "stdout",
          "text": [
            "Generacion # 113 : audiencia  6.8185 , solución es: [V20: mal - eib, L20: leg - osa, D12: ala - lev, S12: bet - val, D20: vlc - rso, S18: atm - get, D18: cel - rma, S16: vll - gra, S20: ath - bcn, D16: esp - sev]\n"
          ]
        },
        {
          "output_type": "stream",
          "name": "stderr",
          "text": [
            "\n",
            " 77%|███████▋  | 115/150 [01:51<00:37,  1.08s/it]\u001b[A"
          ]
        },
        {
          "output_type": "stream",
          "name": "stdout",
          "text": [
            "Generacion # 114 : audiencia  6.8185 , solución es: [V20: mal - eib, L20: leg - osa, D12: ala - lev, S12: bet - val, D20: vlc - rso, S18: atm - get, D18: cel - rma, S16: vll - gra, S20: ath - bcn, D16: esp - sev]\n"
          ]
        },
        {
          "output_type": "stream",
          "name": "stderr",
          "text": [
            "\n",
            " 77%|███████▋  | 116/150 [01:53<00:38,  1.14s/it]\u001b[A"
          ]
        },
        {
          "output_type": "stream",
          "name": "stdout",
          "text": [
            "Generacion # 115 : audiencia  6.8185 , solución es: [V20: mal - eib, L20: leg - osa, D12: ala - lev, S12: bet - val, D20: vlc - rso, S18: atm - get, D18: cel - rma, S16: vll - gra, S20: ath - bcn, D16: esp - sev]\n"
          ]
        },
        {
          "output_type": "stream",
          "name": "stderr",
          "text": [
            "\n",
            " 78%|███████▊  | 117/150 [01:54<00:36,  1.11s/it]\u001b[A"
          ]
        },
        {
          "output_type": "stream",
          "name": "stdout",
          "text": [
            "Generacion # 116 : audiencia  6.8185 , solución es: [V20: mal - eib, L20: leg - osa, D12: ala - lev, S12: bet - val, D20: vlc - rso, S18: atm - get, D18: cel - rma, S16: vll - gra, S20: ath - bcn, D16: esp - sev]\n"
          ]
        },
        {
          "output_type": "stream",
          "name": "stderr",
          "text": [
            "\n",
            " 79%|███████▊  | 118/150 [01:55<00:38,  1.21s/it]\u001b[A"
          ]
        },
        {
          "output_type": "stream",
          "name": "stdout",
          "text": [
            "Generacion # 117 : audiencia  6.8185 , solución es: [V20: mal - eib, L20: leg - osa, D12: ala - lev, S12: bet - val, D20: vlc - rso, S18: atm - get, D18: cel - rma, S16: vll - gra, S20: ath - bcn, D16: esp - sev]\n"
          ]
        },
        {
          "output_type": "stream",
          "name": "stderr",
          "text": [
            "\n",
            " 79%|███████▉  | 119/150 [01:56<00:33,  1.09s/it]\u001b[A"
          ]
        },
        {
          "output_type": "stream",
          "name": "stdout",
          "text": [
            "Generacion # 118 : audiencia  6.8185 , solución es: [V20: mal - eib, L20: leg - osa, D12: ala - lev, S12: bet - val, D20: vlc - rso, S18: atm - get, D18: cel - rma, S16: vll - gra, S20: ath - bcn, D16: esp - sev]\n"
          ]
        },
        {
          "output_type": "stream",
          "name": "stderr",
          "text": [
            "\n",
            " 80%|████████  | 120/150 [01:57<00:34,  1.16s/it]\u001b[A"
          ]
        },
        {
          "output_type": "stream",
          "name": "stdout",
          "text": [
            "Generacion # 119 : audiencia  6.8185 , solución es: [V20: mal - eib, L20: leg - osa, D12: ala - lev, S12: bet - val, D20: vlc - rso, S18: atm - get, D18: cel - rma, S16: vll - gra, S20: ath - bcn, D16: esp - sev]\n"
          ]
        },
        {
          "output_type": "stream",
          "name": "stderr",
          "text": [
            "\n",
            " 81%|████████  | 121/150 [01:58<00:30,  1.07s/it]\u001b[A"
          ]
        },
        {
          "output_type": "stream",
          "name": "stdout",
          "text": [
            "Generacion # 120 : audiencia  6.8185 , solución es: [V20: mal - eib, L20: leg - osa, D12: ala - lev, S12: bet - val, D20: vlc - rso, S18: atm - get, D18: cel - rma, S16: vll - gra, S20: ath - bcn, D16: esp - sev]\n"
          ]
        },
        {
          "output_type": "stream",
          "name": "stderr",
          "text": [
            "\n",
            " 81%|████████▏ | 122/150 [01:59<00:27,  1.01it/s]\u001b[A"
          ]
        },
        {
          "output_type": "stream",
          "name": "stdout",
          "text": [
            "Generacion # 121 : audiencia  6.836 , solución es: [V20: leg - osa, L20: mal - eib, D12: bet - val, S12: vll - gra, D20: cel - rma, S18: vlc - rso, D18: esp - sev, S16: atm - get, S20: ath - bcn, D16: ala - lev]\n"
          ]
        },
        {
          "output_type": "stream",
          "name": "stderr",
          "text": [
            "\n",
            " 82%|████████▏ | 123/150 [02:00<00:29,  1.10s/it]\u001b[A"
          ]
        },
        {
          "output_type": "stream",
          "name": "stdout",
          "text": [
            "Generacion # 122 : audiencia  6.836 , solución es: [V20: leg - osa, L20: mal - eib, D12: bet - val, S12: vll - gra, D20: cel - rma, S18: vlc - rso, D18: esp - sev, S16: atm - get, S20: ath - bcn, D16: ala - lev]\n"
          ]
        },
        {
          "output_type": "stream",
          "name": "stderr",
          "text": [
            "\n",
            " 83%|████████▎ | 124/150 [02:02<00:34,  1.33s/it]\u001b[A"
          ]
        },
        {
          "output_type": "stream",
          "name": "stdout",
          "text": [
            "Generacion # 123 : audiencia  6.836 , solución es: [V20: leg - osa, L20: mal - eib, D12: bet - val, S12: vll - gra, D20: cel - rma, S18: vlc - rso, D18: esp - sev, S16: atm - get, S20: ath - bcn, D16: ala - lev]\n"
          ]
        },
        {
          "output_type": "stream",
          "name": "stderr",
          "text": [
            "\n",
            " 83%|████████▎ | 125/150 [02:04<00:40,  1.61s/it]\u001b[A"
          ]
        },
        {
          "output_type": "stream",
          "name": "stdout",
          "text": [
            "Generacion # 124 : audiencia  6.836 , solución es: [V20: leg - osa, L20: mal - eib, D12: bet - val, S12: vll - gra, D20: cel - rma, S18: vlc - rso, D18: esp - sev, S16: atm - get, S20: ath - bcn, D16: ala - lev]\n"
          ]
        },
        {
          "output_type": "stream",
          "name": "stderr",
          "text": [
            "\n",
            " 84%|████████▍ | 126/150 [02:05<00:33,  1.40s/it]\u001b[A"
          ]
        },
        {
          "output_type": "stream",
          "name": "stdout",
          "text": [
            "Generacion # 125 : audiencia  6.836 , solución es: [V20: leg - osa, L20: mal - eib, D12: bet - val, S12: vll - gra, D20: cel - rma, S18: vlc - rso, D18: esp - sev, S16: atm - get, S20: ath - bcn, D16: ala - lev]\n"
          ]
        },
        {
          "output_type": "stream",
          "name": "stderr",
          "text": [
            "\n",
            " 85%|████████▍ | 127/150 [02:07<00:31,  1.39s/it]\u001b[A"
          ]
        },
        {
          "output_type": "stream",
          "name": "stdout",
          "text": [
            "Generacion # 126 : audiencia  6.836 , solución es: [V20: leg - osa, L20: mal - eib, D12: bet - val, S12: vll - gra, D20: cel - rma, S18: vlc - rso, D18: esp - sev, S16: atm - get, S20: ath - bcn, D16: ala - lev]\n"
          ]
        },
        {
          "output_type": "stream",
          "name": "stderr",
          "text": [
            "\n",
            " 85%|████████▌ | 128/150 [02:08<00:30,  1.37s/it]\u001b[A"
          ]
        },
        {
          "output_type": "stream",
          "name": "stdout",
          "text": [
            "Generacion # 127 : audiencia  6.836 , solución es: [V20: leg - osa, L20: mal - eib, D12: bet - val, S12: vll - gra, D20: cel - rma, S18: vlc - rso, D18: esp - sev, S16: atm - get, S20: ath - bcn, D16: ala - lev]\n"
          ]
        },
        {
          "output_type": "stream",
          "name": "stderr",
          "text": [
            "\n",
            " 86%|████████▌ | 129/150 [02:09<00:28,  1.36s/it]\u001b[A"
          ]
        },
        {
          "output_type": "stream",
          "name": "stdout",
          "text": [
            "Generacion # 128 : audiencia  6.836 , solución es: [V20: leg - osa, L20: mal - eib, D12: bet - val, S12: vll - gra, D20: cel - rma, S18: vlc - rso, D18: esp - sev, S16: atm - get, S20: ath - bcn, D16: ala - lev]\n"
          ]
        },
        {
          "output_type": "stream",
          "name": "stderr",
          "text": [
            "\n",
            " 87%|████████▋ | 130/150 [02:10<00:23,  1.19s/it]\u001b[A"
          ]
        },
        {
          "output_type": "stream",
          "name": "stdout",
          "text": [
            "Generacion # 129 : audiencia  6.836 , solución es: [V20: leg - osa, L20: mal - eib, D12: bet - val, S12: vll - gra, D20: cel - rma, S18: vlc - rso, D18: esp - sev, S16: atm - get, S20: ath - bcn, D16: ala - lev]\n"
          ]
        },
        {
          "output_type": "stream",
          "name": "stderr",
          "text": [
            "\n",
            " 87%|████████▋ | 131/150 [02:11<00:23,  1.24s/it]\u001b[A"
          ]
        },
        {
          "output_type": "stream",
          "name": "stdout",
          "text": [
            "Generacion # 130 : audiencia  6.836 , solución es: [V20: leg - osa, L20: mal - eib, D12: bet - val, S12: vll - gra, D20: cel - rma, S18: vlc - rso, D18: esp - sev, S16: atm - get, S20: ath - bcn, D16: ala - lev]\n"
          ]
        },
        {
          "output_type": "stream",
          "name": "stderr",
          "text": [
            "\n",
            " 88%|████████▊ | 132/150 [02:12<00:19,  1.07s/it]\u001b[A"
          ]
        },
        {
          "output_type": "stream",
          "name": "stdout",
          "text": [
            "Generacion # 131 : audiencia  6.836 , solución es: [V20: leg - osa, L20: mal - eib, D12: bet - val, S12: vll - gra, D20: cel - rma, S18: vlc - rso, D18: esp - sev, S16: atm - get, S20: ath - bcn, D16: ala - lev]\n"
          ]
        },
        {
          "output_type": "stream",
          "name": "stderr",
          "text": [
            "\n",
            " 89%|████████▊ | 133/150 [02:13<00:16,  1.00it/s]\u001b[A"
          ]
        },
        {
          "output_type": "stream",
          "name": "stdout",
          "text": [
            "Generacion # 132 : audiencia  6.836 , solución es: [V20: leg - osa, L20: mal - eib, D12: bet - val, S12: vll - gra, D20: cel - rma, S18: vlc - rso, D18: esp - sev, S16: atm - get, S20: ath - bcn, D16: ala - lev]\n"
          ]
        },
        {
          "output_type": "stream",
          "name": "stderr",
          "text": [
            "\n",
            " 89%|████████▉ | 134/150 [02:14<00:17,  1.08s/it]\u001b[A"
          ]
        },
        {
          "output_type": "stream",
          "name": "stdout",
          "text": [
            "Generacion # 133 : audiencia  6.836 , solución es: [V20: leg - osa, L20: mal - eib, D12: bet - val, S12: vll - gra, D20: cel - rma, S18: vlc - rso, D18: esp - sev, S16: atm - get, S20: ath - bcn, D16: ala - lev]\n"
          ]
        },
        {
          "output_type": "stream",
          "name": "stderr",
          "text": [
            "\n",
            " 90%|█████████ | 135/150 [02:15<00:16,  1.09s/it]\u001b[A"
          ]
        },
        {
          "output_type": "stream",
          "name": "stdout",
          "text": [
            "Generacion # 134 : audiencia  6.836 , solución es: [V20: leg - osa, L20: mal - eib, D12: bet - val, S12: vll - gra, D20: cel - rma, S18: vlc - rso, D18: esp - sev, S16: atm - get, S20: ath - bcn, D16: ala - lev]\n"
          ]
        },
        {
          "output_type": "stream",
          "name": "stderr",
          "text": [
            "\n",
            " 91%|█████████ | 136/150 [02:17<00:15,  1.13s/it]\u001b[A"
          ]
        },
        {
          "output_type": "stream",
          "name": "stdout",
          "text": [
            "Generacion # 135 : audiencia  6.836 , solución es: [V20: leg - osa, L20: mal - eib, D12: bet - val, S12: vll - gra, D20: cel - rma, S18: vlc - rso, D18: esp - sev, S16: atm - get, S20: ath - bcn, D16: ala - lev]\n"
          ]
        },
        {
          "output_type": "stream",
          "name": "stderr",
          "text": [
            "\n",
            " 91%|█████████▏| 137/150 [02:17<00:12,  1.01it/s]\u001b[A"
          ]
        },
        {
          "output_type": "stream",
          "name": "stdout",
          "text": [
            "Generacion # 136 : audiencia  6.836 , solución es: [V20: leg - osa, L20: mal - eib, D12: bet - val, S12: vll - gra, D20: cel - rma, S18: vlc - rso, D18: esp - sev, S16: atm - get, S20: ath - bcn, D16: ala - lev]\n"
          ]
        },
        {
          "output_type": "stream",
          "name": "stderr",
          "text": [
            "\n",
            " 92%|█████████▏| 138/150 [02:18<00:11,  1.07it/s]\u001b[A"
          ]
        },
        {
          "output_type": "stream",
          "name": "stdout",
          "text": [
            "Generacion # 137 : audiencia  6.836 , solución es: [V20: leg - osa, L20: mal - eib, D12: bet - val, S12: vll - gra, D20: cel - rma, S18: vlc - rso, D18: esp - sev, S16: atm - get, S20: ath - bcn, D16: ala - lev]\n"
          ]
        },
        {
          "output_type": "stream",
          "name": "stderr",
          "text": [
            "\n",
            " 93%|█████████▎| 139/150 [02:19<00:10,  1.05it/s]\u001b[A"
          ]
        },
        {
          "output_type": "stream",
          "name": "stdout",
          "text": [
            "Generacion # 138 : audiencia  6.836 , solución es: [V20: leg - osa, L20: mal - eib, D12: bet - val, S12: vll - gra, D20: cel - rma, S18: vlc - rso, D18: esp - sev, S16: atm - get, S20: ath - bcn, D16: ala - lev]\n"
          ]
        },
        {
          "output_type": "stream",
          "name": "stderr",
          "text": [
            "\n",
            " 93%|█████████▎| 140/150 [02:20<00:08,  1.17it/s]\u001b[A"
          ]
        },
        {
          "output_type": "stream",
          "name": "stdout",
          "text": [
            "Generacion # 139 : audiencia  6.836 , solución es: [V20: leg - osa, L20: mal - eib, D12: bet - val, S12: vll - gra, D20: cel - rma, S18: vlc - rso, D18: esp - sev, S16: atm - get, S20: ath - bcn, D16: ala - lev]\n"
          ]
        },
        {
          "output_type": "stream",
          "name": "stderr",
          "text": [
            "\n",
            " 94%|█████████▍| 141/150 [02:20<00:07,  1.20it/s]\u001b[A"
          ]
        },
        {
          "output_type": "stream",
          "name": "stdout",
          "text": [
            "Generacion # 140 : audiencia  6.856 , solución es: [V20: mal - eib, L20: leg - osa, D12: bet - val, S12: vll - gra, D20: vlc - rso, S18: esp - sev, D18: cel - rma, S16: atm - get, S20: ath - bcn, D16: ala - lev]\n"
          ]
        },
        {
          "output_type": "stream",
          "name": "stderr",
          "text": [
            "\n",
            " 95%|█████████▍| 142/150 [02:21<00:06,  1.24it/s]\u001b[A"
          ]
        },
        {
          "output_type": "stream",
          "name": "stdout",
          "text": [
            "Generacion # 141 : audiencia  6.856 , solución es: [V20: mal - eib, L20: leg - osa, D12: bet - val, S12: vll - gra, D20: vlc - rso, S18: esp - sev, D18: cel - rma, S16: atm - get, S20: ath - bcn, D16: ala - lev]\n"
          ]
        },
        {
          "output_type": "stream",
          "name": "stderr",
          "text": [
            "\n",
            " 95%|█████████▌| 143/150 [02:22<00:05,  1.24it/s]\u001b[A"
          ]
        },
        {
          "output_type": "stream",
          "name": "stdout",
          "text": [
            "Generacion # 142 : audiencia  6.856 , solución es: [V20: mal - eib, L20: leg - osa, D12: bet - val, S12: vll - gra, D20: vlc - rso, S18: esp - sev, D18: cel - rma, S16: atm - get, S20: ath - bcn, D16: ala - lev]\n"
          ]
        },
        {
          "output_type": "stream",
          "name": "stderr",
          "text": [
            "\n",
            " 96%|█████████▌| 144/150 [02:23<00:04,  1.24it/s]\u001b[A"
          ]
        },
        {
          "output_type": "stream",
          "name": "stdout",
          "text": [
            "Generacion # 143 : audiencia  6.856 , solución es: [V20: mal - eib, L20: leg - osa, D12: bet - val, S12: vll - gra, D20: vlc - rso, S18: esp - sev, D18: cel - rma, S16: atm - get, S20: ath - bcn, D16: ala - lev]\n"
          ]
        },
        {
          "output_type": "stream",
          "name": "stderr",
          "text": [
            "\n",
            " 97%|█████████▋| 145/150 [02:24<00:04,  1.24it/s]\u001b[A"
          ]
        },
        {
          "output_type": "stream",
          "name": "stdout",
          "text": [
            "Generacion # 144 : audiencia  6.856 , solución es: [V20: mal - eib, L20: leg - osa, D12: bet - val, S12: vll - gra, D20: vlc - rso, S18: esp - sev, D18: cel - rma, S16: atm - get, S20: ath - bcn, D16: ala - lev]\n"
          ]
        },
        {
          "output_type": "stream",
          "name": "stderr",
          "text": [
            "\n",
            " 97%|█████████▋| 146/150 [02:24<00:03,  1.24it/s]\u001b[A"
          ]
        },
        {
          "output_type": "stream",
          "name": "stdout",
          "text": [
            "Generacion # 145 : audiencia  6.856 , solución es: [V20: mal - eib, L20: leg - osa, D12: bet - val, S12: vll - gra, D20: vlc - rso, S18: esp - sev, D18: cel - rma, S16: atm - get, S20: ath - bcn, D16: ala - lev]\n"
          ]
        },
        {
          "output_type": "stream",
          "name": "stderr",
          "text": [
            "\n",
            " 98%|█████████▊| 147/150 [02:25<00:02,  1.16it/s]\u001b[A"
          ]
        },
        {
          "output_type": "stream",
          "name": "stdout",
          "text": [
            "Generacion # 146 : audiencia  6.856 , solución es: [V20: mal - eib, L20: leg - osa, D12: bet - val, S12: vll - gra, D20: vlc - rso, S18: atm - get, S20: cel - rma, S16: esp - sev, D18: ath - bcn, D16: ala - lev]\n"
          ]
        },
        {
          "output_type": "stream",
          "name": "stderr",
          "text": [
            "\n",
            " 99%|█████████▊| 148/150 [02:26<00:01,  1.21it/s]\u001b[A"
          ]
        },
        {
          "output_type": "stream",
          "name": "stdout",
          "text": [
            "Generacion # 147 : audiencia  6.856 , solución es: [V20: mal - eib, L20: leg - osa, D12: bet - val, S12: vll - gra, D20: vlc - rso, S18: atm - get, S20: cel - rma, S16: esp - sev, D18: ath - bcn, D16: ala - lev]\n"
          ]
        },
        {
          "output_type": "stream",
          "name": "stderr",
          "text": [
            "\n",
            " 99%|█████████▉| 149/150 [02:27<00:00,  1.05it/s]\u001b[A"
          ]
        },
        {
          "output_type": "stream",
          "name": "stdout",
          "text": [
            "Generacion # 148 : audiencia  6.856 , solución es: [V20: mal - eib, L20: leg - osa, D12: bet - val, S12: vll - gra, D20: vlc - rso, S18: atm - get, S20: cel - rma, S16: esp - sev, D18: ath - bcn, D16: ala - lev]\n"
          ]
        },
        {
          "output_type": "stream",
          "name": "stderr",
          "text": [
            "\n",
            "100%|██████████| 150/150 [02:29<00:00,  1.01it/s]"
          ]
        },
        {
          "output_type": "stream",
          "name": "stdout",
          "text": [
            "Generacion # 149 : audiencia  6.856 , solución es: [V20: mal - eib, L20: leg - osa, D12: bet - val, S12: vll - gra, D20: vlc - rso, S18: atm - get, S20: cel - rma, S16: esp - sev, D18: ath - bcn, D16: ala - lev]\n",
            "-------------------------------------\n",
            "La solución encontrada ha sido: \n",
            "V20: Mallorca - Eibar\n",
            "S12: Villarreal - Granada\n",
            "S16: Espanyol - Sevilla\n",
            "S18: Atlético - Getafe\n",
            "S20: Celta - Real Madrid\n",
            "D12: Betis - Valladolid\n",
            "D16: Alavés - Levante\n",
            "D18: Athletic - Barcelona\n",
            "D20: Valencia - Real Sociedad\n",
            "L20: Leganés - Osasuna\n",
            "Con una audiencia total de  6.856  millones de espectadores.\n"
          ]
        },
        {
          "output_type": "stream",
          "name": "stderr",
          "text": [
            "\n"
          ]
        }
      ]
    },
    {
      "cell_type": "markdown",
      "metadata": {
        "id": "eGDB4K6uk1iN"
      },
      "source": [
        "(*)Calcula la complejidad del algoritmo"
      ]
    },
    {
      "cell_type": "markdown",
      "metadata": {
        "id": "NhpTh_BPk1ms"
      },
      "source": [
        "Respuesta\n",
        "LA comlejidad del algoritmo viene determinada principalmente por el numero de generaciones y por el tamaño de la población, siendo el algoritmo de tipo $O(f) = N\\cdot g$, siendo $N$ el tamaño de la población y $g$ el número de generaciones sobre las que se itera. Además de esto, hay una serie de operaciones que, si quisieramos hacer un análisis mucho más detallado, estarían sumando a $N$ derivadas de cruzar y seleccionar a la población, de forma que quedaría $(N+c)$. No obstante, como estamos usando notación de Landau, podemos resumir que el orden de complejidad del algoritmo es $O(f) = N\\cdot g$."
      ]
    },
    {
      "cell_type": "markdown",
      "metadata": {
        "id": "3M6QjTsSkmYe"
      },
      "source": [
        "Según el problema (y tenga sentido), diseña un juego de datos de entrada aleatorios"
      ]
    },
    {
      "cell_type": "markdown",
      "metadata": {
        "id": "Jc3_OlyNkvjZ"
      },
      "source": [
        "Respuesta\n",
        "\n",
        "Vamos a crear un numero aletorio de partidos entre 0 y 10 en el que se van a enfrentar equipos aleatorios y vamos a seleccionar una serie de horarios en la que deben colocarse dichos partidos."
      ]
    },
    {
      "cell_type": "code",
      "execution_count": 371,
      "metadata": {
        "colab": {
          "base_uri": "https://localhost:8080/"
        },
        "id": "sJ-N2etjkyWc",
        "outputId": "fc01f3aa-b661-4b7c-d9f3-1a36dfee74dd"
      },
      "outputs": [
        {
          "output_type": "stream",
          "name": "stdout",
          "text": [
            "Partidos generados aleatoriamente: [val - osa, ala - rma, ath - rso, lev - gra, bcn - vlc, leg - bet, mal - eib, cel - atm, esp - vll]\n",
            "Horarios generados aleatoriamente: [S12, factor: 0.55, D12, factor: 0.45, V20, factor: 0.4]\n"
          ]
        }
      ],
      "source": [
        "num_part = random.randint(1, 10)\n",
        "num_hor = random.randint(1, 10)\n",
        "\n",
        "arr_equipos_aux = ARRAY_EQUIPOS.copy()\n",
        "arr_horarios_aux = ARRAY_HORARIOS.copy()\n",
        "arr_horarios_generados = []\n",
        "arr_partidos_generados = []\n",
        "\n",
        "for i in range(num_part):\n",
        "  index_local = random.randint(0,len(arr_equipos_aux)-1)\n",
        "  local = arr_equipos_aux[index_local]\n",
        "  arr_equipos_aux.remove(local)\n",
        "\n",
        "  index_visitante = random.randint(0,len(arr_equipos_aux)-1)\n",
        "  visitante = arr_equipos_aux[index_visitante]\n",
        "  arr_equipos_aux.remove(visitante)\n",
        "\n",
        "  arr_partidos_generados.append(partido(local, visitante))\n",
        "\n",
        "for i in range(num_hor):\n",
        "  index_horario = random.randint(0,len(arr_horarios_aux)-1)\n",
        "  horario = arr_horarios_aux[index_horario]\n",
        "  arr_horarios_aux.remove(horario)\n",
        "\n",
        "  arr_horarios_generados.append(horario)\n",
        "\n",
        "print(\"Partidos generados aleatoriamente: \" + str(arr_partidos_generados))\n",
        "print(\"Horarios generados aleatoriamente: \" + str(arr_horarios_generados))"
      ]
    },
    {
      "cell_type": "markdown",
      "metadata": {
        "id": "zy5ZROmjlGo1"
      },
      "source": [
        "Aplica el algoritmo al juego de datos generado"
      ]
    },
    {
      "cell_type": "markdown",
      "metadata": {
        "id": "_Cmj-PVylMsa"
      },
      "source": [
        "Respuesta\n",
        "Por la forma de construir la solución es muy simple, únicamente es necesario sobreescribir los arrays de partidos y horarios: ```ARRAY_PARTIDOS, ARRAY_HORARIOS```, por lo que ahora pasaremos el array de partidos y de horarios generados."
      ]
    },
    {
      "cell_type": "code",
      "source": [
        "# Determinamos los parámetros para el algoritmo genético\n",
        "array_partidos, array_horarios = arr_partidos_generados, arr_horarios_generados\n",
        "tam_poblacion=500\n",
        "prob_mutacion=0.3\n",
        "prob_elitismo=0.4\n",
        "generaciones=150"
      ],
      "metadata": {
        "id": "aojghmfyqE7U"
      },
      "execution_count": 372,
      "outputs": []
    },
    {
      "cell_type": "code",
      "source": [
        "sol = alg_genetico(array_partidos, array_horarios, tam_poblacion, prob_mutacion, prob_elitismo, generaciones)\n",
        "print(\"-------------------------------------\\nLa solución encontrada ha sido: \")\n",
        "for ph in sorted(sol[1], key=indice_horario):\n",
        "  print(ph.get_nombre())\n",
        "print(\"Con una audiencia total de \", str(round(sol[0], 5)), \" millones de espectadores.\")"
      ],
      "metadata": {
        "id": "bjl8l314xSbc",
        "colab": {
          "base_uri": "https://localhost:8080/"
        },
        "outputId": "7030e8b7-2906-43be-ff20-b07f2ace8759"
      },
      "execution_count": 373,
      "outputs": [
        {
          "output_type": "stream",
          "name": "stderr",
          "text": [
            "  1%|          | 1/150 [00:00<01:05,  2.29it/s]"
          ]
        },
        {
          "output_type": "stream",
          "name": "stdout",
          "text": [
            "Generacion # 0 : audiencia  1.78346 , solución es: [S12: ath - rso, D12: val - osa, D12: leg - bet, D12: mal - eib, D12: lev - gra, D12: esp - vll, V20: ala - rma, D12: bcn - vlc, D12: cel - atm]\n"
          ]
        },
        {
          "output_type": "stream",
          "name": "stderr",
          "text": [
            "\r  1%|▏         | 2/150 [00:00<00:48,  3.06it/s]"
          ]
        },
        {
          "output_type": "stream",
          "name": "stdout",
          "text": [
            "Generacion # 1 : audiencia  1.897 , solución es: [S12: bcn - vlc, V20: cel - atm, D12: val - osa, D12: mal - eib, D12: esp - vll, D12: lev - gra, V20: ala - rma, D12: leg - bet, D12: ath - rso]\n"
          ]
        },
        {
          "output_type": "stream",
          "name": "stderr",
          "text": [
            "\r  2%|▏         | 3/150 [00:01<00:52,  2.81it/s]"
          ]
        },
        {
          "output_type": "stream",
          "name": "stdout",
          "text": [
            "Generacion # 2 : audiencia  1.9045 , solución es: [S12: ala - rma, V20: ath - rso, D12: mal - eib, D12: leg - bet, D12: cel - atm, D12: bcn - vlc, S12: lev - gra, D12: esp - vll, D12: val - osa]\n"
          ]
        },
        {
          "output_type": "stream",
          "name": "stderr",
          "text": [
            "\r  3%|▎         | 4/150 [00:01<00:46,  3.15it/s]"
          ]
        },
        {
          "output_type": "stream",
          "name": "stdout",
          "text": [
            "Generacion # 3 : audiencia  2.0695 , solución es: [S12: bcn - vlc, V20: ath - rso, D12: mal - eib, D12: esp - vll, D12: leg - bet, S12: ala - rma, D12: cel - atm, D12: val - osa, D12: lev - gra]\n"
          ]
        },
        {
          "output_type": "stream",
          "name": "stderr",
          "text": [
            "\r  3%|▎         | 5/150 [00:01<00:44,  3.28it/s]"
          ]
        },
        {
          "output_type": "stream",
          "name": "stdout",
          "text": [
            "Generacion # 4 : audiencia  2.0724 , solución es: [S12: ala - rma, V20: cel - atm, V20: bcn - vlc, D12: mal - eib, D12: ath - rso, D12: leg - bet, S12: esp - vll, D12: val - osa, D12: lev - gra]\n"
          ]
        },
        {
          "output_type": "stream",
          "name": "stderr",
          "text": [
            "\r  4%|▍         | 6/150 [00:01<00:43,  3.32it/s]"
          ]
        },
        {
          "output_type": "stream",
          "name": "stdout",
          "text": [
            "Generacion # 5 : audiencia  2.09678 , solución es: [S12: ath - rso, V20: ala - rma, V20: bcn - vlc, D12: leg - bet, D12: mal - eib, D12: cel - atm, S12: lev - gra, D12: val - osa, D12: esp - vll]\n"
          ]
        },
        {
          "output_type": "stream",
          "name": "stderr",
          "text": [
            "\r  5%|▍         | 7/150 [00:02<00:50,  2.81it/s]"
          ]
        },
        {
          "output_type": "stream",
          "name": "stdout",
          "text": [
            "Generacion # 6 : audiencia  2.1937 , solución es: [S12: ala - rma, D12: val - osa, D12: lev - gra, V20: cel - atm, S12: bcn - vlc, V20: esp - vll, D12: mal - eib, V20: ath - rso, D12: leg - bet]\n"
          ]
        },
        {
          "output_type": "stream",
          "name": "stderr",
          "text": [
            "\r  5%|▌         | 8/150 [00:02<00:49,  2.86it/s]"
          ]
        },
        {
          "output_type": "stream",
          "name": "stdout",
          "text": [
            "Generacion # 7 : audiencia  2.1937 , solución es: [S12: ala - rma, D12: val - osa, D12: lev - gra, V20: cel - atm, S12: bcn - vlc, V20: esp - vll, D12: mal - eib, V20: ath - rso, D12: leg - bet]\n"
          ]
        },
        {
          "output_type": "stream",
          "name": "stderr",
          "text": [
            "\r  6%|▌         | 9/150 [00:03<00:59,  2.38it/s]"
          ]
        },
        {
          "output_type": "stream",
          "name": "stdout",
          "text": [
            "Generacion # 8 : audiencia  2.1937 , solución es: [S12: ala - rma, D12: val - osa, D12: lev - gra, V20: cel - atm, S12: bcn - vlc, V20: esp - vll, D12: mal - eib, V20: ath - rso, D12: leg - bet]\n"
          ]
        },
        {
          "output_type": "stream",
          "name": "stderr",
          "text": [
            "\r  7%|▋         | 10/150 [00:03<01:09,  2.01it/s]"
          ]
        },
        {
          "output_type": "stream",
          "name": "stdout",
          "text": [
            "Generacion # 9 : audiencia  2.1937 , solución es: [S12: ala - rma, D12: val - osa, D12: lev - gra, V20: cel - atm, S12: bcn - vlc, V20: esp - vll, D12: mal - eib, V20: ath - rso, D12: leg - bet]\n"
          ]
        },
        {
          "output_type": "stream",
          "name": "stderr",
          "text": [
            "\r  7%|▋         | 11/150 [00:04<01:28,  1.57it/s]"
          ]
        },
        {
          "output_type": "stream",
          "name": "stdout",
          "text": [
            "Generacion # 10 : audiencia  2.1937 , solución es: [S12: ala - rma, D12: val - osa, D12: lev - gra, V20: cel - atm, S12: bcn - vlc, V20: esp - vll, D12: mal - eib, V20: ath - rso, D12: leg - bet]\n"
          ]
        },
        {
          "output_type": "stream",
          "name": "stderr",
          "text": [
            "\r  8%|▊         | 12/150 [00:05<01:43,  1.33it/s]"
          ]
        },
        {
          "output_type": "stream",
          "name": "stdout",
          "text": [
            "Generacion # 11 : audiencia  2.1937 , solución es: [S12: ala - rma, D12: val - osa, D12: lev - gra, V20: cel - atm, S12: bcn - vlc, V20: esp - vll, D12: mal - eib, V20: ath - rso, D12: leg - bet]\n"
          ]
        },
        {
          "output_type": "stream",
          "name": "stderr",
          "text": [
            "\r  9%|▊         | 13/150 [00:06<01:36,  1.42it/s]"
          ]
        },
        {
          "output_type": "stream",
          "name": "stdout",
          "text": [
            "Generacion # 12 : audiencia  2.2039 , solución es: [S12: ath - rso, V20: cel - atm, V20: val - osa, V20: mal - eib, D12: leg - bet, D12: lev - gra, S12: ala - rma, V20: esp - vll, D12: bcn - vlc]\n"
          ]
        },
        {
          "output_type": "stream",
          "name": "stderr",
          "text": [
            "\r  9%|▉         | 14/150 [00:07<01:32,  1.47it/s]"
          ]
        },
        {
          "output_type": "stream",
          "name": "stdout",
          "text": [
            "Generacion # 13 : audiencia  2.2039 , solución es: [S12: ath - rso, V20: cel - atm, V20: val - osa, V20: mal - eib, D12: leg - bet, D12: lev - gra, S12: ala - rma, V20: esp - vll, D12: bcn - vlc]\n"
          ]
        },
        {
          "output_type": "stream",
          "name": "stderr",
          "text": [
            "\r 10%|█         | 15/150 [00:07<01:24,  1.60it/s]"
          ]
        },
        {
          "output_type": "stream",
          "name": "stdout",
          "text": [
            "Generacion # 14 : audiencia  2.2039 , solución es: [S12: ath - rso, V20: cel - atm, V20: val - osa, V20: mal - eib, D12: leg - bet, D12: lev - gra, S12: ala - rma, V20: esp - vll, D12: bcn - vlc]\n"
          ]
        },
        {
          "output_type": "stream",
          "name": "stderr",
          "text": [
            "\r 11%|█         | 16/150 [00:08<01:28,  1.52it/s]"
          ]
        },
        {
          "output_type": "stream",
          "name": "stdout",
          "text": [
            "Generacion # 15 : audiencia  2.2039 , solución es: [S12: ath - rso, V20: cel - atm, V20: val - osa, V20: mal - eib, D12: leg - bet, D12: lev - gra, S12: ala - rma, V20: esp - vll, D12: bcn - vlc]\n"
          ]
        },
        {
          "output_type": "stream",
          "name": "stderr",
          "text": [
            "\r 11%|█▏        | 17/150 [00:09<01:27,  1.52it/s]"
          ]
        },
        {
          "output_type": "stream",
          "name": "stdout",
          "text": [
            "Generacion # 16 : audiencia  2.2039 , solución es: [S12: ath - rso, V20: cel - atm, V20: val - osa, V20: mal - eib, D12: leg - bet, D12: lev - gra, S12: ala - rma, V20: esp - vll, D12: bcn - vlc]\n"
          ]
        },
        {
          "output_type": "stream",
          "name": "stderr",
          "text": [
            "\r 12%|█▏        | 18/150 [00:09<01:24,  1.55it/s]"
          ]
        },
        {
          "output_type": "stream",
          "name": "stdout",
          "text": [
            "Generacion # 17 : audiencia  2.21703 , solución es: [S12: bcn - vlc, V20: lev - gra, V20: val - osa, V20: mal - eib, D12: ath - rso, D12: leg - bet, V20: cel - atm, D12: esp - vll, S12: ala - rma]\n"
          ]
        },
        {
          "output_type": "stream",
          "name": "stderr",
          "text": [
            "\r 13%|█▎        | 19/150 [00:10<01:24,  1.55it/s]"
          ]
        },
        {
          "output_type": "stream",
          "name": "stdout",
          "text": [
            "Generacion # 18 : audiencia  2.21703 , solución es: [S12: ath - rso, V20: val - osa, V20: esp - vll, V20: mal - eib, D12: leg - bet, D12: bcn - vlc, S12: ala - rma, V20: lev - gra, D12: cel - atm]\n"
          ]
        },
        {
          "output_type": "stream",
          "name": "stderr",
          "text": [
            "\r 13%|█▎        | 20/150 [00:10<01:23,  1.56it/s]"
          ]
        },
        {
          "output_type": "stream",
          "name": "stdout",
          "text": [
            "Generacion # 19 : audiencia  2.21703 , solución es: [S12: ath - rso, V20: val - osa, V20: esp - vll, V20: mal - eib, D12: leg - bet, D12: bcn - vlc, S12: ala - rma, V20: lev - gra, D12: cel - atm]\n"
          ]
        },
        {
          "output_type": "stream",
          "name": "stderr",
          "text": [
            "\r 14%|█▍        | 21/150 [00:11<01:23,  1.54it/s]"
          ]
        },
        {
          "output_type": "stream",
          "name": "stdout",
          "text": [
            "Generacion # 20 : audiencia  2.21703 , solución es: [S12: ath - rso, V20: val - osa, V20: esp - vll, V20: mal - eib, D12: leg - bet, D12: bcn - vlc, S12: ala - rma, V20: lev - gra, D12: cel - atm]\n"
          ]
        },
        {
          "output_type": "stream",
          "name": "stderr",
          "text": [
            "\r 15%|█▍        | 22/150 [00:12<01:28,  1.44it/s]"
          ]
        },
        {
          "output_type": "stream",
          "name": "stdout",
          "text": [
            "Generacion # 21 : audiencia  2.21703 , solución es: [S12: ath - rso, V20: val - osa, V20: esp - vll, V20: mal - eib, D12: leg - bet, D12: bcn - vlc, S12: ala - rma, V20: lev - gra, D12: cel - atm]\n"
          ]
        },
        {
          "output_type": "stream",
          "name": "stderr",
          "text": [
            "\r 15%|█▌        | 23/150 [00:12<01:22,  1.54it/s]"
          ]
        },
        {
          "output_type": "stream",
          "name": "stdout",
          "text": [
            "Generacion # 22 : audiencia  2.21703 , solución es: [S12: ath - rso, V20: val - osa, V20: esp - vll, V20: mal - eib, D12: leg - bet, D12: bcn - vlc, S12: ala - rma, V20: lev - gra, D12: cel - atm]\n"
          ]
        },
        {
          "output_type": "stream",
          "name": "stderr",
          "text": [
            "\r 16%|█▌        | 24/150 [00:13<01:21,  1.54it/s]"
          ]
        },
        {
          "output_type": "stream",
          "name": "stdout",
          "text": [
            "Generacion # 23 : audiencia  2.21703 , solución es: [S12: ath - rso, V20: val - osa, V20: esp - vll, V20: mal - eib, D12: leg - bet, D12: bcn - vlc, S12: ala - rma, V20: lev - gra, D12: cel - atm]\n"
          ]
        },
        {
          "output_type": "stream",
          "name": "stderr",
          "text": [
            "\r 17%|█▋        | 25/150 [00:14<01:20,  1.55it/s]"
          ]
        },
        {
          "output_type": "stream",
          "name": "stdout",
          "text": [
            "Generacion # 24 : audiencia  2.21703 , solución es: [S12: ath - rso, V20: val - osa, V20: esp - vll, V20: mal - eib, D12: leg - bet, D12: bcn - vlc, S12: ala - rma, V20: lev - gra, D12: cel - atm]\n"
          ]
        },
        {
          "output_type": "stream",
          "name": "stderr",
          "text": [
            "\r 17%|█▋        | 26/150 [00:14<01:20,  1.53it/s]"
          ]
        },
        {
          "output_type": "stream",
          "name": "stdout",
          "text": [
            "Generacion # 25 : audiencia  2.21703 , solución es: [S12: ath - rso, V20: val - osa, V20: esp - vll, V20: mal - eib, D12: leg - bet, D12: bcn - vlc, S12: ala - rma, V20: lev - gra, D12: cel - atm]\n"
          ]
        },
        {
          "output_type": "stream",
          "name": "stderr",
          "text": [
            "\r 18%|█▊        | 27/150 [00:15<01:24,  1.46it/s]"
          ]
        },
        {
          "output_type": "stream",
          "name": "stdout",
          "text": [
            "Generacion # 26 : audiencia  2.21703 , solución es: [S12: ath - rso, V20: val - osa, V20: esp - vll, V20: mal - eib, D12: leg - bet, D12: bcn - vlc, S12: ala - rma, V20: lev - gra, D12: cel - atm]\n"
          ]
        },
        {
          "output_type": "stream",
          "name": "stderr",
          "text": [
            "\r 19%|█▊        | 28/150 [00:16<01:36,  1.26it/s]"
          ]
        },
        {
          "output_type": "stream",
          "name": "stdout",
          "text": [
            "Generacion # 27 : audiencia  2.21703 , solución es: [S12: ath - rso, V20: val - osa, V20: esp - vll, V20: mal - eib, D12: leg - bet, D12: bcn - vlc, S12: ala - rma, V20: lev - gra, D12: cel - atm]\n"
          ]
        },
        {
          "output_type": "stream",
          "name": "stderr",
          "text": [
            "\r 19%|█▉        | 29/150 [00:17<01:49,  1.10it/s]"
          ]
        },
        {
          "output_type": "stream",
          "name": "stdout",
          "text": [
            "Generacion # 28 : audiencia  2.23015 , solución es: [S12: ala - rma, V20: lev - gra, V20: val - osa, V20: mal - eib, D12: bcn - vlc, V20: leg - bet, D12: esp - vll, S12: ath - rso, D12: cel - atm]\n"
          ]
        },
        {
          "output_type": "stream",
          "name": "stderr",
          "text": [
            "\r 20%|██        | 30/150 [00:18<01:46,  1.12it/s]"
          ]
        },
        {
          "output_type": "stream",
          "name": "stdout",
          "text": [
            "Generacion # 29 : audiencia  2.23015 , solución es: [S12: ala - rma, V20: lev - gra, V20: val - osa, V20: mal - eib, D12: bcn - vlc, V20: leg - bet, D12: esp - vll, S12: ath - rso, D12: cel - atm]\n"
          ]
        },
        {
          "output_type": "stream",
          "name": "stderr",
          "text": [
            "\r 21%|██        | 31/150 [00:19<01:36,  1.23it/s]"
          ]
        },
        {
          "output_type": "stream",
          "name": "stdout",
          "text": [
            "Generacion # 30 : audiencia  2.23015 , solución es: [S12: ala - rma, V20: lev - gra, V20: val - osa, V20: mal - eib, D12: bcn - vlc, V20: leg - bet, D12: esp - vll, S12: ath - rso, D12: cel - atm]\n"
          ]
        },
        {
          "output_type": "stream",
          "name": "stderr",
          "text": [
            "\r 21%|██▏       | 32/150 [00:19<01:25,  1.38it/s]"
          ]
        },
        {
          "output_type": "stream",
          "name": "stdout",
          "text": [
            "Generacion # 31 : audiencia  2.23015 , solución es: [S12: ala - rma, V20: lev - gra, V20: val - osa, V20: mal - eib, D12: bcn - vlc, V20: leg - bet, D12: esp - vll, S12: ath - rso, D12: cel - atm]\n"
          ]
        },
        {
          "output_type": "stream",
          "name": "stderr",
          "text": [
            "\r 22%|██▏       | 33/150 [00:20<01:25,  1.36it/s]"
          ]
        },
        {
          "output_type": "stream",
          "name": "stdout",
          "text": [
            "Generacion # 32 : audiencia  2.23015 , solución es: [S12: ala - rma, V20: lev - gra, V20: val - osa, V20: mal - eib, D12: bcn - vlc, V20: leg - bet, D12: esp - vll, S12: ath - rso, D12: cel - atm]\n"
          ]
        },
        {
          "output_type": "stream",
          "name": "stderr",
          "text": [
            "\r 23%|██▎       | 34/150 [00:21<01:25,  1.36it/s]"
          ]
        },
        {
          "output_type": "stream",
          "name": "stdout",
          "text": [
            "Generacion # 33 : audiencia  2.23015 , solución es: [S12: ala - rma, V20: lev - gra, V20: val - osa, V20: mal - eib, D12: bcn - vlc, V20: leg - bet, D12: esp - vll, S12: ath - rso, D12: cel - atm]\n"
          ]
        },
        {
          "output_type": "stream",
          "name": "stderr",
          "text": [
            "\r 23%|██▎       | 35/150 [00:22<01:26,  1.34it/s]"
          ]
        },
        {
          "output_type": "stream",
          "name": "stdout",
          "text": [
            "Generacion # 34 : audiencia  2.23015 , solución es: [S12: ala - rma, V20: lev - gra, V20: val - osa, V20: mal - eib, D12: bcn - vlc, V20: leg - bet, D12: esp - vll, S12: ath - rso, D12: cel - atm]\n"
          ]
        },
        {
          "output_type": "stream",
          "name": "stderr",
          "text": [
            "\r 24%|██▍       | 36/150 [00:22<01:25,  1.33it/s]"
          ]
        },
        {
          "output_type": "stream",
          "name": "stdout",
          "text": [
            "Generacion # 35 : audiencia  2.23015 , solución es: [S12: ala - rma, V20: lev - gra, V20: val - osa, V20: mal - eib, D12: bcn - vlc, V20: leg - bet, D12: esp - vll, S12: ath - rso, D12: cel - atm]\n"
          ]
        },
        {
          "output_type": "stream",
          "name": "stderr",
          "text": [
            "\r 25%|██▍       | 37/150 [00:23<01:25,  1.32it/s]"
          ]
        },
        {
          "output_type": "stream",
          "name": "stdout",
          "text": [
            "Generacion # 36 : audiencia  2.23015 , solución es: [S12: ath - rso, V20: val - osa, V20: leg - bet, V20: mal - eib, D12: cel - atm, D12: esp - vll, D12: ala - rma, V20: lev - gra, S12: bcn - vlc]\n"
          ]
        },
        {
          "output_type": "stream",
          "name": "stderr",
          "text": [
            "\r 25%|██▌       | 38/150 [00:24<01:17,  1.44it/s]"
          ]
        },
        {
          "output_type": "stream",
          "name": "stdout",
          "text": [
            "Generacion # 37 : audiencia  2.23015 , solución es: [S12: ath - rso, V20: val - osa, V20: leg - bet, V20: mal - eib, D12: cel - atm, D12: esp - vll, D12: ala - rma, V20: lev - gra, S12: bcn - vlc]\n"
          ]
        },
        {
          "output_type": "stream",
          "name": "stderr",
          "text": [
            "\r 26%|██▌       | 39/150 [00:24<01:18,  1.42it/s]"
          ]
        },
        {
          "output_type": "stream",
          "name": "stdout",
          "text": [
            "Generacion # 38 : audiencia  2.23015 , solución es: [S12: ath - rso, V20: val - osa, V20: leg - bet, V20: mal - eib, D12: cel - atm, D12: esp - vll, D12: ala - rma, V20: lev - gra, S12: bcn - vlc]\n"
          ]
        },
        {
          "output_type": "stream",
          "name": "stderr",
          "text": [
            "\r 27%|██▋       | 40/150 [00:25<01:18,  1.41it/s]"
          ]
        },
        {
          "output_type": "stream",
          "name": "stdout",
          "text": [
            "Generacion # 39 : audiencia  2.23015 , solución es: [S12: ath - rso, V20: val - osa, V20: leg - bet, V20: mal - eib, D12: cel - atm, D12: esp - vll, D12: ala - rma, V20: lev - gra, S12: bcn - vlc]\n"
          ]
        },
        {
          "output_type": "stream",
          "name": "stderr",
          "text": [
            "\r 27%|██▋       | 41/150 [00:26<01:18,  1.40it/s]"
          ]
        },
        {
          "output_type": "stream",
          "name": "stdout",
          "text": [
            "Generacion # 40 : audiencia  2.23015 , solución es: [S12: ath - rso, V20: val - osa, V20: leg - bet, V20: mal - eib, D12: cel - atm, D12: esp - vll, D12: ala - rma, V20: lev - gra, S12: bcn - vlc]\n"
          ]
        },
        {
          "output_type": "stream",
          "name": "stderr",
          "text": [
            "\r 28%|██▊       | 42/150 [00:27<01:17,  1.39it/s]"
          ]
        },
        {
          "output_type": "stream",
          "name": "stdout",
          "text": [
            "Generacion # 41 : audiencia  2.23015 , solución es: [S12: ath - rso, V20: val - osa, V20: leg - bet, V20: mal - eib, D12: cel - atm, D12: esp - vll, D12: ala - rma, V20: lev - gra, S12: bcn - vlc]\n"
          ]
        },
        {
          "output_type": "stream",
          "name": "stderr",
          "text": [
            "\r 29%|██▊       | 43/150 [00:27<01:18,  1.36it/s]"
          ]
        },
        {
          "output_type": "stream",
          "name": "stdout",
          "text": [
            "Generacion # 42 : audiencia  2.23015 , solución es: [S12: ath - rso, V20: val - osa, V20: leg - bet, V20: mal - eib, D12: cel - atm, D12: esp - vll, D12: ala - rma, V20: lev - gra, S12: bcn - vlc]\n"
          ]
        },
        {
          "output_type": "stream",
          "name": "stderr",
          "text": [
            "\r 29%|██▉       | 44/150 [00:28<01:20,  1.32it/s]"
          ]
        },
        {
          "output_type": "stream",
          "name": "stdout",
          "text": [
            "Generacion # 43 : audiencia  2.23015 , solución es: [S12: ath - rso, V20: val - osa, V20: leg - bet, V20: mal - eib, D12: cel - atm, D12: esp - vll, D12: ala - rma, V20: lev - gra, S12: bcn - vlc]\n"
          ]
        },
        {
          "output_type": "stream",
          "name": "stderr",
          "text": [
            "\r 30%|███       | 45/150 [00:29<01:27,  1.20it/s]"
          ]
        },
        {
          "output_type": "stream",
          "name": "stdout",
          "text": [
            "Generacion # 44 : audiencia  2.23015 , solución es: [S12: ath - rso, V20: val - osa, V20: leg - bet, V20: mal - eib, D12: cel - atm, D12: esp - vll, D12: ala - rma, V20: lev - gra, S12: bcn - vlc]\n"
          ]
        },
        {
          "output_type": "stream",
          "name": "stderr",
          "text": [
            "\r 31%|███       | 46/150 [00:30<01:28,  1.18it/s]"
          ]
        },
        {
          "output_type": "stream",
          "name": "stdout",
          "text": [
            "Generacion # 45 : audiencia  2.23015 , solución es: [S12: ath - rso, V20: val - osa, V20: leg - bet, V20: mal - eib, D12: cel - atm, D12: esp - vll, D12: ala - rma, V20: lev - gra, S12: bcn - vlc]\n"
          ]
        },
        {
          "output_type": "stream",
          "name": "stderr",
          "text": [
            "\r 31%|███▏      | 47/150 [00:31<01:25,  1.21it/s]"
          ]
        },
        {
          "output_type": "stream",
          "name": "stdout",
          "text": [
            "Generacion # 46 : audiencia  2.23015 , solución es: [S12: ath - rso, V20: val - osa, V20: leg - bet, V20: mal - eib, D12: cel - atm, D12: esp - vll, D12: ala - rma, V20: lev - gra, S12: bcn - vlc]\n"
          ]
        },
        {
          "output_type": "stream",
          "name": "stderr",
          "text": [
            "\r 32%|███▏      | 48/150 [00:32<01:21,  1.25it/s]"
          ]
        },
        {
          "output_type": "stream",
          "name": "stdout",
          "text": [
            "Generacion # 47 : audiencia  2.23015 , solución es: [S12: ath - rso, V20: val - osa, V20: leg - bet, V20: mal - eib, D12: cel - atm, D12: esp - vll, D12: ala - rma, V20: lev - gra, S12: bcn - vlc]\n"
          ]
        },
        {
          "output_type": "stream",
          "name": "stderr",
          "text": [
            "\r 33%|███▎      | 49/150 [00:32<01:15,  1.34it/s]"
          ]
        },
        {
          "output_type": "stream",
          "name": "stdout",
          "text": [
            "Generacion # 48 : audiencia  2.23015 , solución es: [S12: ath - rso, V20: val - osa, V20: leg - bet, V20: mal - eib, D12: cel - atm, D12: esp - vll, D12: ala - rma, V20: lev - gra, S12: bcn - vlc]\n"
          ]
        },
        {
          "output_type": "stream",
          "name": "stderr",
          "text": [
            "\r 33%|███▎      | 50/150 [00:33<01:11,  1.40it/s]"
          ]
        },
        {
          "output_type": "stream",
          "name": "stdout",
          "text": [
            "Generacion # 49 : audiencia  2.23015 , solución es: [S12: ath - rso, V20: val - osa, V20: leg - bet, V20: mal - eib, D12: cel - atm, D12: esp - vll, D12: ala - rma, V20: lev - gra, S12: bcn - vlc]\n"
          ]
        },
        {
          "output_type": "stream",
          "name": "stderr",
          "text": [
            "\r 34%|███▍      | 51/150 [00:34<01:08,  1.45it/s]"
          ]
        },
        {
          "output_type": "stream",
          "name": "stdout",
          "text": [
            "Generacion # 50 : audiencia  2.23015 , solución es: [S12: ath - rso, V20: val - osa, V20: leg - bet, V20: mal - eib, D12: cel - atm, D12: esp - vll, D12: ala - rma, V20: lev - gra, S12: bcn - vlc]\n"
          ]
        },
        {
          "output_type": "stream",
          "name": "stderr",
          "text": [
            "\r 35%|███▍      | 52/150 [00:34<01:05,  1.49it/s]"
          ]
        },
        {
          "output_type": "stream",
          "name": "stdout",
          "text": [
            "Generacion # 51 : audiencia  2.23015 , solución es: [S12: ath - rso, V20: val - osa, V20: leg - bet, V20: mal - eib, D12: cel - atm, D12: esp - vll, D12: ala - rma, V20: lev - gra, S12: bcn - vlc]\n"
          ]
        },
        {
          "output_type": "stream",
          "name": "stderr",
          "text": [
            "\r 35%|███▌      | 53/150 [00:35<01:07,  1.44it/s]"
          ]
        },
        {
          "output_type": "stream",
          "name": "stdout",
          "text": [
            "Generacion # 52 : audiencia  2.23015 , solución es: [S12: ath - rso, V20: val - osa, V20: leg - bet, V20: mal - eib, D12: cel - atm, D12: esp - vll, D12: ala - rma, V20: lev - gra, S12: bcn - vlc]\n"
          ]
        },
        {
          "output_type": "stream",
          "name": "stderr",
          "text": [
            "\r 36%|███▌      | 54/150 [00:35<01:03,  1.51it/s]"
          ]
        },
        {
          "output_type": "stream",
          "name": "stdout",
          "text": [
            "Generacion # 53 : audiencia  2.23015 , solución es: [S12: ath - rso, V20: val - osa, V20: leg - bet, V20: mal - eib, D12: cel - atm, D12: esp - vll, D12: ala - rma, V20: lev - gra, S12: bcn - vlc]\n"
          ]
        },
        {
          "output_type": "stream",
          "name": "stderr",
          "text": [
            "\r 37%|███▋      | 55/150 [00:36<01:06,  1.43it/s]"
          ]
        },
        {
          "output_type": "stream",
          "name": "stdout",
          "text": [
            "Generacion # 54 : audiencia  2.23015 , solución es: [S12: ath - rso, V20: val - osa, V20: leg - bet, V20: mal - eib, D12: cel - atm, D12: esp - vll, D12: ala - rma, V20: lev - gra, S12: bcn - vlc]\n"
          ]
        },
        {
          "output_type": "stream",
          "name": "stderr",
          "text": [
            "\r 37%|███▋      | 56/150 [00:37<01:07,  1.39it/s]"
          ]
        },
        {
          "output_type": "stream",
          "name": "stdout",
          "text": [
            "Generacion # 55 : audiencia  2.23015 , solución es: [S12: ath - rso, V20: val - osa, V20: leg - bet, V20: mal - eib, D12: cel - atm, D12: esp - vll, D12: ala - rma, V20: lev - gra, S12: bcn - vlc]\n"
          ]
        },
        {
          "output_type": "stream",
          "name": "stderr",
          "text": [
            "\r 38%|███▊      | 57/150 [00:38<01:07,  1.38it/s]"
          ]
        },
        {
          "output_type": "stream",
          "name": "stdout",
          "text": [
            "Generacion # 56 : audiencia  2.23015 , solución es: [S12: ath - rso, V20: val - osa, V20: leg - bet, V20: mal - eib, D12: cel - atm, D12: esp - vll, D12: ala - rma, V20: lev - gra, S12: bcn - vlc]\n"
          ]
        },
        {
          "output_type": "stream",
          "name": "stderr",
          "text": [
            "\r 39%|███▊      | 58/150 [00:38<01:04,  1.42it/s]"
          ]
        },
        {
          "output_type": "stream",
          "name": "stdout",
          "text": [
            "Generacion # 57 : audiencia  2.23015 , solución es: [S12: ath - rso, V20: val - osa, V20: leg - bet, V20: mal - eib, D12: cel - atm, D12: esp - vll, D12: ala - rma, V20: lev - gra, S12: bcn - vlc]\n"
          ]
        },
        {
          "output_type": "stream",
          "name": "stderr",
          "text": [
            "\r 39%|███▉      | 59/150 [00:39<01:05,  1.40it/s]"
          ]
        },
        {
          "output_type": "stream",
          "name": "stdout",
          "text": [
            "Generacion # 58 : audiencia  2.23015 , solución es: [S12: ath - rso, V20: val - osa, V20: leg - bet, V20: mal - eib, D12: cel - atm, D12: esp - vll, D12: ala - rma, V20: lev - gra, S12: bcn - vlc]\n"
          ]
        },
        {
          "output_type": "stream",
          "name": "stderr",
          "text": [
            "\r 40%|████      | 60/150 [00:40<01:06,  1.36it/s]"
          ]
        },
        {
          "output_type": "stream",
          "name": "stdout",
          "text": [
            "Generacion # 59 : audiencia  2.23015 , solución es: [S12: ath - rso, V20: val - osa, V20: leg - bet, V20: mal - eib, D12: cel - atm, D12: esp - vll, D12: ala - rma, V20: lev - gra, S12: bcn - vlc]\n"
          ]
        },
        {
          "output_type": "stream",
          "name": "stderr",
          "text": [
            "\r 41%|████      | 61/150 [00:41<01:11,  1.24it/s]"
          ]
        },
        {
          "output_type": "stream",
          "name": "stdout",
          "text": [
            "Generacion # 60 : audiencia  2.23015 , solución es: [S12: ath - rso, V20: val - osa, V20: leg - bet, V20: mal - eib, D12: cel - atm, D12: esp - vll, D12: ala - rma, V20: lev - gra, S12: bcn - vlc]\n"
          ]
        },
        {
          "output_type": "stream",
          "name": "stderr",
          "text": [
            "\r 41%|████▏     | 62/150 [00:42<01:21,  1.08it/s]"
          ]
        },
        {
          "output_type": "stream",
          "name": "stdout",
          "text": [
            "Generacion # 61 : audiencia  2.23015 , solución es: [S12: ath - rso, V20: val - osa, V20: leg - bet, V20: mal - eib, D12: cel - atm, D12: esp - vll, D12: ala - rma, V20: lev - gra, S12: bcn - vlc]\n"
          ]
        },
        {
          "output_type": "stream",
          "name": "stderr",
          "text": [
            "\r 42%|████▏     | 63/150 [00:43<01:20,  1.08it/s]"
          ]
        },
        {
          "output_type": "stream",
          "name": "stdout",
          "text": [
            "Generacion # 62 : audiencia  2.23015 , solución es: [S12: ath - rso, V20: val - osa, V20: leg - bet, V20: mal - eib, D12: cel - atm, D12: esp - vll, D12: ala - rma, V20: lev - gra, S12: bcn - vlc]\n"
          ]
        },
        {
          "output_type": "stream",
          "name": "stderr",
          "text": [
            "\r 43%|████▎     | 64/150 [00:44<01:15,  1.14it/s]"
          ]
        },
        {
          "output_type": "stream",
          "name": "stdout",
          "text": [
            "Generacion # 63 : audiencia  2.23015 , solución es: [S12: ath - rso, V20: val - osa, V20: leg - bet, V20: mal - eib, D12: cel - atm, D12: esp - vll, D12: ala - rma, V20: lev - gra, S12: bcn - vlc]\n"
          ]
        },
        {
          "output_type": "stream",
          "name": "stderr",
          "text": [
            "\r 43%|████▎     | 65/150 [00:45<01:11,  1.19it/s]"
          ]
        },
        {
          "output_type": "stream",
          "name": "stdout",
          "text": [
            "Generacion # 64 : audiencia  2.23015 , solución es: [S12: ath - rso, V20: val - osa, V20: leg - bet, V20: mal - eib, D12: cel - atm, D12: esp - vll, D12: ala - rma, V20: lev - gra, S12: bcn - vlc]\n"
          ]
        },
        {
          "output_type": "stream",
          "name": "stderr",
          "text": [
            "\r 44%|████▍     | 66/150 [00:45<01:08,  1.22it/s]"
          ]
        },
        {
          "output_type": "stream",
          "name": "stdout",
          "text": [
            "Generacion # 65 : audiencia  2.23015 , solución es: [S12: ath - rso, V20: val - osa, V20: leg - bet, V20: mal - eib, D12: cel - atm, D12: esp - vll, D12: ala - rma, V20: lev - gra, S12: bcn - vlc]\n"
          ]
        },
        {
          "output_type": "stream",
          "name": "stderr",
          "text": [
            "\r 45%|████▍     | 67/150 [00:46<01:06,  1.24it/s]"
          ]
        },
        {
          "output_type": "stream",
          "name": "stdout",
          "text": [
            "Generacion # 66 : audiencia  2.23015 , solución es: [S12: ath - rso, V20: val - osa, V20: leg - bet, V20: mal - eib, D12: cel - atm, D12: esp - vll, D12: ala - rma, V20: lev - gra, S12: bcn - vlc]\n"
          ]
        },
        {
          "output_type": "stream",
          "name": "stderr",
          "text": [
            "\r 45%|████▌     | 68/150 [00:47<01:05,  1.25it/s]"
          ]
        },
        {
          "output_type": "stream",
          "name": "stdout",
          "text": [
            "Generacion # 67 : audiencia  2.23015 , solución es: [S12: ath - rso, V20: val - osa, V20: leg - bet, V20: mal - eib, D12: cel - atm, D12: esp - vll, D12: ala - rma, V20: lev - gra, S12: bcn - vlc]\n"
          ]
        },
        {
          "output_type": "stream",
          "name": "stderr",
          "text": [
            "\r 46%|████▌     | 69/150 [00:48<01:04,  1.26it/s]"
          ]
        },
        {
          "output_type": "stream",
          "name": "stdout",
          "text": [
            "Generacion # 68 : audiencia  2.23015 , solución es: [S12: ath - rso, V20: val - osa, V20: leg - bet, V20: mal - eib, D12: cel - atm, D12: esp - vll, D12: ala - rma, V20: lev - gra, S12: bcn - vlc]\n"
          ]
        },
        {
          "output_type": "stream",
          "name": "stderr",
          "text": [
            "\r 47%|████▋     | 70/150 [00:48<01:03,  1.26it/s]"
          ]
        },
        {
          "output_type": "stream",
          "name": "stdout",
          "text": [
            "Generacion # 69 : audiencia  2.23015 , solución es: [S12: ath - rso, V20: val - osa, V20: leg - bet, V20: mal - eib, D12: cel - atm, D12: esp - vll, D12: ala - rma, V20: lev - gra, S12: bcn - vlc]\n"
          ]
        },
        {
          "output_type": "stream",
          "name": "stderr",
          "text": [
            "\r 47%|████▋     | 71/150 [00:49<00:57,  1.37it/s]"
          ]
        },
        {
          "output_type": "stream",
          "name": "stdout",
          "text": [
            "Generacion # 70 : audiencia  2.23015 , solución es: [S12: ath - rso, V20: val - osa, V20: leg - bet, V20: mal - eib, D12: cel - atm, D12: esp - vll, D12: ala - rma, V20: lev - gra, S12: bcn - vlc]\n"
          ]
        },
        {
          "output_type": "stream",
          "name": "stderr",
          "text": [
            "\r 48%|████▊     | 72/150 [00:50<00:55,  1.41it/s]"
          ]
        },
        {
          "output_type": "stream",
          "name": "stdout",
          "text": [
            "Generacion # 71 : audiencia  2.23015 , solución es: [S12: ath - rso, V20: val - osa, V20: leg - bet, V20: mal - eib, D12: cel - atm, D12: esp - vll, D12: ala - rma, V20: lev - gra, S12: bcn - vlc]\n"
          ]
        },
        {
          "output_type": "stream",
          "name": "stderr",
          "text": [
            "\r 49%|████▊     | 73/150 [00:50<00:54,  1.41it/s]"
          ]
        },
        {
          "output_type": "stream",
          "name": "stdout",
          "text": [
            "Generacion # 72 : audiencia  2.23015 , solución es: [S12: ath - rso, V20: val - osa, V20: leg - bet, V20: mal - eib, D12: cel - atm, D12: esp - vll, D12: ala - rma, V20: lev - gra, S12: bcn - vlc]\n"
          ]
        },
        {
          "output_type": "stream",
          "name": "stderr",
          "text": [
            "\r 49%|████▉     | 74/150 [00:51<00:55,  1.38it/s]"
          ]
        },
        {
          "output_type": "stream",
          "name": "stdout",
          "text": [
            "Generacion # 73 : audiencia  2.23015 , solución es: [S12: ath - rso, V20: val - osa, V20: leg - bet, V20: mal - eib, D12: cel - atm, D12: esp - vll, D12: ala - rma, V20: lev - gra, S12: bcn - vlc]\n"
          ]
        },
        {
          "output_type": "stream",
          "name": "stderr",
          "text": [
            "\r 50%|█████     | 75/150 [00:52<00:55,  1.36it/s]"
          ]
        },
        {
          "output_type": "stream",
          "name": "stdout",
          "text": [
            "Generacion # 74 : audiencia  2.23015 , solución es: [S12: ath - rso, V20: val - osa, V20: leg - bet, V20: mal - eib, D12: cel - atm, D12: esp - vll, D12: ala - rma, V20: lev - gra, S12: bcn - vlc]\n"
          ]
        },
        {
          "output_type": "stream",
          "name": "stderr",
          "text": [
            "\r 51%|█████     | 76/150 [00:53<00:55,  1.34it/s]"
          ]
        },
        {
          "output_type": "stream",
          "name": "stdout",
          "text": [
            "Generacion # 75 : audiencia  2.23015 , solución es: [S12: ath - rso, V20: val - osa, V20: leg - bet, V20: mal - eib, D12: cel - atm, D12: esp - vll, D12: ala - rma, V20: lev - gra, S12: bcn - vlc]\n"
          ]
        },
        {
          "output_type": "stream",
          "name": "stderr",
          "text": [
            "\r 51%|█████▏    | 77/150 [00:54<00:59,  1.23it/s]"
          ]
        },
        {
          "output_type": "stream",
          "name": "stdout",
          "text": [
            "Generacion # 76 : audiencia  2.23015 , solución es: [S12: ath - rso, V20: val - osa, V20: leg - bet, V20: mal - eib, D12: cel - atm, D12: esp - vll, D12: ala - rma, V20: lev - gra, S12: bcn - vlc]\n"
          ]
        },
        {
          "output_type": "stream",
          "name": "stderr",
          "text": [
            "\r 52%|█████▏    | 78/150 [00:55<01:05,  1.10it/s]"
          ]
        },
        {
          "output_type": "stream",
          "name": "stdout",
          "text": [
            "Generacion # 77 : audiencia  2.23015 , solución es: [S12: ath - rso, V20: val - osa, V20: leg - bet, V20: mal - eib, D12: cel - atm, D12: esp - vll, D12: ala - rma, V20: lev - gra, S12: bcn - vlc]\n"
          ]
        },
        {
          "output_type": "stream",
          "name": "stderr",
          "text": [
            "\r 53%|█████▎    | 79/150 [00:56<01:05,  1.09it/s]"
          ]
        },
        {
          "output_type": "stream",
          "name": "stdout",
          "text": [
            "Generacion # 78 : audiencia  2.23015 , solución es: [S12: ath - rso, V20: val - osa, V20: leg - bet, V20: mal - eib, D12: cel - atm, D12: esp - vll, D12: ala - rma, V20: lev - gra, S12: bcn - vlc]\n"
          ]
        },
        {
          "output_type": "stream",
          "name": "stderr",
          "text": [
            "\r 53%|█████▎    | 80/150 [00:56<00:58,  1.19it/s]"
          ]
        },
        {
          "output_type": "stream",
          "name": "stdout",
          "text": [
            "Generacion # 79 : audiencia  2.23015 , solución es: [S12: ath - rso, V20: val - osa, V20: leg - bet, V20: mal - eib, D12: cel - atm, D12: esp - vll, D12: ala - rma, V20: lev - gra, S12: bcn - vlc]\n"
          ]
        },
        {
          "output_type": "stream",
          "name": "stderr",
          "text": [
            "\r 54%|█████▍    | 81/150 [00:57<00:54,  1.27it/s]"
          ]
        },
        {
          "output_type": "stream",
          "name": "stdout",
          "text": [
            "Generacion # 80 : audiencia  2.23015 , solución es: [S12: ath - rso, V20: val - osa, V20: leg - bet, V20: mal - eib, D12: cel - atm, D12: esp - vll, D12: ala - rma, V20: lev - gra, S12: bcn - vlc]\n"
          ]
        },
        {
          "output_type": "stream",
          "name": "stderr",
          "text": [
            "\r 55%|█████▍    | 82/150 [00:58<00:49,  1.37it/s]"
          ]
        },
        {
          "output_type": "stream",
          "name": "stdout",
          "text": [
            "Generacion # 81 : audiencia  2.23015 , solución es: [S12: ath - rso, V20: val - osa, V20: leg - bet, V20: mal - eib, D12: cel - atm, D12: esp - vll, D12: ala - rma, V20: lev - gra, S12: bcn - vlc]\n"
          ]
        },
        {
          "output_type": "stream",
          "name": "stderr",
          "text": [
            "\r 55%|█████▌    | 83/150 [00:58<00:49,  1.35it/s]"
          ]
        },
        {
          "output_type": "stream",
          "name": "stdout",
          "text": [
            "Generacion # 82 : audiencia  2.23015 , solución es: [S12: ath - rso, V20: val - osa, V20: leg - bet, V20: mal - eib, D12: cel - atm, D12: esp - vll, D12: ala - rma, V20: lev - gra, S12: bcn - vlc]\n"
          ]
        },
        {
          "output_type": "stream",
          "name": "stderr",
          "text": [
            "\r 56%|█████▌    | 84/150 [00:59<00:49,  1.34it/s]"
          ]
        },
        {
          "output_type": "stream",
          "name": "stdout",
          "text": [
            "Generacion # 83 : audiencia  2.23015 , solución es: [S12: ath - rso, V20: val - osa, V20: leg - bet, V20: mal - eib, D12: cel - atm, D12: esp - vll, D12: ala - rma, V20: lev - gra, S12: bcn - vlc]\n"
          ]
        },
        {
          "output_type": "stream",
          "name": "stderr",
          "text": [
            "\r 57%|█████▋    | 85/150 [01:00<00:49,  1.32it/s]"
          ]
        },
        {
          "output_type": "stream",
          "name": "stdout",
          "text": [
            "Generacion # 84 : audiencia  2.23015 , solución es: [S12: ath - rso, V20: val - osa, V20: leg - bet, V20: mal - eib, D12: cel - atm, D12: esp - vll, D12: ala - rma, V20: lev - gra, S12: bcn - vlc]\n"
          ]
        },
        {
          "output_type": "stream",
          "name": "stderr",
          "text": [
            "\r 57%|█████▋    | 86/150 [01:01<00:47,  1.35it/s]"
          ]
        },
        {
          "output_type": "stream",
          "name": "stdout",
          "text": [
            "Generacion # 85 : audiencia  2.23015 , solución es: [S12: ath - rso, V20: val - osa, V20: leg - bet, V20: mal - eib, D12: cel - atm, D12: esp - vll, D12: ala - rma, V20: lev - gra, S12: bcn - vlc]\n"
          ]
        },
        {
          "output_type": "stream",
          "name": "stderr",
          "text": [
            "\r 58%|█████▊    | 87/150 [01:01<00:45,  1.38it/s]"
          ]
        },
        {
          "output_type": "stream",
          "name": "stdout",
          "text": [
            "Generacion # 86 : audiencia  2.23015 , solución es: [S12: ath - rso, V20: val - osa, V20: leg - bet, V20: mal - eib, D12: cel - atm, D12: esp - vll, D12: ala - rma, V20: lev - gra, S12: bcn - vlc]\n"
          ]
        },
        {
          "output_type": "stream",
          "name": "stderr",
          "text": [
            "\r 59%|█████▊    | 88/150 [01:02<00:45,  1.36it/s]"
          ]
        },
        {
          "output_type": "stream",
          "name": "stdout",
          "text": [
            "Generacion # 87 : audiencia  2.23015 , solución es: [S12: ath - rso, V20: val - osa, V20: leg - bet, V20: mal - eib, D12: cel - atm, D12: esp - vll, D12: ala - rma, V20: lev - gra, S12: bcn - vlc]\n"
          ]
        },
        {
          "output_type": "stream",
          "name": "stderr",
          "text": [
            "\r 59%|█████▉    | 89/150 [01:03<00:44,  1.38it/s]"
          ]
        },
        {
          "output_type": "stream",
          "name": "stdout",
          "text": [
            "Generacion # 88 : audiencia  2.23015 , solución es: [S12: ath - rso, V20: val - osa, V20: leg - bet, V20: mal - eib, D12: cel - atm, D12: esp - vll, D12: ala - rma, V20: lev - gra, S12: bcn - vlc]\n"
          ]
        },
        {
          "output_type": "stream",
          "name": "stderr",
          "text": [
            "\r 60%|██████    | 90/150 [01:03<00:40,  1.50it/s]"
          ]
        },
        {
          "output_type": "stream",
          "name": "stdout",
          "text": [
            "Generacion # 89 : audiencia  2.23015 , solución es: [S12: ath - rso, V20: val - osa, V20: leg - bet, V20: mal - eib, D12: cel - atm, D12: esp - vll, D12: ala - rma, V20: lev - gra, S12: bcn - vlc]\n"
          ]
        },
        {
          "output_type": "stream",
          "name": "stderr",
          "text": [
            "\r 61%|██████    | 91/150 [01:04<00:41,  1.43it/s]"
          ]
        },
        {
          "output_type": "stream",
          "name": "stdout",
          "text": [
            "Generacion # 90 : audiencia  2.23015 , solución es: [S12: ath - rso, V20: val - osa, V20: leg - bet, V20: mal - eib, D12: cel - atm, D12: esp - vll, D12: ala - rma, V20: lev - gra, S12: bcn - vlc]\n"
          ]
        },
        {
          "output_type": "stream",
          "name": "stderr",
          "text": [
            "\r 61%|██████▏   | 92/150 [01:05<00:40,  1.44it/s]"
          ]
        },
        {
          "output_type": "stream",
          "name": "stdout",
          "text": [
            "Generacion # 91 : audiencia  2.23015 , solución es: [S12: ath - rso, V20: val - osa, V20: leg - bet, V20: mal - eib, D12: cel - atm, D12: esp - vll, D12: ala - rma, V20: lev - gra, S12: bcn - vlc]\n"
          ]
        },
        {
          "output_type": "stream",
          "name": "stderr",
          "text": [
            "\r 62%|██████▏   | 93/150 [01:05<00:39,  1.45it/s]"
          ]
        },
        {
          "output_type": "stream",
          "name": "stdout",
          "text": [
            "Generacion # 92 : audiencia  2.23015 , solución es: [S12: ath - rso, V20: val - osa, V20: leg - bet, V20: mal - eib, D12: cel - atm, D12: esp - vll, D12: ala - rma, V20: lev - gra, S12: bcn - vlc]\n"
          ]
        },
        {
          "output_type": "stream",
          "name": "stderr",
          "text": [
            "\r 63%|██████▎   | 94/150 [01:07<00:47,  1.19it/s]"
          ]
        },
        {
          "output_type": "stream",
          "name": "stdout",
          "text": [
            "Generacion # 93 : audiencia  2.23015 , solución es: [S12: ath - rso, V20: val - osa, V20: leg - bet, V20: mal - eib, D12: cel - atm, D12: esp - vll, D12: ala - rma, V20: lev - gra, S12: bcn - vlc]\n"
          ]
        },
        {
          "output_type": "stream",
          "name": "stderr",
          "text": [
            "\r 63%|██████▎   | 95/150 [01:08<00:52,  1.05it/s]"
          ]
        },
        {
          "output_type": "stream",
          "name": "stdout",
          "text": [
            "Generacion # 94 : audiencia  2.23015 , solución es: [S12: ath - rso, V20: val - osa, V20: leg - bet, V20: mal - eib, D12: cel - atm, D12: esp - vll, D12: ala - rma, V20: lev - gra, S12: bcn - vlc]\n"
          ]
        },
        {
          "output_type": "stream",
          "name": "stderr",
          "text": [
            "\r 64%|██████▍   | 96/150 [01:09<00:45,  1.18it/s]"
          ]
        },
        {
          "output_type": "stream",
          "name": "stdout",
          "text": [
            "Generacion # 95 : audiencia  2.23015 , solución es: [S12: ath - rso, V20: val - osa, V20: leg - bet, V20: mal - eib, D12: cel - atm, D12: esp - vll, D12: ala - rma, V20: lev - gra, S12: bcn - vlc]\n"
          ]
        },
        {
          "output_type": "stream",
          "name": "stderr",
          "text": [
            "\r 65%|██████▍   | 97/150 [01:09<00:43,  1.22it/s]"
          ]
        },
        {
          "output_type": "stream",
          "name": "stdout",
          "text": [
            "Generacion # 96 : audiencia  2.23015 , solución es: [S12: ath - rso, V20: val - osa, V20: leg - bet, V20: mal - eib, D12: cel - atm, D12: esp - vll, D12: ala - rma, V20: lev - gra, S12: bcn - vlc]\n"
          ]
        },
        {
          "output_type": "stream",
          "name": "stderr",
          "text": [
            "\r 65%|██████▌   | 98/150 [01:10<00:41,  1.24it/s]"
          ]
        },
        {
          "output_type": "stream",
          "name": "stdout",
          "text": [
            "Generacion # 97 : audiencia  2.23015 , solución es: [S12: ath - rso, V20: val - osa, V20: leg - bet, V20: mal - eib, D12: cel - atm, D12: esp - vll, D12: ala - rma, V20: lev - gra, S12: bcn - vlc]\n"
          ]
        },
        {
          "output_type": "stream",
          "name": "stderr",
          "text": [
            "\r 66%|██████▌   | 99/150 [01:11<00:39,  1.28it/s]"
          ]
        },
        {
          "output_type": "stream",
          "name": "stdout",
          "text": [
            "Generacion # 98 : audiencia  2.23015 , solución es: [S12: ath - rso, V20: val - osa, V20: leg - bet, V20: mal - eib, D12: cel - atm, D12: esp - vll, D12: ala - rma, V20: lev - gra, S12: bcn - vlc]\n"
          ]
        },
        {
          "output_type": "stream",
          "name": "stderr",
          "text": [
            "\r 67%|██████▋   | 100/150 [01:12<00:38,  1.30it/s]"
          ]
        },
        {
          "output_type": "stream",
          "name": "stdout",
          "text": [
            "Generacion # 99 : audiencia  2.23015 , solución es: [S12: ath - rso, V20: val - osa, V20: leg - bet, V20: mal - eib, D12: cel - atm, D12: esp - vll, D12: ala - rma, V20: lev - gra, S12: bcn - vlc]\n"
          ]
        },
        {
          "output_type": "stream",
          "name": "stderr",
          "text": [
            "\r 67%|██████▋   | 101/150 [01:12<00:37,  1.31it/s]"
          ]
        },
        {
          "output_type": "stream",
          "name": "stdout",
          "text": [
            "Generacion # 100 : audiencia  2.23015 , solución es: [S12: ath - rso, V20: val - osa, V20: leg - bet, V20: mal - eib, D12: cel - atm, D12: esp - vll, D12: ala - rma, V20: lev - gra, S12: bcn - vlc]\n"
          ]
        },
        {
          "output_type": "stream",
          "name": "stderr",
          "text": [
            "\r 68%|██████▊   | 102/150 [01:13<00:35,  1.35it/s]"
          ]
        },
        {
          "output_type": "stream",
          "name": "stdout",
          "text": [
            "Generacion # 101 : audiencia  2.23015 , solución es: [S12: ath - rso, V20: val - osa, V20: leg - bet, V20: mal - eib, D12: cel - atm, D12: esp - vll, D12: ala - rma, V20: lev - gra, S12: bcn - vlc]\n"
          ]
        },
        {
          "output_type": "stream",
          "name": "stderr",
          "text": [
            "\r 69%|██████▊   | 103/150 [01:14<00:33,  1.42it/s]"
          ]
        },
        {
          "output_type": "stream",
          "name": "stdout",
          "text": [
            "Generacion # 102 : audiencia  2.23015 , solución es: [S12: ath - rso, V20: val - osa, V20: leg - bet, V20: mal - eib, D12: cel - atm, D12: esp - vll, D12: ala - rma, V20: lev - gra, S12: bcn - vlc]\n"
          ]
        },
        {
          "output_type": "stream",
          "name": "stderr",
          "text": [
            "\r 69%|██████▉   | 104/150 [01:14<00:31,  1.45it/s]"
          ]
        },
        {
          "output_type": "stream",
          "name": "stdout",
          "text": [
            "Generacion # 103 : audiencia  2.23015 , solución es: [S12: ath - rso, V20: val - osa, V20: leg - bet, V20: mal - eib, D12: cel - atm, D12: esp - vll, D12: ala - rma, V20: lev - gra, S12: bcn - vlc]\n"
          ]
        },
        {
          "output_type": "stream",
          "name": "stderr",
          "text": [
            "\r 70%|███████   | 105/150 [01:15<00:32,  1.40it/s]"
          ]
        },
        {
          "output_type": "stream",
          "name": "stdout",
          "text": [
            "Generacion # 104 : audiencia  2.23015 , solución es: [S12: ath - rso, V20: val - osa, V20: leg - bet, V20: mal - eib, D12: cel - atm, D12: esp - vll, D12: ala - rma, V20: lev - gra, S12: bcn - vlc]\n"
          ]
        },
        {
          "output_type": "stream",
          "name": "stderr",
          "text": [
            "\r 71%|███████   | 106/150 [01:16<00:32,  1.34it/s]"
          ]
        },
        {
          "output_type": "stream",
          "name": "stdout",
          "text": [
            "Generacion # 105 : audiencia  2.23015 , solución es: [S12: ath - rso, V20: val - osa, V20: leg - bet, V20: mal - eib, D12: cel - atm, D12: esp - vll, D12: ala - rma, V20: lev - gra, S12: bcn - vlc]\n"
          ]
        },
        {
          "output_type": "stream",
          "name": "stderr",
          "text": [
            "\r 71%|███████▏  | 107/150 [01:16<00:29,  1.46it/s]"
          ]
        },
        {
          "output_type": "stream",
          "name": "stdout",
          "text": [
            "Generacion # 106 : audiencia  2.23015 , solución es: [S12: ath - rso, V20: val - osa, V20: leg - bet, V20: mal - eib, D12: cel - atm, D12: esp - vll, D12: ala - rma, V20: lev - gra, S12: bcn - vlc]\n"
          ]
        },
        {
          "output_type": "stream",
          "name": "stderr",
          "text": [
            "\r 72%|███████▏  | 108/150 [01:17<00:29,  1.41it/s]"
          ]
        },
        {
          "output_type": "stream",
          "name": "stdout",
          "text": [
            "Generacion # 107 : audiencia  2.23015 , solución es: [S12: ath - rso, V20: val - osa, V20: leg - bet, V20: mal - eib, D12: cel - atm, D12: esp - vll, D12: ala - rma, V20: lev - gra, S12: bcn - vlc]\n"
          ]
        },
        {
          "output_type": "stream",
          "name": "stderr",
          "text": [
            "\r 73%|███████▎  | 109/150 [01:18<00:29,  1.38it/s]"
          ]
        },
        {
          "output_type": "stream",
          "name": "stdout",
          "text": [
            "Generacion # 108 : audiencia  2.23015 , solución es: [S12: ath - rso, V20: val - osa, V20: leg - bet, V20: mal - eib, D12: cel - atm, D12: esp - vll, D12: ala - rma, V20: lev - gra, S12: bcn - vlc]\n"
          ]
        },
        {
          "output_type": "stream",
          "name": "stderr",
          "text": [
            "\r 73%|███████▎  | 110/150 [01:19<00:32,  1.24it/s]"
          ]
        },
        {
          "output_type": "stream",
          "name": "stdout",
          "text": [
            "Generacion # 109 : audiencia  2.23015 , solución es: [S12: ath - rso, V20: val - osa, V20: leg - bet, V20: mal - eib, D12: cel - atm, D12: esp - vll, D12: ala - rma, V20: lev - gra, S12: bcn - vlc]\n"
          ]
        },
        {
          "output_type": "stream",
          "name": "stderr",
          "text": [
            "\r 74%|███████▍  | 111/150 [01:20<00:35,  1.09it/s]"
          ]
        },
        {
          "output_type": "stream",
          "name": "stdout",
          "text": [
            "Generacion # 110 : audiencia  2.23015 , solución es: [S12: ath - rso, V20: val - osa, V20: leg - bet, V20: mal - eib, D12: cel - atm, D12: esp - vll, D12: ala - rma, V20: lev - gra, S12: bcn - vlc]\n"
          ]
        },
        {
          "output_type": "stream",
          "name": "stderr",
          "text": [
            "\r 75%|███████▍  | 112/150 [01:21<00:34,  1.10it/s]"
          ]
        },
        {
          "output_type": "stream",
          "name": "stdout",
          "text": [
            "Generacion # 111 : audiencia  2.23015 , solución es: [S12: ath - rso, V20: val - osa, V20: leg - bet, V20: mal - eib, D12: cel - atm, D12: esp - vll, D12: ala - rma, V20: lev - gra, S12: bcn - vlc]\n"
          ]
        },
        {
          "output_type": "stream",
          "name": "stderr",
          "text": [
            "\r 75%|███████▌  | 113/150 [01:22<00:30,  1.23it/s]"
          ]
        },
        {
          "output_type": "stream",
          "name": "stdout",
          "text": [
            "Generacion # 112 : audiencia  2.23015 , solución es: [S12: ath - rso, V20: val - osa, V20: leg - bet, V20: mal - eib, D12: cel - atm, D12: esp - vll, D12: ala - rma, V20: lev - gra, S12: bcn - vlc]\n"
          ]
        },
        {
          "output_type": "stream",
          "name": "stderr",
          "text": [
            "\r 76%|███████▌  | 114/150 [01:22<00:28,  1.26it/s]"
          ]
        },
        {
          "output_type": "stream",
          "name": "stdout",
          "text": [
            "Generacion # 113 : audiencia  2.23015 , solución es: [S12: ath - rso, V20: val - osa, V20: leg - bet, V20: mal - eib, D12: cel - atm, D12: esp - vll, D12: ala - rma, V20: lev - gra, S12: bcn - vlc]\n"
          ]
        },
        {
          "output_type": "stream",
          "name": "stderr",
          "text": [
            "\r 77%|███████▋  | 115/150 [01:23<00:27,  1.28it/s]"
          ]
        },
        {
          "output_type": "stream",
          "name": "stdout",
          "text": [
            "Generacion # 114 : audiencia  2.23015 , solución es: [S12: ath - rso, V20: val - osa, V20: leg - bet, V20: mal - eib, D12: cel - atm, D12: esp - vll, D12: ala - rma, V20: lev - gra, S12: bcn - vlc]\n"
          ]
        },
        {
          "output_type": "stream",
          "name": "stderr",
          "text": [
            "\r 77%|███████▋  | 116/150 [01:24<00:26,  1.29it/s]"
          ]
        },
        {
          "output_type": "stream",
          "name": "stdout",
          "text": [
            "Generacion # 115 : audiencia  2.23015 , solución es: [S12: ath - rso, V20: val - osa, V20: leg - bet, V20: mal - eib, D12: cel - atm, D12: esp - vll, D12: ala - rma, V20: lev - gra, S12: bcn - vlc]\n"
          ]
        },
        {
          "output_type": "stream",
          "name": "stderr",
          "text": [
            "\r 78%|███████▊  | 117/150 [01:25<00:25,  1.30it/s]"
          ]
        },
        {
          "output_type": "stream",
          "name": "stdout",
          "text": [
            "Generacion # 116 : audiencia  2.23015 , solución es: [S12: ath - rso, V20: val - osa, V20: leg - bet, V20: mal - eib, D12: cel - atm, D12: esp - vll, D12: ala - rma, V20: lev - gra, S12: bcn - vlc]\n"
          ]
        },
        {
          "output_type": "stream",
          "name": "stderr",
          "text": [
            "\r 79%|███████▊  | 118/150 [01:25<00:24,  1.29it/s]"
          ]
        },
        {
          "output_type": "stream",
          "name": "stdout",
          "text": [
            "Generacion # 117 : audiencia  2.23015 , solución es: [S12: ath - rso, V20: val - osa, V20: leg - bet, V20: mal - eib, D12: cel - atm, D12: esp - vll, D12: ala - rma, V20: lev - gra, S12: bcn - vlc]\n"
          ]
        },
        {
          "output_type": "stream",
          "name": "stderr",
          "text": [
            "\r 79%|███████▉  | 119/150 [01:26<00:23,  1.29it/s]"
          ]
        },
        {
          "output_type": "stream",
          "name": "stdout",
          "text": [
            "Generacion # 118 : audiencia  2.23015 , solución es: [S12: ath - rso, V20: val - osa, V20: leg - bet, V20: mal - eib, D12: cel - atm, D12: esp - vll, D12: ala - rma, V20: lev - gra, S12: bcn - vlc]\n"
          ]
        },
        {
          "output_type": "stream",
          "name": "stderr",
          "text": [
            "\r 80%|████████  | 120/150 [01:27<00:23,  1.29it/s]"
          ]
        },
        {
          "output_type": "stream",
          "name": "stdout",
          "text": [
            "Generacion # 119 : audiencia  2.23015 , solución es: [S12: ath - rso, V20: val - osa, V20: leg - bet, V20: mal - eib, D12: cel - atm, D12: esp - vll, D12: ala - rma, V20: lev - gra, S12: bcn - vlc]\n"
          ]
        },
        {
          "output_type": "stream",
          "name": "stderr",
          "text": [
            "\r 81%|████████  | 121/150 [01:28<00:22,  1.28it/s]"
          ]
        },
        {
          "output_type": "stream",
          "name": "stdout",
          "text": [
            "Generacion # 120 : audiencia  2.23015 , solución es: [S12: ath - rso, V20: val - osa, V20: leg - bet, V20: mal - eib, D12: cel - atm, D12: esp - vll, D12: ala - rma, V20: lev - gra, S12: bcn - vlc]\n"
          ]
        },
        {
          "output_type": "stream",
          "name": "stderr",
          "text": [
            "\r 81%|████████▏ | 122/150 [01:28<00:22,  1.26it/s]"
          ]
        },
        {
          "output_type": "stream",
          "name": "stdout",
          "text": [
            "Generacion # 121 : audiencia  2.23015 , solución es: [S12: ath - rso, V20: val - osa, V20: leg - bet, V20: mal - eib, D12: cel - atm, D12: esp - vll, D12: ala - rma, V20: lev - gra, S12: bcn - vlc]\n"
          ]
        },
        {
          "output_type": "stream",
          "name": "stderr",
          "text": [
            "\r 82%|████████▏ | 123/150 [01:29<00:19,  1.38it/s]"
          ]
        },
        {
          "output_type": "stream",
          "name": "stdout",
          "text": [
            "Generacion # 122 : audiencia  2.23015 , solución es: [S12: ath - rso, V20: val - osa, V20: leg - bet, V20: mal - eib, D12: cel - atm, D12: esp - vll, D12: ala - rma, V20: lev - gra, S12: bcn - vlc]\n"
          ]
        },
        {
          "output_type": "stream",
          "name": "stderr",
          "text": [
            "\r 83%|████████▎ | 124/150 [01:30<00:18,  1.41it/s]"
          ]
        },
        {
          "output_type": "stream",
          "name": "stdout",
          "text": [
            "Generacion # 123 : audiencia  2.23015 , solución es: [S12: ath - rso, V20: val - osa, V20: leg - bet, V20: mal - eib, D12: cel - atm, D12: esp - vll, D12: ala - rma, V20: lev - gra, S12: bcn - vlc]\n"
          ]
        },
        {
          "output_type": "stream",
          "name": "stderr",
          "text": [
            "\r 83%|████████▎ | 125/150 [01:30<00:17,  1.45it/s]"
          ]
        },
        {
          "output_type": "stream",
          "name": "stdout",
          "text": [
            "Generacion # 124 : audiencia  2.23015 , solución es: [S12: ath - rso, V20: val - osa, V20: leg - bet, V20: mal - eib, D12: cel - atm, D12: esp - vll, D12: ala - rma, V20: lev - gra, S12: bcn - vlc]\n"
          ]
        },
        {
          "output_type": "stream",
          "name": "stderr",
          "text": [
            "\r 84%|████████▍ | 126/150 [01:31<00:19,  1.25it/s]"
          ]
        },
        {
          "output_type": "stream",
          "name": "stdout",
          "text": [
            "Generacion # 125 : audiencia  2.23015 , solución es: [S12: ath - rso, V20: val - osa, V20: leg - bet, V20: mal - eib, D12: cel - atm, D12: esp - vll, D12: ala - rma, V20: lev - gra, S12: bcn - vlc]\n"
          ]
        },
        {
          "output_type": "stream",
          "name": "stderr",
          "text": [
            "\r 85%|████████▍ | 127/150 [01:33<00:21,  1.08it/s]"
          ]
        },
        {
          "output_type": "stream",
          "name": "stdout",
          "text": [
            "Generacion # 126 : audiencia  2.23015 , solución es: [S12: ath - rso, V20: val - osa, V20: leg - bet, V20: mal - eib, D12: cel - atm, D12: esp - vll, D12: ala - rma, V20: lev - gra, S12: bcn - vlc]\n"
          ]
        },
        {
          "output_type": "stream",
          "name": "stderr",
          "text": [
            "\r 85%|████████▌ | 128/150 [01:34<00:20,  1.08it/s]"
          ]
        },
        {
          "output_type": "stream",
          "name": "stdout",
          "text": [
            "Generacion # 127 : audiencia  2.23015 , solución es: [S12: ath - rso, V20: val - osa, V20: leg - bet, V20: mal - eib, D12: cel - atm, D12: esp - vll, D12: ala - rma, V20: lev - gra, S12: bcn - vlc]\n"
          ]
        },
        {
          "output_type": "stream",
          "name": "stderr",
          "text": [
            "\r 86%|████████▌ | 129/150 [01:34<00:17,  1.22it/s]"
          ]
        },
        {
          "output_type": "stream",
          "name": "stdout",
          "text": [
            "Generacion # 128 : audiencia  2.23015 , solución es: [S12: ath - rso, V20: val - osa, V20: leg - bet, V20: mal - eib, D12: cel - atm, D12: esp - vll, D12: ala - rma, V20: lev - gra, S12: bcn - vlc]\n"
          ]
        },
        {
          "output_type": "stream",
          "name": "stderr",
          "text": [
            "\r 87%|████████▋ | 130/150 [01:35<00:15,  1.29it/s]"
          ]
        },
        {
          "output_type": "stream",
          "name": "stdout",
          "text": [
            "Generacion # 129 : audiencia  2.23015 , solución es: [S12: ath - rso, V20: val - osa, V20: leg - bet, V20: mal - eib, D12: cel - atm, D12: esp - vll, D12: ala - rma, V20: lev - gra, S12: bcn - vlc]\n"
          ]
        },
        {
          "output_type": "stream",
          "name": "stderr",
          "text": [
            "\r 87%|████████▋ | 131/150 [01:36<00:14,  1.31it/s]"
          ]
        },
        {
          "output_type": "stream",
          "name": "stdout",
          "text": [
            "Generacion # 130 : audiencia  2.23015 , solución es: [S12: ath - rso, V20: val - osa, V20: leg - bet, V20: mal - eib, D12: cel - atm, D12: esp - vll, D12: ala - rma, V20: lev - gra, S12: bcn - vlc]\n"
          ]
        },
        {
          "output_type": "stream",
          "name": "stderr",
          "text": [
            "\r 88%|████████▊ | 132/150 [01:36<00:13,  1.32it/s]"
          ]
        },
        {
          "output_type": "stream",
          "name": "stdout",
          "text": [
            "Generacion # 131 : audiencia  2.23015 , solución es: [S12: ath - rso, V20: val - osa, V20: leg - bet, V20: mal - eib, D12: cel - atm, D12: esp - vll, D12: ala - rma, V20: lev - gra, S12: bcn - vlc]\n"
          ]
        },
        {
          "output_type": "stream",
          "name": "stderr",
          "text": [
            "\r 89%|████████▊ | 133/150 [01:37<00:12,  1.38it/s]"
          ]
        },
        {
          "output_type": "stream",
          "name": "stdout",
          "text": [
            "Generacion # 132 : audiencia  2.23015 , solución es: [S12: ath - rso, V20: val - osa, V20: leg - bet, V20: mal - eib, D12: cel - atm, D12: esp - vll, D12: ala - rma, V20: lev - gra, S12: bcn - vlc]\n"
          ]
        },
        {
          "output_type": "stream",
          "name": "stderr",
          "text": [
            "\r 89%|████████▉ | 134/150 [01:38<00:11,  1.41it/s]"
          ]
        },
        {
          "output_type": "stream",
          "name": "stdout",
          "text": [
            "Generacion # 133 : audiencia  2.23015 , solución es: [S12: ath - rso, V20: val - osa, V20: leg - bet, V20: mal - eib, D12: cel - atm, D12: esp - vll, D12: ala - rma, V20: lev - gra, S12: bcn - vlc]\n"
          ]
        },
        {
          "output_type": "stream",
          "name": "stderr",
          "text": [
            "\r 90%|█████████ | 135/150 [01:38<00:10,  1.41it/s]"
          ]
        },
        {
          "output_type": "stream",
          "name": "stdout",
          "text": [
            "Generacion # 134 : audiencia  2.23015 , solución es: [S12: ath - rso, V20: val - osa, V20: leg - bet, V20: mal - eib, D12: cel - atm, D12: esp - vll, D12: ala - rma, V20: lev - gra, S12: bcn - vlc]\n"
          ]
        },
        {
          "output_type": "stream",
          "name": "stderr",
          "text": [
            "\r 91%|█████████ | 136/150 [01:39<00:09,  1.48it/s]"
          ]
        },
        {
          "output_type": "stream",
          "name": "stdout",
          "text": [
            "Generacion # 135 : audiencia  2.23015 , solución es: [S12: ath - rso, V20: val - osa, V20: leg - bet, V20: mal - eib, D12: cel - atm, D12: esp - vll, D12: ala - rma, V20: lev - gra, S12: bcn - vlc]\n"
          ]
        },
        {
          "output_type": "stream",
          "name": "stderr",
          "text": [
            "\r 91%|█████████▏| 137/150 [01:40<00:09,  1.44it/s]"
          ]
        },
        {
          "output_type": "stream",
          "name": "stdout",
          "text": [
            "Generacion # 136 : audiencia  2.23015 , solución es: [S12: ath - rso, V20: val - osa, V20: leg - bet, V20: mal - eib, D12: cel - atm, D12: esp - vll, D12: ala - rma, V20: lev - gra, S12: bcn - vlc]\n"
          ]
        },
        {
          "output_type": "stream",
          "name": "stderr",
          "text": [
            "\r 92%|█████████▏| 138/150 [01:40<00:08,  1.39it/s]"
          ]
        },
        {
          "output_type": "stream",
          "name": "stdout",
          "text": [
            "Generacion # 137 : audiencia  2.23015 , solución es: [S12: ath - rso, V20: val - osa, V20: leg - bet, V20: mal - eib, D12: cel - atm, D12: esp - vll, D12: ala - rma, V20: lev - gra, S12: bcn - vlc]\n"
          ]
        },
        {
          "output_type": "stream",
          "name": "stderr",
          "text": [
            "\r 93%|█████████▎| 139/150 [01:41<00:07,  1.38it/s]"
          ]
        },
        {
          "output_type": "stream",
          "name": "stdout",
          "text": [
            "Generacion # 138 : audiencia  2.23015 , solución es: [S12: ath - rso, V20: val - osa, V20: leg - bet, V20: mal - eib, D12: cel - atm, D12: esp - vll, D12: ala - rma, V20: lev - gra, S12: bcn - vlc]\n"
          ]
        },
        {
          "output_type": "stream",
          "name": "stderr",
          "text": [
            "\r 93%|█████████▎| 140/150 [01:42<00:07,  1.42it/s]"
          ]
        },
        {
          "output_type": "stream",
          "name": "stdout",
          "text": [
            "Generacion # 139 : audiencia  2.23015 , solución es: [S12: ath - rso, V20: val - osa, V20: leg - bet, V20: mal - eib, D12: cel - atm, D12: esp - vll, D12: ala - rma, V20: lev - gra, S12: bcn - vlc]\n"
          ]
        },
        {
          "output_type": "stream",
          "name": "stderr",
          "text": [
            "\r 94%|█████████▍| 141/150 [01:42<00:06,  1.45it/s]"
          ]
        },
        {
          "output_type": "stream",
          "name": "stdout",
          "text": [
            "Generacion # 140 : audiencia  2.23015 , solución es: [S12: ath - rso, V20: val - osa, V20: leg - bet, V20: mal - eib, D12: cel - atm, D12: esp - vll, D12: ala - rma, V20: lev - gra, S12: bcn - vlc]\n"
          ]
        },
        {
          "output_type": "stream",
          "name": "stderr",
          "text": [
            "\r 95%|█████████▍| 142/150 [01:43<00:05,  1.34it/s]"
          ]
        },
        {
          "output_type": "stream",
          "name": "stdout",
          "text": [
            "Generacion # 141 : audiencia  2.23015 , solución es: [S12: ath - rso, V20: val - osa, V20: leg - bet, V20: mal - eib, D12: cel - atm, D12: esp - vll, D12: ala - rma, V20: lev - gra, S12: bcn - vlc]\n"
          ]
        },
        {
          "output_type": "stream",
          "name": "stderr",
          "text": [
            "\r 95%|█████████▌| 143/150 [01:44<00:05,  1.18it/s]"
          ]
        },
        {
          "output_type": "stream",
          "name": "stdout",
          "text": [
            "Generacion # 142 : audiencia  2.23015 , solución es: [S12: ath - rso, V20: val - osa, V20: leg - bet, V20: mal - eib, D12: cel - atm, D12: esp - vll, D12: ala - rma, V20: lev - gra, S12: bcn - vlc]\n"
          ]
        },
        {
          "output_type": "stream",
          "name": "stderr",
          "text": [
            "\r 96%|█████████▌| 144/150 [01:46<00:05,  1.07it/s]"
          ]
        },
        {
          "output_type": "stream",
          "name": "stdout",
          "text": [
            "Generacion # 143 : audiencia  2.23015 , solución es: [S12: ath - rso, V20: val - osa, V20: leg - bet, V20: mal - eib, D12: cel - atm, D12: esp - vll, D12: ala - rma, V20: lev - gra, S12: bcn - vlc]\n"
          ]
        },
        {
          "output_type": "stream",
          "name": "stderr",
          "text": [
            "\r 97%|█████████▋| 145/150 [01:46<00:04,  1.16it/s]"
          ]
        },
        {
          "output_type": "stream",
          "name": "stdout",
          "text": [
            "Generacion # 144 : audiencia  2.23015 , solución es: [S12: ath - rso, V20: val - osa, V20: leg - bet, V20: mal - eib, D12: cel - atm, D12: esp - vll, D12: ala - rma, V20: lev - gra, S12: bcn - vlc]\n"
          ]
        },
        {
          "output_type": "stream",
          "name": "stderr",
          "text": [
            "\r 97%|█████████▋| 146/150 [01:47<00:03,  1.20it/s]"
          ]
        },
        {
          "output_type": "stream",
          "name": "stdout",
          "text": [
            "Generacion # 145 : audiencia  2.23015 , solución es: [S12: ath - rso, V20: val - osa, V20: leg - bet, V20: mal - eib, D12: cel - atm, D12: esp - vll, D12: ala - rma, V20: lev - gra, S12: bcn - vlc]\n"
          ]
        },
        {
          "output_type": "stream",
          "name": "stderr",
          "text": [
            "\r 98%|█████████▊| 147/150 [01:48<00:02,  1.30it/s]"
          ]
        },
        {
          "output_type": "stream",
          "name": "stdout",
          "text": [
            "Generacion # 146 : audiencia  2.23015 , solución es: [S12: ath - rso, V20: val - osa, V20: leg - bet, V20: mal - eib, D12: cel - atm, D12: esp - vll, D12: ala - rma, V20: lev - gra, S12: bcn - vlc]\n"
          ]
        },
        {
          "output_type": "stream",
          "name": "stderr",
          "text": [
            "\r 99%|█████████▊| 148/150 [01:48<00:01,  1.31it/s]"
          ]
        },
        {
          "output_type": "stream",
          "name": "stdout",
          "text": [
            "Generacion # 147 : audiencia  2.23015 , solución es: [S12: ath - rso, V20: val - osa, V20: leg - bet, V20: mal - eib, D12: cel - atm, D12: esp - vll, D12: ala - rma, V20: lev - gra, S12: bcn - vlc]\n"
          ]
        },
        {
          "output_type": "stream",
          "name": "stderr",
          "text": [
            "\r 99%|█████████▉| 149/150 [01:49<00:00,  1.31it/s]"
          ]
        },
        {
          "output_type": "stream",
          "name": "stdout",
          "text": [
            "Generacion # 148 : audiencia  2.23015 , solución es: [S12: ath - rso, V20: val - osa, V20: leg - bet, V20: mal - eib, D12: cel - atm, D12: esp - vll, D12: ala - rma, V20: lev - gra, S12: bcn - vlc]\n"
          ]
        },
        {
          "output_type": "stream",
          "name": "stderr",
          "text": [
            "100%|██████████| 150/150 [01:50<00:00,  1.36it/s]"
          ]
        },
        {
          "output_type": "stream",
          "name": "stdout",
          "text": [
            "Generacion # 149 : audiencia  2.23015 , solución es: [S12: ath - rso, V20: val - osa, V20: leg - bet, V20: mal - eib, D12: cel - atm, D12: esp - vll, D12: ala - rma, V20: lev - gra, S12: bcn - vlc]\n",
            "-------------------------------------\n",
            "La solución encontrada ha sido: \n",
            "V20: Valladolid - Osasuna\n",
            "V20: Leganés - Betis\n",
            "V20: Mallorca - Eibar\n",
            "V20: Levante - Granada\n",
            "S12: Athletic - Real Sociedad\n",
            "S12: Barcelona - Valencia\n",
            "D12: Celta - Atlético\n",
            "D12: Espanyol - Villarreal\n",
            "D12: Alavés - Real Madrid\n",
            "Con una audiencia total de  2.23015  millones de espectadores.\n"
          ]
        },
        {
          "output_type": "stream",
          "name": "stderr",
          "text": [
            "\n"
          ]
        }
      ]
    },
    {
      "cell_type": "markdown",
      "metadata": {
        "id": "eTFWUJQrtGcv"
      },
      "source": [
        "Enumera las referencias que has utilizado(si ha sido necesario) para llevar a cabo el trabajo"
      ]
    },
    {
      "cell_type": "markdown",
      "metadata": {
        "id": "YKQ_mRBttWsP"
      },
      "source": [
        "Respuesta\n",
        "\n",
        "* Manual Master IA VIU\n",
        "* Notebook clase Algoritmo Genético para TSP\n",
        "* [Introducción a los Algoritmos Genéticos](http://sabia.tic.udc.es/mgestal/cv/AAGGtutorial/). Marcos Gestal Pose. Universidad de Coruña\n",
        "* [Tema 2. Algoritmos Genéticos](http://www.sc.ehu.es/ccwbayes/docencia/mmcc/docs/t2geneticos). Abdelmalik Moujahid, Iñaki Inza y Pedro Larrañaga. Departamento de Ciencias de la Computación e Inteligencia Artificial. Universidad del País Vasco–Euskal Herriko Unibertsitatea"
      ]
    },
    {
      "cell_type": "markdown",
      "metadata": {
        "id": "kAkDPUyRtYyH"
      },
      "source": [
        "Describe brevemente las lineas de como crees que es posible avanzar en el estudio del problema. Ten en cuenta incluso posibles variaciones del problema y/o variaciones al alza del tamaño"
      ]
    },
    {
      "cell_type": "markdown",
      "metadata": {
        "id": "IE0uZmo-tZu-"
      },
      "source": [
        "Respuesta\n",
        "\n",
        "La primera de las variaciones (de hecho la estructura de clases está pensada en este sentido) es aleatorizar los partidos. De esta forma podemos transformar el ejercicio en una búsqueda de los partidos y horarios óptimos para maximizar audiencia. A nivel de programación, simplemente consistiría en aleatorizar el array ```ARRAY_PARTIDOS```.\n",
        "\n",
        "Otra complicación podría ser que en al audiencia influyera qué equipo es local y qué equipo visitante. Se trata de hecho, de un comportamiento habitual en LaLiga, pues hay equipo que tienen fama de ser más díficiles de ganar cuando juegan en casa, lo que puede añadir atractivo al partido. Esto quedaría solventado añadiendo un factor de corrección al emplearse la función ```corregir_coincidencias()```. En caso de una serie de datos más complicados para determinar este caso, estos podrían almacenarse en una matriz y hacer una búsqueda de índices de equipos por filas y columnas en caso de que estos sean locales y/o visitantes.\n",
        "\n",
        "Otra complicación sería añadir más restricciones. Estas podrían modelar casos de la vida real en caso de que ciertos horarios de una determinada jornada coincidiera con otro tipo de eventos a nivel nacional y/o internacional. En este caso habría que hacer un estudio de restricciones un poco más detallado en al construcción de los individuos de la población, garantizando que estos siempre cumplan dichas restricciones."
      ]
    }
  ],
  "metadata": {
    "colab": {
      "provenance": [],
      "include_colab_link": true
    },
    "kernelspec": {
      "display_name": "Python 3",
      "name": "python3"
    }
  },
  "nbformat": 4,
  "nbformat_minor": 0
}