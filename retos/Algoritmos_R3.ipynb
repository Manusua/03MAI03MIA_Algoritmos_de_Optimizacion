{
 "cells": [
  {
   "cell_type": "markdown",
   "metadata": {},
   "source": [
    "\n",
    "Reto 3 (1ª Convocatoria)\n",
    "Implementar uno de los siguientes retos:\n",
    "\n",
    "* Mejorar la implementación de búsqueda local implementada en  clase sobre el TSP con otros operadores de vecindad.\n",
    "* Implementar el algoritmo de búsqueda tabú para el TSP de la AG3.\n",
    "* Mejorar la implementación de recocido simulado implementado en clase sobre el TSP eligiendo una generación de solución vecina con un grado de aleatoriedad menor (función genera_vecino_aleatorio()).\n",
    "* Mejorar la implementación de colonia de hormigas implementada en clase sobre el TSP mediante una elección de nodo que tenga en consideración una función de probabilidad que depende de las feromonas.\n",
    "* Mejorar la implementación del algoritmo genético propuesto para la resolución del TSP.\n",
    "\n",
    "La fecha límite de entrega será el próximo día 01/03/2024 a las 23:59 horas.\n",
    "El formato de entrega será el de Jupyter Notebook exportado a HTML. Se debe mostrar el resultado de ejecución de las celdas. Se debe mostrar el resultado de, al menos, dos pruebas de cada algoritmo implementado para condiciones de entrada diferentes. Se deberá adjuntar también el archivo con extensión IPYNB o un enlace a Github por si es necesaria la ejecución de código.\n"
   ]
  }
 ],
 "metadata": {
  "colab": {
   "provenance": []
  },
  "kernelspec": {
   "display_name": "Python 3 (ipykernel)",
   "language": "python",
   "name": "python3"
  },
  "language_info": {
   "codemirror_mode": {
    "name": "ipython",
    "version": 3
   },
   "file_extension": ".py",
   "mimetype": "text/x-python",
   "name": "python",
   "nbconvert_exporter": "python",
   "pygments_lexer": "ipython3",
   "version": "3.11.5"
  }
 },
 "nbformat": 4,
 "nbformat_minor": 1
}
